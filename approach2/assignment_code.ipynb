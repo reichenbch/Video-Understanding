{
 "cells": [
  {
   "cell_type": "markdown",
   "id": "c895f146-f920-4d0b-b75f-4cc6d562eaf9",
   "metadata": {},
   "source": [
    "## Problem statement\n",
    "\n",
    "Refer readme section for more information."
   ]
  },
  {
   "cell_type": "code",
   "execution_count": 10,
   "id": "ff76eaaf-4a88-4e29-a5c4-61538dfaa061",
   "metadata": {
    "scrolled": true,
    "tags": []
   },
   "outputs": [
    {
     "name": "stdout",
     "output_type": "stream",
     "text": [
      "Requirement already satisfied: pillow in /opt/conda/envs/pytorch/lib/python3.10/site-packages (from -r requirements.txt (line 1)) (10.0.1)\n",
      "Requirement already satisfied: joblib==1.3.1 in /opt/conda/envs/pytorch/lib/python3.10/site-packages (from -r requirements.txt (line 2)) (1.3.1)\n",
      "Requirement already satisfied: numpy==1.23.0 in /opt/conda/envs/pytorch/lib/python3.10/site-packages (from -r requirements.txt (line 3)) (1.23.0)\n",
      "Requirement already satisfied: shapely==2.0.2 in /opt/conda/envs/pytorch/lib/python3.10/site-packages (from -r requirements.txt (line 4)) (2.0.2)\n",
      "Requirement already satisfied: hdbscan==0.8.33 in /opt/conda/envs/pytorch/lib/python3.10/site-packages (from -r requirements.txt (line 5)) (0.8.33)\n",
      "Requirement already satisfied: umap-learn==0.5.4 in /opt/conda/envs/pytorch/lib/python3.10/site-packages (from -r requirements.txt (line 6)) (0.5.4)\n",
      "Requirement already satisfied: opencv-python==4.7.0.72 in /opt/conda/envs/pytorch/lib/python3.10/site-packages (from -r requirements.txt (line 7)) (4.7.0.72)\n",
      "Requirement already satisfied: ultralyticsplus==0.0.14 in /opt/conda/envs/pytorch/lib/python3.10/site-packages (from -r requirements.txt (line 8)) (0.0.14)\n",
      "Requirement already satisfied: sentence-transformers==2.2.2 in /opt/conda/envs/pytorch/lib/python3.10/site-packages (from -r requirements.txt (line 9)) (2.2.2)\n",
      "Requirement already satisfied: cython<3,>=0.27 in /opt/conda/envs/pytorch/lib/python3.10/site-packages (from hdbscan==0.8.33->-r requirements.txt (line 5)) (0.29.36)\n",
      "Requirement already satisfied: scipy>=1.0 in /opt/conda/envs/pytorch/lib/python3.10/site-packages (from hdbscan==0.8.33->-r requirements.txt (line 5)) (1.11.3)\n",
      "Requirement already satisfied: scikit-learn>=0.20 in /opt/conda/envs/pytorch/lib/python3.10/site-packages (from hdbscan==0.8.33->-r requirements.txt (line 5)) (1.3.2)\n",
      "Requirement already satisfied: numba>=0.51.2 in /opt/conda/envs/pytorch/lib/python3.10/site-packages (from umap-learn==0.5.4->-r requirements.txt (line 6)) (0.58.1)\n",
      "Requirement already satisfied: pynndescent>=0.5 in /opt/conda/envs/pytorch/lib/python3.10/site-packages (from umap-learn==0.5.4->-r requirements.txt (line 6)) (0.5.10)\n",
      "Requirement already satisfied: tqdm in /opt/conda/envs/pytorch/lib/python3.10/site-packages (from umap-learn==0.5.4->-r requirements.txt (line 6)) (4.66.1)\n",
      "Requirement already satisfied: tbb>=2019.0 in /opt/conda/envs/pytorch/lib/python3.10/site-packages (from umap-learn==0.5.4->-r requirements.txt (line 6)) (2021.11.0)\n",
      "Requirement already satisfied: huggingface-hub in /opt/conda/envs/pytorch/lib/python3.10/site-packages (from ultralyticsplus==0.0.14->-r requirements.txt (line 8)) (0.19.4)\n",
      "Requirement already satisfied: fire in /opt/conda/envs/pytorch/lib/python3.10/site-packages (from ultralyticsplus==0.0.14->-r requirements.txt (line 8)) (0.5.0)\n",
      "Requirement already satisfied: ultralytics<8.0.9,>=8.0.7 in /opt/conda/envs/pytorch/lib/python3.10/site-packages (from ultralyticsplus==0.0.14->-r requirements.txt (line 8)) (8.0.8)\n",
      "Requirement already satisfied: sahi<0.12.0,>=0.11.11 in /opt/conda/envs/pytorch/lib/python3.10/site-packages (from ultralyticsplus==0.0.14->-r requirements.txt (line 8)) (0.11.15)\n",
      "Requirement already satisfied: pandas in /opt/conda/envs/pytorch/lib/python3.10/site-packages (from ultralyticsplus==0.0.14->-r requirements.txt (line 8)) (2.0.3)\n",
      "Requirement already satisfied: transformers<5.0.0,>=4.6.0 in /opt/conda/envs/pytorch/lib/python3.10/site-packages (from sentence-transformers==2.2.2->-r requirements.txt (line 9)) (4.35.2)\n",
      "Requirement already satisfied: torch>=1.6.0 in /opt/conda/envs/pytorch/lib/python3.10/site-packages (from sentence-transformers==2.2.2->-r requirements.txt (line 9)) (1.13.1)\n",
      "Requirement already satisfied: torchvision in /opt/conda/envs/pytorch/lib/python3.10/site-packages (from sentence-transformers==2.2.2->-r requirements.txt (line 9)) (0.14.1)\n",
      "Requirement already satisfied: nltk in /opt/conda/envs/pytorch/lib/python3.10/site-packages (from sentence-transformers==2.2.2->-r requirements.txt (line 9)) (3.8.1)\n",
      "Requirement already satisfied: sentencepiece in /opt/conda/envs/pytorch/lib/python3.10/site-packages (from sentence-transformers==2.2.2->-r requirements.txt (line 9)) (0.1.99)\n",
      "Requirement already satisfied: filelock in /opt/conda/envs/pytorch/lib/python3.10/site-packages (from huggingface-hub->ultralyticsplus==0.0.14->-r requirements.txt (line 8)) (3.13.1)\n",
      "Requirement already satisfied: fsspec>=2023.5.0 in /opt/conda/envs/pytorch/lib/python3.10/site-packages (from huggingface-hub->ultralyticsplus==0.0.14->-r requirements.txt (line 8)) (2023.10.0)\n",
      "Requirement already satisfied: requests in /opt/conda/envs/pytorch/lib/python3.10/site-packages (from huggingface-hub->ultralyticsplus==0.0.14->-r requirements.txt (line 8)) (2.31.0)\n",
      "Requirement already satisfied: pyyaml>=5.1 in /opt/conda/envs/pytorch/lib/python3.10/site-packages (from huggingface-hub->ultralyticsplus==0.0.14->-r requirements.txt (line 8)) (6.0.1)\n",
      "Requirement already satisfied: typing-extensions>=3.7.4.3 in /opt/conda/envs/pytorch/lib/python3.10/site-packages (from huggingface-hub->ultralyticsplus==0.0.14->-r requirements.txt (line 8)) (4.8.0)\n",
      "Requirement already satisfied: packaging>=20.9 in /opt/conda/envs/pytorch/lib/python3.10/site-packages (from huggingface-hub->ultralyticsplus==0.0.14->-r requirements.txt (line 8)) (23.2)\n",
      "Requirement already satisfied: llvmlite<0.42,>=0.41.0dev0 in /opt/conda/envs/pytorch/lib/python3.10/site-packages (from numba>=0.51.2->umap-learn==0.5.4->-r requirements.txt (line 6)) (0.41.1)\n",
      "Requirement already satisfied: pybboxes==0.1.6 in /opt/conda/envs/pytorch/lib/python3.10/site-packages (from sahi<0.12.0,>=0.11.11->ultralyticsplus==0.0.14->-r requirements.txt (line 8)) (0.1.6)\n",
      "Requirement already satisfied: terminaltables in /opt/conda/envs/pytorch/lib/python3.10/site-packages (from sahi<0.12.0,>=0.11.11->ultralyticsplus==0.0.14->-r requirements.txt (line 8)) (3.1.10)\n",
      "Requirement already satisfied: click in /opt/conda/envs/pytorch/lib/python3.10/site-packages (from sahi<0.12.0,>=0.11.11->ultralyticsplus==0.0.14->-r requirements.txt (line 8)) (8.1.7)\n",
      "Requirement already satisfied: threadpoolctl>=2.0.0 in /opt/conda/envs/pytorch/lib/python3.10/site-packages (from scikit-learn>=0.20->hdbscan==0.8.33->-r requirements.txt (line 5)) (3.2.0)\n",
      "Requirement already satisfied: nvidia-cuda-runtime-cu11==11.7.99 in /opt/conda/envs/pytorch/lib/python3.10/site-packages (from torch>=1.6.0->sentence-transformers==2.2.2->-r requirements.txt (line 9)) (11.7.99)\n",
      "Requirement already satisfied: nvidia-cudnn-cu11==8.5.0.96 in /opt/conda/envs/pytorch/lib/python3.10/site-packages (from torch>=1.6.0->sentence-transformers==2.2.2->-r requirements.txt (line 9)) (8.5.0.96)\n",
      "Requirement already satisfied: nvidia-cublas-cu11==11.10.3.66 in /opt/conda/envs/pytorch/lib/python3.10/site-packages (from torch>=1.6.0->sentence-transformers==2.2.2->-r requirements.txt (line 9)) (11.10.3.66)\n",
      "Requirement already satisfied: nvidia-cuda-nvrtc-cu11==11.7.99 in /opt/conda/envs/pytorch/lib/python3.10/site-packages (from torch>=1.6.0->sentence-transformers==2.2.2->-r requirements.txt (line 9)) (11.7.99)\n",
      "Requirement already satisfied: setuptools in /opt/conda/envs/pytorch/lib/python3.10/site-packages (from nvidia-cublas-cu11==11.10.3.66->torch>=1.6.0->sentence-transformers==2.2.2->-r requirements.txt (line 9)) (68.2.2)\n",
      "Requirement already satisfied: wheel in /opt/conda/envs/pytorch/lib/python3.10/site-packages (from nvidia-cublas-cu11==11.10.3.66->torch>=1.6.0->sentence-transformers==2.2.2->-r requirements.txt (line 9)) (0.41.3)\n",
      "Requirement already satisfied: regex!=2019.12.17 in /opt/conda/envs/pytorch/lib/python3.10/site-packages (from transformers<5.0.0,>=4.6.0->sentence-transformers==2.2.2->-r requirements.txt (line 9)) (2023.10.3)\n",
      "Requirement already satisfied: tokenizers<0.19,>=0.14 in /opt/conda/envs/pytorch/lib/python3.10/site-packages (from transformers<5.0.0,>=4.6.0->sentence-transformers==2.2.2->-r requirements.txt (line 9)) (0.15.0)\n",
      "Requirement already satisfied: safetensors>=0.3.1 in /opt/conda/envs/pytorch/lib/python3.10/site-packages (from transformers<5.0.0,>=4.6.0->sentence-transformers==2.2.2->-r requirements.txt (line 9)) (0.4.0)\n",
      "Requirement already satisfied: hydra-core>=1.2.0 in /opt/conda/envs/pytorch/lib/python3.10/site-packages (from ultralytics<8.0.9,>=8.0.7->ultralyticsplus==0.0.14->-r requirements.txt (line 8)) (1.3.2)\n",
      "Requirement already satisfied: matplotlib>=3.2.2 in /opt/conda/envs/pytorch/lib/python3.10/site-packages (from ultralytics<8.0.9,>=8.0.7->ultralyticsplus==0.0.14->-r requirements.txt (line 8)) (3.7.3)\n",
      "Requirement already satisfied: tensorboard>=2.4.1 in /opt/conda/envs/pytorch/lib/python3.10/site-packages (from ultralytics<8.0.9,>=8.0.7->ultralyticsplus==0.0.14->-r requirements.txt (line 8)) (2.15.1)\n",
      "Requirement already satisfied: seaborn>=0.11.0 in /opt/conda/envs/pytorch/lib/python3.10/site-packages (from ultralytics<8.0.9,>=8.0.7->ultralyticsplus==0.0.14->-r requirements.txt (line 8)) (0.12.2)\n",
      "Requirement already satisfied: ipython in /opt/conda/envs/pytorch/lib/python3.10/site-packages (from ultralytics<8.0.9,>=8.0.7->ultralyticsplus==0.0.14->-r requirements.txt (line 8)) (8.17.2)\n",
      "Requirement already satisfied: psutil in /opt/conda/envs/pytorch/lib/python3.10/site-packages (from ultralytics<8.0.9,>=8.0.7->ultralyticsplus==0.0.14->-r requirements.txt (line 8)) (5.9.3)\n",
      "Requirement already satisfied: thop>=0.1.1 in /opt/conda/envs/pytorch/lib/python3.10/site-packages (from ultralytics<8.0.9,>=8.0.7->ultralyticsplus==0.0.14->-r requirements.txt (line 8)) (0.1.1.post2209072238)\n",
      "Requirement already satisfied: GitPython>=3.1.24 in /opt/conda/envs/pytorch/lib/python3.10/site-packages (from ultralytics<8.0.9,>=8.0.7->ultralyticsplus==0.0.14->-r requirements.txt (line 8)) (3.1.40)\n",
      "Requirement already satisfied: sentry-sdk in /opt/conda/envs/pytorch/lib/python3.10/site-packages (from ultralytics<8.0.9,>=8.0.7->ultralyticsplus==0.0.14->-r requirements.txt (line 8)) (1.35.0)\n",
      "Requirement already satisfied: python-dateutil>=2.8.2 in /opt/conda/envs/pytorch/lib/python3.10/site-packages (from pandas->ultralyticsplus==0.0.14->-r requirements.txt (line 8)) (2.8.2)\n",
      "Requirement already satisfied: pytz>=2020.1 in /opt/conda/envs/pytorch/lib/python3.10/site-packages (from pandas->ultralyticsplus==0.0.14->-r requirements.txt (line 8)) (2023.3.post1)\n",
      "Requirement already satisfied: tzdata>=2022.1 in /opt/conda/envs/pytorch/lib/python3.10/site-packages (from pandas->ultralyticsplus==0.0.14->-r requirements.txt (line 8)) (2023.3)\n",
      "Requirement already satisfied: six in /opt/conda/envs/pytorch/lib/python3.10/site-packages (from fire->ultralyticsplus==0.0.14->-r requirements.txt (line 8)) (1.16.0)\n",
      "Requirement already satisfied: termcolor in /opt/conda/envs/pytorch/lib/python3.10/site-packages (from fire->ultralyticsplus==0.0.14->-r requirements.txt (line 8)) (2.3.0)\n",
      "Requirement already satisfied: gitdb<5,>=4.0.1 in /opt/conda/envs/pytorch/lib/python3.10/site-packages (from GitPython>=3.1.24->ultralytics<8.0.9,>=8.0.7->ultralyticsplus==0.0.14->-r requirements.txt (line 8)) (4.0.11)\n",
      "Requirement already satisfied: omegaconf<2.4,>=2.2 in /opt/conda/envs/pytorch/lib/python3.10/site-packages (from hydra-core>=1.2.0->ultralytics<8.0.9,>=8.0.7->ultralyticsplus==0.0.14->-r requirements.txt (line 8)) (2.3.0)\n",
      "Requirement already satisfied: antlr4-python3-runtime==4.9.* in /opt/conda/envs/pytorch/lib/python3.10/site-packages (from hydra-core>=1.2.0->ultralytics<8.0.9,>=8.0.7->ultralyticsplus==0.0.14->-r requirements.txt (line 8)) (4.9.3)\n",
      "Requirement already satisfied: contourpy>=1.0.1 in /opt/conda/envs/pytorch/lib/python3.10/site-packages (from matplotlib>=3.2.2->ultralytics<8.0.9,>=8.0.7->ultralyticsplus==0.0.14->-r requirements.txt (line 8)) (1.2.0)\n",
      "Requirement already satisfied: cycler>=0.10 in /opt/conda/envs/pytorch/lib/python3.10/site-packages (from matplotlib>=3.2.2->ultralytics<8.0.9,>=8.0.7->ultralyticsplus==0.0.14->-r requirements.txt (line 8)) (0.12.1)\n",
      "Requirement already satisfied: fonttools>=4.22.0 in /opt/conda/envs/pytorch/lib/python3.10/site-packages (from matplotlib>=3.2.2->ultralytics<8.0.9,>=8.0.7->ultralyticsplus==0.0.14->-r requirements.txt (line 8)) (4.44.0)\n",
      "Requirement already satisfied: kiwisolver>=1.0.1 in /opt/conda/envs/pytorch/lib/python3.10/site-packages (from matplotlib>=3.2.2->ultralytics<8.0.9,>=8.0.7->ultralyticsplus==0.0.14->-r requirements.txt (line 8)) (1.4.5)\n",
      "Requirement already satisfied: pyparsing>=2.3.1 in /opt/conda/envs/pytorch/lib/python3.10/site-packages (from matplotlib>=3.2.2->ultralytics<8.0.9,>=8.0.7->ultralyticsplus==0.0.14->-r requirements.txt (line 8)) (3.1.1)\n",
      "Requirement already satisfied: charset-normalizer<4,>=2 in /opt/conda/envs/pytorch/lib/python3.10/site-packages (from requests->huggingface-hub->ultralyticsplus==0.0.14->-r requirements.txt (line 8)) (3.3.2)\n",
      "Requirement already satisfied: idna<4,>=2.5 in /opt/conda/envs/pytorch/lib/python3.10/site-packages (from requests->huggingface-hub->ultralyticsplus==0.0.14->-r requirements.txt (line 8)) (3.4)\n",
      "Requirement already satisfied: urllib3<3,>=1.21.1 in /opt/conda/envs/pytorch/lib/python3.10/site-packages (from requests->huggingface-hub->ultralyticsplus==0.0.14->-r requirements.txt (line 8)) (2.1.0)\n",
      "Requirement already satisfied: certifi>=2017.4.17 in /opt/conda/envs/pytorch/lib/python3.10/site-packages (from requests->huggingface-hub->ultralyticsplus==0.0.14->-r requirements.txt (line 8)) (2023.11.17)\n",
      "Requirement already satisfied: absl-py>=0.4 in /opt/conda/envs/pytorch/lib/python3.10/site-packages (from tensorboard>=2.4.1->ultralytics<8.0.9,>=8.0.7->ultralyticsplus==0.0.14->-r requirements.txt (line 8)) (2.0.0)\n",
      "Requirement already satisfied: grpcio>=1.48.2 in /opt/conda/envs/pytorch/lib/python3.10/site-packages (from tensorboard>=2.4.1->ultralytics<8.0.9,>=8.0.7->ultralyticsplus==0.0.14->-r requirements.txt (line 8)) (1.59.2)\n",
      "Requirement already satisfied: google-auth<3,>=1.6.3 in /opt/conda/envs/pytorch/lib/python3.10/site-packages (from tensorboard>=2.4.1->ultralytics<8.0.9,>=8.0.7->ultralyticsplus==0.0.14->-r requirements.txt (line 8)) (2.23.4)\n",
      "Requirement already satisfied: google-auth-oauthlib<2,>=0.5 in /opt/conda/envs/pytorch/lib/python3.10/site-packages (from tensorboard>=2.4.1->ultralytics<8.0.9,>=8.0.7->ultralyticsplus==0.0.14->-r requirements.txt (line 8)) (1.1.0)\n",
      "Requirement already satisfied: markdown>=2.6.8 in /opt/conda/envs/pytorch/lib/python3.10/site-packages (from tensorboard>=2.4.1->ultralytics<8.0.9,>=8.0.7->ultralyticsplus==0.0.14->-r requirements.txt (line 8)) (3.5.1)\n",
      "Requirement already satisfied: protobuf<4.24,>=3.19.6 in /opt/conda/envs/pytorch/lib/python3.10/site-packages (from tensorboard>=2.4.1->ultralytics<8.0.9,>=8.0.7->ultralyticsplus==0.0.14->-r requirements.txt (line 8)) (3.20.3)\n",
      "Requirement already satisfied: tensorboard-data-server<0.8.0,>=0.7.0 in /opt/conda/envs/pytorch/lib/python3.10/site-packages (from tensorboard>=2.4.1->ultralytics<8.0.9,>=8.0.7->ultralyticsplus==0.0.14->-r requirements.txt (line 8)) (0.7.2)\n",
      "Requirement already satisfied: werkzeug>=1.0.1 in /opt/conda/envs/pytorch/lib/python3.10/site-packages (from tensorboard>=2.4.1->ultralytics<8.0.9,>=8.0.7->ultralyticsplus==0.0.14->-r requirements.txt (line 8)) (3.0.1)\n",
      "Requirement already satisfied: decorator in /opt/conda/envs/pytorch/lib/python3.10/site-packages (from ipython->ultralytics<8.0.9,>=8.0.7->ultralyticsplus==0.0.14->-r requirements.txt (line 8)) (5.1.1)\n",
      "Requirement already satisfied: jedi>=0.16 in /opt/conda/envs/pytorch/lib/python3.10/site-packages (from ipython->ultralytics<8.0.9,>=8.0.7->ultralyticsplus==0.0.14->-r requirements.txt (line 8)) (0.19.1)\n",
      "Requirement already satisfied: matplotlib-inline in /opt/conda/envs/pytorch/lib/python3.10/site-packages (from ipython->ultralytics<8.0.9,>=8.0.7->ultralyticsplus==0.0.14->-r requirements.txt (line 8)) (0.1.6)\n",
      "Requirement already satisfied: prompt-toolkit!=3.0.37,<3.1.0,>=3.0.30 in /opt/conda/envs/pytorch/lib/python3.10/site-packages (from ipython->ultralytics<8.0.9,>=8.0.7->ultralyticsplus==0.0.14->-r requirements.txt (line 8)) (3.0.39)\n",
      "Requirement already satisfied: pygments>=2.4.0 in /opt/conda/envs/pytorch/lib/python3.10/site-packages (from ipython->ultralytics<8.0.9,>=8.0.7->ultralyticsplus==0.0.14->-r requirements.txt (line 8)) (2.16.1)\n",
      "Requirement already satisfied: stack-data in /opt/conda/envs/pytorch/lib/python3.10/site-packages (from ipython->ultralytics<8.0.9,>=8.0.7->ultralyticsplus==0.0.14->-r requirements.txt (line 8)) (0.6.2)\n",
      "Requirement already satisfied: traitlets>=5 in /opt/conda/envs/pytorch/lib/python3.10/site-packages (from ipython->ultralytics<8.0.9,>=8.0.7->ultralyticsplus==0.0.14->-r requirements.txt (line 8)) (5.13.0)\n",
      "Requirement already satisfied: exceptiongroup in /opt/conda/envs/pytorch/lib/python3.10/site-packages (from ipython->ultralytics<8.0.9,>=8.0.7->ultralyticsplus==0.0.14->-r requirements.txt (line 8)) (1.1.3)\n",
      "Requirement already satisfied: pexpect>4.3 in /opt/conda/envs/pytorch/lib/python3.10/site-packages (from ipython->ultralytics<8.0.9,>=8.0.7->ultralyticsplus==0.0.14->-r requirements.txt (line 8)) (4.8.0)\n",
      "Requirement already satisfied: smmap<6,>=3.0.1 in /opt/conda/envs/pytorch/lib/python3.10/site-packages (from gitdb<5,>=4.0.1->GitPython>=3.1.24->ultralytics<8.0.9,>=8.0.7->ultralyticsplus==0.0.14->-r requirements.txt (line 8)) (5.0.1)\n",
      "Requirement already satisfied: cachetools<6.0,>=2.0.0 in /opt/conda/envs/pytorch/lib/python3.10/site-packages (from google-auth<3,>=1.6.3->tensorboard>=2.4.1->ultralytics<8.0.9,>=8.0.7->ultralyticsplus==0.0.14->-r requirements.txt (line 8)) (5.3.2)\n",
      "Requirement already satisfied: pyasn1-modules>=0.2.1 in /opt/conda/envs/pytorch/lib/python3.10/site-packages (from google-auth<3,>=1.6.3->tensorboard>=2.4.1->ultralytics<8.0.9,>=8.0.7->ultralyticsplus==0.0.14->-r requirements.txt (line 8)) (0.3.0)\n",
      "Requirement already satisfied: rsa<5,>=3.1.4 in /opt/conda/envs/pytorch/lib/python3.10/site-packages (from google-auth<3,>=1.6.3->tensorboard>=2.4.1->ultralytics<8.0.9,>=8.0.7->ultralyticsplus==0.0.14->-r requirements.txt (line 8)) (4.9)\n",
      "Requirement already satisfied: requests-oauthlib>=0.7.0 in /opt/conda/envs/pytorch/lib/python3.10/site-packages (from google-auth-oauthlib<2,>=0.5->tensorboard>=2.4.1->ultralytics<8.0.9,>=8.0.7->ultralyticsplus==0.0.14->-r requirements.txt (line 8)) (1.3.1)\n",
      "Requirement already satisfied: parso<0.9.0,>=0.8.3 in /opt/conda/envs/pytorch/lib/python3.10/site-packages (from jedi>=0.16->ipython->ultralytics<8.0.9,>=8.0.7->ultralyticsplus==0.0.14->-r requirements.txt (line 8)) (0.8.3)\n",
      "Requirement already satisfied: ptyprocess>=0.5 in /opt/conda/envs/pytorch/lib/python3.10/site-packages (from pexpect>4.3->ipython->ultralytics<8.0.9,>=8.0.7->ultralyticsplus==0.0.14->-r requirements.txt (line 8)) (0.7.0)\n",
      "Requirement already satisfied: wcwidth in /opt/conda/envs/pytorch/lib/python3.10/site-packages (from prompt-toolkit!=3.0.37,<3.1.0,>=3.0.30->ipython->ultralytics<8.0.9,>=8.0.7->ultralyticsplus==0.0.14->-r requirements.txt (line 8)) (0.2.9)\n",
      "Requirement already satisfied: MarkupSafe>=2.1.1 in /opt/conda/envs/pytorch/lib/python3.10/site-packages (from werkzeug>=1.0.1->tensorboard>=2.4.1->ultralytics<8.0.9,>=8.0.7->ultralyticsplus==0.0.14->-r requirements.txt (line 8)) (2.1.3)\n",
      "Requirement already satisfied: executing>=1.2.0 in /opt/conda/envs/pytorch/lib/python3.10/site-packages (from stack-data->ipython->ultralytics<8.0.9,>=8.0.7->ultralyticsplus==0.0.14->-r requirements.txt (line 8)) (2.0.1)\n",
      "Requirement already satisfied: asttokens>=2.1.0 in /opt/conda/envs/pytorch/lib/python3.10/site-packages (from stack-data->ipython->ultralytics<8.0.9,>=8.0.7->ultralyticsplus==0.0.14->-r requirements.txt (line 8)) (2.4.1)\n",
      "Requirement already satisfied: pure-eval in /opt/conda/envs/pytorch/lib/python3.10/site-packages (from stack-data->ipython->ultralytics<8.0.9,>=8.0.7->ultralyticsplus==0.0.14->-r requirements.txt (line 8)) (0.2.2)\n",
      "Requirement already satisfied: pyasn1<0.6.0,>=0.4.6 in /opt/conda/envs/pytorch/lib/python3.10/site-packages (from pyasn1-modules>=0.2.1->google-auth<3,>=1.6.3->tensorboard>=2.4.1->ultralytics<8.0.9,>=8.0.7->ultralyticsplus==0.0.14->-r requirements.txt (line 8)) (0.5.0)\n",
      "Requirement already satisfied: oauthlib>=3.0.0 in /opt/conda/envs/pytorch/lib/python3.10/site-packages (from requests-oauthlib>=0.7.0->google-auth-oauthlib<2,>=0.5->tensorboard>=2.4.1->ultralytics<8.0.9,>=8.0.7->ultralyticsplus==0.0.14->-r requirements.txt (line 8)) (3.2.2)\n"
     ]
    }
   ],
   "source": [
    "#Package Installations\n",
    "!pip install -r requirements.txt"
   ]
  },
  {
   "cell_type": "code",
   "execution_count": 23,
   "id": "02eee7e4-39c7-46d1-8a35-e398c573e97e",
   "metadata": {
    "scrolled": true,
    "tags": []
   },
   "outputs": [
    {
     "name": "stdout",
     "output_type": "stream",
     "text": [
      "Collecting datasets\n",
      "  Downloading datasets-2.15.0-py3-none-any.whl.metadata (20 kB)\n",
      "Requirement already satisfied: numpy>=1.17 in /opt/conda/envs/pytorch/lib/python3.10/site-packages (from datasets) (1.23.0)\n",
      "Requirement already satisfied: pyarrow>=8.0.0 in /opt/conda/envs/pytorch/lib/python3.10/site-packages (from datasets) (14.0.0)\n",
      "Collecting pyarrow-hotfix (from datasets)\n",
      "  Downloading pyarrow_hotfix-0.5-py3-none-any.whl.metadata (3.6 kB)\n",
      "Collecting dill<0.3.8,>=0.3.0 (from datasets)\n",
      "  Downloading dill-0.3.7-py3-none-any.whl.metadata (9.9 kB)\n",
      "Requirement already satisfied: pandas in /opt/conda/envs/pytorch/lib/python3.10/site-packages (from datasets) (2.0.3)\n",
      "Requirement already satisfied: requests>=2.19.0 in /opt/conda/envs/pytorch/lib/python3.10/site-packages (from datasets) (2.31.0)\n",
      "Requirement already satisfied: tqdm>=4.62.1 in /opt/conda/envs/pytorch/lib/python3.10/site-packages (from datasets) (4.66.1)\n",
      "Collecting xxhash (from datasets)\n",
      "  Downloading xxhash-3.4.1-cp310-cp310-manylinux_2_17_x86_64.manylinux2014_x86_64.whl.metadata (12 kB)\n",
      "Collecting multiprocess (from datasets)\n",
      "  Downloading multiprocess-0.70.15-py310-none-any.whl.metadata (7.2 kB)\n",
      "Requirement already satisfied: fsspec<=2023.10.0,>=2023.1.0 in /opt/conda/envs/pytorch/lib/python3.10/site-packages (from fsspec[http]<=2023.10.0,>=2023.1.0->datasets) (2023.10.0)\n",
      "Requirement already satisfied: aiohttp in /opt/conda/envs/pytorch/lib/python3.10/site-packages (from datasets) (3.8.6)\n",
      "Requirement already satisfied: huggingface-hub>=0.18.0 in /opt/conda/envs/pytorch/lib/python3.10/site-packages (from datasets) (0.19.4)\n",
      "Requirement already satisfied: packaging in /opt/conda/envs/pytorch/lib/python3.10/site-packages (from datasets) (23.2)\n",
      "Requirement already satisfied: pyyaml>=5.1 in /opt/conda/envs/pytorch/lib/python3.10/site-packages (from datasets) (6.0.1)\n",
      "Requirement already satisfied: attrs>=17.3.0 in /opt/conda/envs/pytorch/lib/python3.10/site-packages (from aiohttp->datasets) (23.1.0)\n",
      "Requirement already satisfied: charset-normalizer<4.0,>=2.0 in /opt/conda/envs/pytorch/lib/python3.10/site-packages (from aiohttp->datasets) (3.3.2)\n",
      "Requirement already satisfied: multidict<7.0,>=4.5 in /opt/conda/envs/pytorch/lib/python3.10/site-packages (from aiohttp->datasets) (6.0.4)\n",
      "Requirement already satisfied: async-timeout<5.0,>=4.0.0a3 in /opt/conda/envs/pytorch/lib/python3.10/site-packages (from aiohttp->datasets) (4.0.3)\n",
      "Requirement already satisfied: yarl<2.0,>=1.0 in /opt/conda/envs/pytorch/lib/python3.10/site-packages (from aiohttp->datasets) (1.9.2)\n",
      "Requirement already satisfied: frozenlist>=1.1.1 in /opt/conda/envs/pytorch/lib/python3.10/site-packages (from aiohttp->datasets) (1.4.0)\n",
      "Requirement already satisfied: aiosignal>=1.1.2 in /opt/conda/envs/pytorch/lib/python3.10/site-packages (from aiohttp->datasets) (1.3.1)\n",
      "Requirement already satisfied: filelock in /opt/conda/envs/pytorch/lib/python3.10/site-packages (from huggingface-hub>=0.18.0->datasets) (3.13.1)\n",
      "Requirement already satisfied: typing-extensions>=3.7.4.3 in /opt/conda/envs/pytorch/lib/python3.10/site-packages (from huggingface-hub>=0.18.0->datasets) (4.8.0)\n",
      "Requirement already satisfied: idna<4,>=2.5 in /opt/conda/envs/pytorch/lib/python3.10/site-packages (from requests>=2.19.0->datasets) (3.4)\n",
      "Requirement already satisfied: urllib3<3,>=1.21.1 in /opt/conda/envs/pytorch/lib/python3.10/site-packages (from requests>=2.19.0->datasets) (2.1.0)\n",
      "Requirement already satisfied: certifi>=2017.4.17 in /opt/conda/envs/pytorch/lib/python3.10/site-packages (from requests>=2.19.0->datasets) (2023.11.17)\n",
      "Requirement already satisfied: python-dateutil>=2.8.2 in /opt/conda/envs/pytorch/lib/python3.10/site-packages (from pandas->datasets) (2.8.2)\n",
      "Requirement already satisfied: pytz>=2020.1 in /opt/conda/envs/pytorch/lib/python3.10/site-packages (from pandas->datasets) (2023.3.post1)\n",
      "Requirement already satisfied: tzdata>=2022.1 in /opt/conda/envs/pytorch/lib/python3.10/site-packages (from pandas->datasets) (2023.3)\n",
      "Requirement already satisfied: six>=1.5 in /opt/conda/envs/pytorch/lib/python3.10/site-packages (from python-dateutil>=2.8.2->pandas->datasets) (1.16.0)\n",
      "Downloading datasets-2.15.0-py3-none-any.whl (521 kB)\n",
      "\u001b[2K   \u001b[90m━━━━━━━━━━━━━━━━━━━━━━━━━━━━━━━━━━━━━━━━\u001b[0m \u001b[32m521.2/521.2 kB\u001b[0m \u001b[31m35.5 MB/s\u001b[0m eta \u001b[36m0:00:00\u001b[0m\n",
      "\u001b[?25hDownloading dill-0.3.7-py3-none-any.whl (115 kB)\n",
      "\u001b[2K   \u001b[90m━━━━━━━━━━━━━━━━━━━━━━━━━━━━━━━━━━━━━━━━\u001b[0m \u001b[32m115.3/115.3 kB\u001b[0m \u001b[31m19.5 MB/s\u001b[0m eta \u001b[36m0:00:00\u001b[0m\n",
      "\u001b[?25hDownloading multiprocess-0.70.15-py310-none-any.whl (134 kB)\n",
      "\u001b[2K   \u001b[90m━━━━━━━━━━━━━━━━━━━━━━━━━━━━━━━━━━━━━━━━\u001b[0m \u001b[32m134.8/134.8 kB\u001b[0m \u001b[31m22.5 MB/s\u001b[0m eta \u001b[36m0:00:00\u001b[0m\n",
      "\u001b[?25hDownloading pyarrow_hotfix-0.5-py3-none-any.whl (7.8 kB)\n",
      "Downloading xxhash-3.4.1-cp310-cp310-manylinux_2_17_x86_64.manylinux2014_x86_64.whl (194 kB)\n",
      "\u001b[2K   \u001b[90m━━━━━━━━━━━━━━━━━━━━━━━━━━━━━━━━━━━━━━━━\u001b[0m \u001b[32m194.1/194.1 kB\u001b[0m \u001b[31m29.0 MB/s\u001b[0m eta \u001b[36m0:00:00\u001b[0m\n",
      "\u001b[?25hInstalling collected packages: xxhash, pyarrow-hotfix, dill, multiprocess, datasets\n",
      "Successfully installed datasets-2.15.0 dill-0.3.7 multiprocess-0.70.15 pyarrow-hotfix-0.5 xxhash-3.4.1\n"
     ]
    }
   ],
   "source": [
    "!pip install datasets"
   ]
  },
  {
   "cell_type": "code",
   "execution_count": 11,
   "id": "ccfd47fd-4995-495a-a5f3-5e6dec2bc86d",
   "metadata": {
    "scrolled": true,
    "tags": []
   },
   "outputs": [
    {
     "name": "stdout",
     "output_type": "stream",
     "text": [
      "Collecting https://github.com/yt-dlp/yt-dlp/archive/master.tar.gz\n",
      "  Using cached https://github.com/yt-dlp/yt-dlp/archive/master.tar.gz (2.6 MB)\n",
      "  Installing build dependencies ... \u001b[?25ldone\n",
      "\u001b[?25h  Getting requirements to build wheel ... \u001b[?25ldone\n",
      "\u001b[?25h  Installing backend dependencies ... \u001b[?25ldone\n",
      "\u001b[?25h  Preparing metadata (pyproject.toml) ... \u001b[?25ldone\n",
      "\u001b[?25hCollecting mutagen (from yt-dlp==2023.11.16)\n",
      "  Using cached mutagen-1.47.0-py3-none-any.whl.metadata (1.7 kB)\n",
      "Collecting pycryptodomex (from yt-dlp==2023.11.16)\n",
      "  Using cached pycryptodomex-3.19.0-cp35-abi3-manylinux_2_17_x86_64.manylinux2014_x86_64.whl.metadata (3.4 kB)\n",
      "Collecting websockets (from yt-dlp==2023.11.16)\n",
      "  Using cached websockets-12.0-cp310-cp310-manylinux_2_5_x86_64.manylinux1_x86_64.manylinux_2_17_x86_64.manylinux2014_x86_64.whl.metadata (6.6 kB)\n",
      "Collecting certifi (from yt-dlp==2023.11.16)\n",
      "  Using cached certifi-2023.11.17-py3-none-any.whl.metadata (2.2 kB)\n",
      "Collecting requests<3,>=2.31.0 (from yt-dlp==2023.11.16)\n",
      "  Using cached requests-2.31.0-py3-none-any.whl.metadata (4.6 kB)\n",
      "Collecting urllib3<3,>=1.26.17 (from yt-dlp==2023.11.16)\n",
      "  Using cached urllib3-2.1.0-py3-none-any.whl.metadata (6.4 kB)\n",
      "Collecting brotli (from yt-dlp==2023.11.16)\n",
      "  Using cached Brotli-1.1.0-cp310-cp310-manylinux_2_5_x86_64.manylinux1_x86_64.manylinux_2_12_x86_64.manylinux2010_x86_64.whl.metadata (5.5 kB)\n",
      "Collecting charset-normalizer<4,>=2 (from requests<3,>=2.31.0->yt-dlp==2023.11.16)\n",
      "  Using cached charset_normalizer-3.3.2-cp310-cp310-manylinux_2_17_x86_64.manylinux2014_x86_64.whl.metadata (33 kB)\n",
      "Collecting idna<4,>=2.5 (from requests<3,>=2.31.0->yt-dlp==2023.11.16)\n",
      "  Using cached idna-3.4-py3-none-any.whl (61 kB)\n",
      "Using cached requests-2.31.0-py3-none-any.whl (62 kB)\n",
      "Using cached certifi-2023.11.17-py3-none-any.whl (162 kB)\n",
      "Using cached urllib3-2.1.0-py3-none-any.whl (104 kB)\n",
      "Using cached websockets-12.0-cp310-cp310-manylinux_2_5_x86_64.manylinux1_x86_64.manylinux_2_17_x86_64.manylinux2014_x86_64.whl (130 kB)\n",
      "Using cached Brotli-1.1.0-cp310-cp310-manylinux_2_5_x86_64.manylinux1_x86_64.manylinux_2_12_x86_64.manylinux2010_x86_64.whl (3.0 MB)\n",
      "Using cached mutagen-1.47.0-py3-none-any.whl (194 kB)\n",
      "Using cached pycryptodomex-3.19.0-cp35-abi3-manylinux_2_17_x86_64.manylinux2014_x86_64.whl (2.1 MB)\n",
      "Using cached charset_normalizer-3.3.2-cp310-cp310-manylinux_2_17_x86_64.manylinux2014_x86_64.whl (142 kB)\n",
      "Building wheels for collected packages: yt-dlp\n",
      "  Building wheel for yt-dlp (pyproject.toml) ... \u001b[?25ldone\n",
      "\u001b[?25h  Created wheel for yt-dlp: filename=yt_dlp-2023.11.16-py2.py3-none-any.whl size=2882737 sha256=477db5c4582d3f82f7b1c5677356c8433e09fbf5d1f4ed00473c0271b40b5f1a\n",
      "  Stored in directory: /var/tmp/pip-ephem-wheel-cache-e8k3smxl/wheels/4c/91/d1/c5369304e2f7afb660bb6eee093af5a7d3c0ea05a3c1e8c797\n",
      "Successfully built yt-dlp\n",
      "Installing collected packages: brotli, websockets, urllib3, pycryptodomex, mutagen, idna, charset-normalizer, certifi, requests, yt-dlp\n",
      "  Attempting uninstall: brotli\n",
      "    Found existing installation: Brotli 1.1.0\n",
      "    Uninstalling Brotli-1.1.0:\n",
      "      Successfully uninstalled Brotli-1.1.0\n",
      "  Attempting uninstall: websockets\n",
      "    Found existing installation: websockets 12.0\n",
      "    Uninstalling websockets-12.0:\n",
      "      Successfully uninstalled websockets-12.0\n",
      "  Attempting uninstall: urllib3\n",
      "    Found existing installation: urllib3 2.1.0\n",
      "    Uninstalling urllib3-2.1.0:\n",
      "      Successfully uninstalled urllib3-2.1.0\n",
      "  Attempting uninstall: pycryptodomex\n",
      "    Found existing installation: pycryptodomex 3.19.0\n",
      "    Uninstalling pycryptodomex-3.19.0:\n",
      "      Successfully uninstalled pycryptodomex-3.19.0\n",
      "  Attempting uninstall: mutagen\n",
      "    Found existing installation: mutagen 1.47.0\n",
      "    Uninstalling mutagen-1.47.0:\n",
      "      Successfully uninstalled mutagen-1.47.0\n",
      "  Attempting uninstall: idna\n",
      "    Found existing installation: idna 3.4\n",
      "    Uninstalling idna-3.4:\n",
      "      Successfully uninstalled idna-3.4\n",
      "  Attempting uninstall: charset-normalizer\n",
      "    Found existing installation: charset-normalizer 3.3.2\n",
      "    Uninstalling charset-normalizer-3.3.2:\n",
      "      Successfully uninstalled charset-normalizer-3.3.2\n",
      "  Attempting uninstall: certifi\n",
      "    Found existing installation: certifi 2023.11.17\n",
      "    Uninstalling certifi-2023.11.17:\n",
      "      Successfully uninstalled certifi-2023.11.17\n",
      "  Attempting uninstall: requests\n",
      "    Found existing installation: requests 2.31.0\n",
      "    Uninstalling requests-2.31.0:\n",
      "      Successfully uninstalled requests-2.31.0\n",
      "  Attempting uninstall: yt-dlp\n",
      "    Found existing installation: yt-dlp 2023.11.16\n",
      "    Uninstalling yt-dlp-2023.11.16:\n",
      "      Successfully uninstalled yt-dlp-2023.11.16\n",
      "\u001b[31mERROR: pip's dependency resolver does not currently take into account all the packages that are installed. This behaviour is the source of the following dependency conflicts.\n",
      "conda 23.10.0 requires ruamel-yaml<0.18,>=0.11.14, but you have ruamel-yaml 0.18.5 which is incompatible.\n",
      "kfp 2.4.0 requires urllib3<2.0.0, but you have urllib3 2.1.0 which is incompatible.\u001b[0m\u001b[31m\n",
      "\u001b[0mSuccessfully installed brotli-1.1.0 certifi-2023.11.17 charset-normalizer-3.3.2 idna-3.4 mutagen-1.47.0 pycryptodomex-3.19.0 requests-2.31.0 urllib3-2.1.0 websockets-12.0 yt-dlp-2023.11.16\n"
     ]
    }
   ],
   "source": [
    "!pip install --force-reinstall https://github.com/yt-dlp/yt-dlp/archive/master.tar.gz"
   ]
  },
  {
   "cell_type": "markdown",
   "id": "a6f3de61-143b-4d85-aa7d-62ae0a0a017e",
   "metadata": {},
   "source": [
    "## Data\n"
   ]
  },
  {
   "cell_type": "code",
   "execution_count": 12,
   "id": "96f79386-7e6e-4009-b91a-6b0fb8579ec4",
   "metadata": {
    "tags": []
   },
   "outputs": [
    {
     "name": "stdout",
     "output_type": "stream",
     "text": [
      "[youtube] Extracting URL: https://www.youtube.com/watch?v=ulxDhZIaSCU\n",
      "[youtube] ulxDhZIaSCU: Downloading webpage\n",
      "[youtube] ulxDhZIaSCU: Downloading ios player API JSON\n",
      "[youtube] ulxDhZIaSCU: Downloading android player API JSON\n",
      "[youtube] ulxDhZIaSCU: Downloading m3u8 information\n",
      "[info] ulxDhZIaSCU: Downloading 1 format(s): 616+251\n",
      "[download] /home/jupyter/object_detection/apporach2/vd_down.webm has already been downloaded\n"
     ]
    }
   ],
   "source": [
    "# this time we are downloading the video from youtube via youtube_dl library for keyframe extraction/scene extraction.\n",
    "\n",
    "import os\n",
    "import cv2\n",
    "import shutil\n",
    "import yt_dlp as youtube_dl\n",
    "    \n",
    "video_url = \"https://www.youtube.com/watch?v=ulxDhZIaSCU\"  # The Youtube URL\n",
    "path = \"/home/jupyter/object_detection/apporach2/frames_key\"\n",
    "\n",
    "if os.path.exists(path):\n",
    "    shutil.rmtree(path)\n",
    "    os.makedirs(path)\n",
    "else:\n",
    "    os.makedirs(path)\n",
    "\n",
    "vd_file_name = os.getcwd() + '/' + 'vd_down'\n",
    "ydl_opts = {'outtmpl': f'{str(vd_file_name)}'}\n",
    "ydl = youtube_dl.YoutubeDL(ydl_opts)\n",
    "info_dict = ydl.extract_info(video_url, download=True)"
   ]
  },
  {
   "cell_type": "code",
   "execution_count": 13,
   "id": "dff362df-a468-44fe-97b5-73919c2ba72a",
   "metadata": {
    "tags": []
   },
   "outputs": [],
   "source": [
    "#path = \"/home/jupyter/object_det/object_detection/apporach2/frames_key\"\n",
    "\n",
    "if os.path.exists(path):\n",
    "    shutil.rmtree(path)\n",
    "    os.makedirs(path)\n",
    "else:\n",
    "    os.makedirs(path)"
   ]
  },
  {
   "cell_type": "code",
   "execution_count": 14,
   "id": "2f9aedf4-ac89-4e94-b320-583fbaefda2b",
   "metadata": {
    "tags": []
   },
   "outputs": [],
   "source": [
    "# We are using ffmpeg library for Key Frame Extraction from the video.\n",
    "# This code helps us in running the command line code from the script.\n",
    "\n",
    "import shlex\n",
    "from subprocess import Popen, PIPE\n",
    "\n",
    "def get_exitcode_stdout_stderr(cmd):\n",
    "    \"\"\"\n",
    "        Execute the external command and get its exitcode, stdout and stderr.\n",
    "    \"\"\"\n",
    "    args = shlex.split(cmd)\n",
    "    proc = Popen(args, shell=False, stdout=PIPE, stderr=PIPE)\n",
    "    proc.communicate()"
   ]
  },
  {
   "cell_type": "code",
   "execution_count": 15,
   "id": "8faab1cd-af0a-48e0-b7ea-8c2ea739fb9a",
   "metadata": {
    "tags": []
   },
   "outputs": [],
   "source": [
    "video_path = os.getcwd() + '/' + 'vd_down.' + info_dict['ext']\n",
    "\n",
    "cmd = f\"\"\"sudo -S ffmpeg -i {video_path} -vf \"select='gt(scene,0.4)'\" -vsync vfr {path}/frame-%d.jpg\"\"\"\n",
    "get_exitcode_stdout_stderr(cmd)"
   ]
  },
  {
   "cell_type": "markdown",
   "id": "c761342d-20b0-447f-9088-17302b1a1607",
   "metadata": {},
   "source": [
    "## Approach\n",
    "\n",
    "Feel free to choose any algorithm for the task."
   ]
  },
  {
   "cell_type": "code",
   "execution_count": 16,
   "id": "bcb00835-4f7a-4890-b45a-f5ac633ba0b0",
   "metadata": {
    "tags": []
   },
   "outputs": [],
   "source": [
    "import os\n",
    "\n",
    "def get_frames(path):\n",
    "    \"\"\"\n",
    "\n",
    "    :param path:\n",
    "    :return:\n",
    "    \"\"\"\n",
    "    frame_path = []\n",
    "    for root, dirs, files in os.walk(path):\n",
    "        for file in files:\n",
    "            if file.lower().endswith('.jpg'.lower()):\n",
    "                frame_path.append(os.path.join(root, file))\n",
    "\n",
    "    return frame_path\n",
    "\n",
    "frame_path = get_frames(path)"
   ]
  },
  {
   "cell_type": "code",
   "execution_count": 17,
   "id": "d13fd865-a996-4c2f-bd49-041a8ca1bdc4",
   "metadata": {
    "tags": []
   },
   "outputs": [],
   "source": [
    "from ultralyticsplus import YOLO, render_result\n",
    "\n",
    "# load model\n",
    "model = YOLO('yolov8m.pt')\n",
    "\n",
    "# set model parameters\n",
    "model.overrides['conf'] = 0.25  # NMS confidence threshold\n",
    "model.overrides['iou'] = 0.45  # NMS IoU threshold\n",
    "model.overrides['agnostic_nms'] = False  # NMS class-agnostic\n",
    "model.overrides['max_det'] = 1000  # maximum number of detections per image"
   ]
  },
  {
   "cell_type": "code",
   "execution_count": 18,
   "id": "95e13057-6ac9-4681-bdf7-878f70881dd7",
   "metadata": {
    "tags": []
   },
   "outputs": [
    {
     "name": "stderr",
     "output_type": "stream",
     "text": [
      "11/20/2023 17:16:03 - INFO - sentence_transformers.SentenceTransformer -   Load pretrained SentenceTransformer: sentence-transformers/clip-ViT-B-32\n",
      "11/20/2023 17:16:04 - INFO - sentence_transformers.SentenceTransformer -   Use pytorch device: cuda\n"
     ]
    }
   ],
   "source": [
    "from sentence_transformers import SentenceTransformer\n",
    "\n",
    "clip_model = SentenceTransformer(\"sentence-transformers/clip-ViT-B-32\")"
   ]
  },
  {
   "cell_type": "code",
   "execution_count": 19,
   "id": "b2a9b675-4776-48e7-893f-7d16f3ab85e1",
   "metadata": {
    "scrolled": true,
    "tags": []
   },
   "outputs": [
    {
     "name": "stderr",
     "output_type": "stream",
     "text": [
      "Ultralytics YOLOv8.0.8 🚀 Python-3.10.13 torch-1.13.1+cu117 CUDA:0 (Tesla T4, 14928MiB)\n",
      "Fusing layers... \n",
      "YOLOv8m summary: 218 layers, 25886080 parameters, 0 gradients, 78.9 GFLOPs\n",
      "Ultralytics YOLOv8.0.8 🚀 Python-3.10.13 torch-1.13.1+cu117 CUDA:0 (Tesla T4, 14928MiB)\n",
      "Fusing layers... \n",
      "YOLOv8m summary: 218 layers, 25886080 parameters, 0 gradients\n",
      "Ultralytics YOLOv8.0.8 🚀 Python-3.10.13 torch-1.13.1+cu117 CUDA:0 (Tesla T4, 14928MiB)\n",
      "Fusing layers... \n",
      "YOLOv8m summary: 218 layers, 25886080 parameters, 0 gradients\n",
      "Ultralytics YOLOv8.0.8 🚀 Python-3.10.13 torch-1.13.1+cu117 CUDA:0 (Tesla T4, 14928MiB)\n",
      "Fusing layers... \n",
      "YOLOv8m summary: 218 layers, 25886080 parameters, 0 gradients\n",
      "Ultralytics YOLOv8.0.8 🚀 Python-3.10.13 torch-1.13.1+cu117 CUDA:0 (Tesla T4, 14928MiB)\n",
      "Fusing layers... \n",
      "YOLOv8m summary: 218 layers, 25886080 parameters, 0 gradients\n",
      "Ultralytics YOLOv8.0.8 🚀 Python-3.10.13 torch-1.13.1+cu117 CUDA:0 (Tesla T4, 14928MiB)\n",
      "Fusing layers... \n",
      "YOLOv8m summary: 218 layers, 25886080 parameters, 0 gradients\n",
      "Ultralytics YOLOv8.0.8 🚀 Python-3.10.13 torch-1.13.1+cu117 CUDA:0 (Tesla T4, 14928MiB)\n",
      "Fusing layers... \n",
      "YOLOv8m summary: 218 layers, 25886080 parameters, 0 gradients\n",
      "Ultralytics YOLOv8.0.8 🚀 Python-3.10.13 torch-1.13.1+cu117 CUDA:0 (Tesla T4, 14928MiB)\n",
      "Fusing layers... \n",
      "YOLOv8m summary: 218 layers, 25886080 parameters, 0 gradients\n",
      "Ultralytics YOLOv8.0.8 🚀 Python-3.10.13 torch-1.13.1+cu117 CUDA:0 (Tesla T4, 14928MiB)\n",
      "Fusing layers... \n",
      "YOLOv8m summary: 218 layers, 25886080 parameters, 0 gradients\n",
      "Ultralytics YOLOv8.0.8 🚀 Python-3.10.13 torch-1.13.1+cu117 CUDA:0 (Tesla T4, 14928MiB)\n",
      "Fusing layers... \n",
      "YOLOv8m summary: 218 layers, 25886080 parameters, 0 gradients\n",
      "Ultralytics YOLOv8.0.8 🚀 Python-3.10.13 torch-1.13.1+cu117 CUDA:0 (Tesla T4, 14928MiB)\n",
      "Fusing layers... \n",
      "YOLOv8m summary: 218 layers, 25886080 parameters, 0 gradients\n",
      "Ultralytics YOLOv8.0.8 🚀 Python-3.10.13 torch-1.13.1+cu117 CUDA:0 (Tesla T4, 14928MiB)\n",
      "Fusing layers... \n",
      "YOLOv8m summary: 218 layers, 25886080 parameters, 0 gradients\n",
      "Ultralytics YOLOv8.0.8 🚀 Python-3.10.13 torch-1.13.1+cu117 CUDA:0 (Tesla T4, 14928MiB)\n",
      "Fusing layers... \n",
      "YOLOv8m summary: 218 layers, 25886080 parameters, 0 gradients\n",
      "Ultralytics YOLOv8.0.8 🚀 Python-3.10.13 torch-1.13.1+cu117 CUDA:0 (Tesla T4, 14928MiB)\n",
      "Fusing layers... \n",
      "YOLOv8m summary: 218 layers, 25886080 parameters, 0 gradients\n",
      "Ultralytics YOLOv8.0.8 🚀 Python-3.10.13 torch-1.13.1+cu117 CUDA:0 (Tesla T4, 14928MiB)\n",
      "Fusing layers... \n",
      "YOLOv8m summary: 218 layers, 25886080 parameters, 0 gradients\n",
      "Ultralytics YOLOv8.0.8 🚀 Python-3.10.13 torch-1.13.1+cu117 CUDA:0 (Tesla T4, 14928MiB)\n",
      "Fusing layers... \n",
      "YOLOv8m summary: 218 layers, 25886080 parameters, 0 gradients\n",
      "Ultralytics YOLOv8.0.8 🚀 Python-3.10.13 torch-1.13.1+cu117 CUDA:0 (Tesla T4, 14928MiB)\n",
      "Fusing layers... \n",
      "YOLOv8m summary: 218 layers, 25886080 parameters, 0 gradients\n",
      "Ultralytics YOLOv8.0.8 🚀 Python-3.10.13 torch-1.13.1+cu117 CUDA:0 (Tesla T4, 14928MiB)\n",
      "Fusing layers... \n",
      "YOLOv8m summary: 218 layers, 25886080 parameters, 0 gradients\n",
      "Ultralytics YOLOv8.0.8 🚀 Python-3.10.13 torch-1.13.1+cu117 CUDA:0 (Tesla T4, 14928MiB)\n",
      "Fusing layers... \n",
      "YOLOv8m summary: 218 layers, 25886080 parameters, 0 gradients\n",
      "Ultralytics YOLOv8.0.8 🚀 Python-3.10.13 torch-1.13.1+cu117 CUDA:0 (Tesla T4, 14928MiB)\n",
      "Fusing layers... \n",
      "YOLOv8m summary: 218 layers, 25886080 parameters, 0 gradients\n",
      "Ultralytics YOLOv8.0.8 🚀 Python-3.10.13 torch-1.13.1+cu117 CUDA:0 (Tesla T4, 14928MiB)\n",
      "Fusing layers... \n",
      "YOLOv8m summary: 218 layers, 25886080 parameters, 0 gradients\n",
      "Ultralytics YOLOv8.0.8 🚀 Python-3.10.13 torch-1.13.1+cu117 CUDA:0 (Tesla T4, 14928MiB)\n",
      "Fusing layers... \n",
      "YOLOv8m summary: 218 layers, 25886080 parameters, 0 gradients\n",
      "Ultralytics YOLOv8.0.8 🚀 Python-3.10.13 torch-1.13.1+cu117 CUDA:0 (Tesla T4, 14928MiB)\n",
      "Fusing layers... \n",
      "YOLOv8m summary: 218 layers, 25886080 parameters, 0 gradients\n",
      "Ultralytics YOLOv8.0.8 🚀 Python-3.10.13 torch-1.13.1+cu117 CUDA:0 (Tesla T4, 14928MiB)\n",
      "Fusing layers... \n",
      "YOLOv8m summary: 218 layers, 25886080 parameters, 0 gradients\n",
      "Ultralytics YOLOv8.0.8 🚀 Python-3.10.13 torch-1.13.1+cu117 CUDA:0 (Tesla T4, 14928MiB)\n",
      "Fusing layers... \n",
      "YOLOv8m summary: 218 layers, 25886080 parameters, 0 gradients\n",
      "Ultralytics YOLOv8.0.8 🚀 Python-3.10.13 torch-1.13.1+cu117 CUDA:0 (Tesla T4, 14928MiB)\n",
      "Fusing layers... \n",
      "YOLOv8m summary: 218 layers, 25886080 parameters, 0 gradients\n",
      "Ultralytics YOLOv8.0.8 🚀 Python-3.10.13 torch-1.13.1+cu117 CUDA:0 (Tesla T4, 14928MiB)\n",
      "Fusing layers... \n",
      "YOLOv8m summary: 218 layers, 25886080 parameters, 0 gradients\n",
      "Ultralytics YOLOv8.0.8 🚀 Python-3.10.13 torch-1.13.1+cu117 CUDA:0 (Tesla T4, 14928MiB)\n",
      "Fusing layers... \n",
      "YOLOv8m summary: 218 layers, 25886080 parameters, 0 gradients\n",
      "Ultralytics YOLOv8.0.8 🚀 Python-3.10.13 torch-1.13.1+cu117 CUDA:0 (Tesla T4, 14928MiB)\n",
      "Fusing layers... \n",
      "YOLOv8m summary: 218 layers, 25886080 parameters, 0 gradients\n",
      "Ultralytics YOLOv8.0.8 🚀 Python-3.10.13 torch-1.13.1+cu117 CUDA:0 (Tesla T4, 14928MiB)\n",
      "Fusing layers... \n",
      "YOLOv8m summary: 218 layers, 25886080 parameters, 0 gradients\n",
      "Ultralytics YOLOv8.0.8 🚀 Python-3.10.13 torch-1.13.1+cu117 CUDA:0 (Tesla T4, 14928MiB)\n",
      "Fusing layers... \n",
      "YOLOv8m summary: 218 layers, 25886080 parameters, 0 gradients\n",
      "Ultralytics YOLOv8.0.8 🚀 Python-3.10.13 torch-1.13.1+cu117 CUDA:0 (Tesla T4, 14928MiB)\n",
      "Fusing layers... \n",
      "YOLOv8m summary: 218 layers, 25886080 parameters, 0 gradients\n",
      "Ultralytics YOLOv8.0.8 🚀 Python-3.10.13 torch-1.13.1+cu117 CUDA:0 (Tesla T4, 14928MiB)\n",
      "Fusing layers... \n",
      "YOLOv8m summary: 218 layers, 25886080 parameters, 0 gradients\n",
      "Ultralytics YOLOv8.0.8 🚀 Python-3.10.13 torch-1.13.1+cu117 CUDA:0 (Tesla T4, 14928MiB)\n",
      "Fusing layers... \n",
      "YOLOv8m summary: 218 layers, 25886080 parameters, 0 gradients\n",
      "Ultralytics YOLOv8.0.8 🚀 Python-3.10.13 torch-1.13.1+cu117 CUDA:0 (Tesla T4, 14928MiB)\n",
      "Fusing layers... \n",
      "YOLOv8m summary: 218 layers, 25886080 parameters, 0 gradients\n",
      "Ultralytics YOLOv8.0.8 🚀 Python-3.10.13 torch-1.13.1+cu117 CUDA:0 (Tesla T4, 14928MiB)\n",
      "Fusing layers... \n",
      "YOLOv8m summary: 218 layers, 25886080 parameters, 0 gradients\n",
      "Ultralytics YOLOv8.0.8 🚀 Python-3.10.13 torch-1.13.1+cu117 CUDA:0 (Tesla T4, 14928MiB)\n",
      "Fusing layers... \n",
      "YOLOv8m summary: 218 layers, 25886080 parameters, 0 gradients\n",
      "Ultralytics YOLOv8.0.8 🚀 Python-3.10.13 torch-1.13.1+cu117 CUDA:0 (Tesla T4, 14928MiB)\n",
      "Fusing layers... \n",
      "YOLOv8m summary: 218 layers, 25886080 parameters, 0 gradients\n",
      "Ultralytics YOLOv8.0.8 🚀 Python-3.10.13 torch-1.13.1+cu117 CUDA:0 (Tesla T4, 14928MiB)\n",
      "Fusing layers... \n",
      "YOLOv8m summary: 218 layers, 25886080 parameters, 0 gradients\n",
      "Ultralytics YOLOv8.0.8 🚀 Python-3.10.13 torch-1.13.1+cu117 CUDA:0 (Tesla T4, 14928MiB)\n",
      "Fusing layers... \n",
      "YOLOv8m summary: 218 layers, 25886080 parameters, 0 gradients\n",
      "Ultralytics YOLOv8.0.8 🚀 Python-3.10.13 torch-1.13.1+cu117 CUDA:0 (Tesla T4, 14928MiB)\n",
      "Fusing layers... \n",
      "YOLOv8m summary: 218 layers, 25886080 parameters, 0 gradients\n",
      "Ultralytics YOLOv8.0.8 🚀 Python-3.10.13 torch-1.13.1+cu117 CUDA:0 (Tesla T4, 14928MiB)\n",
      "Fusing layers... \n",
      "YOLOv8m summary: 218 layers, 25886080 parameters, 0 gradients\n",
      "Ultralytics YOLOv8.0.8 🚀 Python-3.10.13 torch-1.13.1+cu117 CUDA:0 (Tesla T4, 14928MiB)\n",
      "Fusing layers... \n",
      "YOLOv8m summary: 218 layers, 25886080 parameters, 0 gradients\n",
      "Ultralytics YOLOv8.0.8 🚀 Python-3.10.13 torch-1.13.1+cu117 CUDA:0 (Tesla T4, 14928MiB)\n",
      "Fusing layers... \n",
      "YOLOv8m summary: 218 layers, 25886080 parameters, 0 gradients\n",
      "Ultralytics YOLOv8.0.8 🚀 Python-3.10.13 torch-1.13.1+cu117 CUDA:0 (Tesla T4, 14928MiB)\n",
      "Fusing layers... \n",
      "YOLOv8m summary: 218 layers, 25886080 parameters, 0 gradients\n",
      "Ultralytics YOLOv8.0.8 🚀 Python-3.10.13 torch-1.13.1+cu117 CUDA:0 (Tesla T4, 14928MiB)\n",
      "Fusing layers... \n",
      "YOLOv8m summary: 218 layers, 25886080 parameters, 0 gradients\n",
      "Ultralytics YOLOv8.0.8 🚀 Python-3.10.13 torch-1.13.1+cu117 CUDA:0 (Tesla T4, 14928MiB)\n",
      "Fusing layers... \n",
      "YOLOv8m summary: 218 layers, 25886080 parameters, 0 gradients\n",
      "Ultralytics YOLOv8.0.8 🚀 Python-3.10.13 torch-1.13.1+cu117 CUDA:0 (Tesla T4, 14928MiB)\n",
      "Fusing layers... \n",
      "YOLOv8m summary: 218 layers, 25886080 parameters, 0 gradients\n",
      "Ultralytics YOLOv8.0.8 🚀 Python-3.10.13 torch-1.13.1+cu117 CUDA:0 (Tesla T4, 14928MiB)\n",
      "Fusing layers... \n",
      "YOLOv8m summary: 218 layers, 25886080 parameters, 0 gradients\n",
      "Ultralytics YOLOv8.0.8 🚀 Python-3.10.13 torch-1.13.1+cu117 CUDA:0 (Tesla T4, 14928MiB)\n",
      "Fusing layers... \n",
      "YOLOv8m summary: 218 layers, 25886080 parameters, 0 gradients\n",
      "Ultralytics YOLOv8.0.8 🚀 Python-3.10.13 torch-1.13.1+cu117 CUDA:0 (Tesla T4, 14928MiB)\n",
      "Fusing layers... \n",
      "YOLOv8m summary: 218 layers, 25886080 parameters, 0 gradients\n",
      "Ultralytics YOLOv8.0.8 🚀 Python-3.10.13 torch-1.13.1+cu117 CUDA:0 (Tesla T4, 14928MiB)\n",
      "Fusing layers... \n",
      "YOLOv8m summary: 218 layers, 25886080 parameters, 0 gradients\n",
      "Ultralytics YOLOv8.0.8 🚀 Python-3.10.13 torch-1.13.1+cu117 CUDA:0 (Tesla T4, 14928MiB)\n",
      "Fusing layers... \n",
      "YOLOv8m summary: 218 layers, 25886080 parameters, 0 gradients\n",
      "Ultralytics YOLOv8.0.8 🚀 Python-3.10.13 torch-1.13.1+cu117 CUDA:0 (Tesla T4, 14928MiB)\n",
      "Fusing layers... \n",
      "YOLOv8m summary: 218 layers, 25886080 parameters, 0 gradients\n",
      "Ultralytics YOLOv8.0.8 🚀 Python-3.10.13 torch-1.13.1+cu117 CUDA:0 (Tesla T4, 14928MiB)\n",
      "Fusing layers... \n",
      "YOLOv8m summary: 218 layers, 25886080 parameters, 0 gradients\n",
      "Ultralytics YOLOv8.0.8 🚀 Python-3.10.13 torch-1.13.1+cu117 CUDA:0 (Tesla T4, 14928MiB)\n",
      "Fusing layers... \n",
      "YOLOv8m summary: 218 layers, 25886080 parameters, 0 gradients\n",
      "Ultralytics YOLOv8.0.8 🚀 Python-3.10.13 torch-1.13.1+cu117 CUDA:0 (Tesla T4, 14928MiB)\n",
      "Fusing layers... \n",
      "YOLOv8m summary: 218 layers, 25886080 parameters, 0 gradients\n",
      "Ultralytics YOLOv8.0.8 🚀 Python-3.10.13 torch-1.13.1+cu117 CUDA:0 (Tesla T4, 14928MiB)\n",
      "Fusing layers... \n",
      "YOLOv8m summary: 218 layers, 25886080 parameters, 0 gradients\n",
      "Ultralytics YOLOv8.0.8 🚀 Python-3.10.13 torch-1.13.1+cu117 CUDA:0 (Tesla T4, 14928MiB)\n",
      "Fusing layers... \n",
      "YOLOv8m summary: 218 layers, 25886080 parameters, 0 gradients\n",
      "Ultralytics YOLOv8.0.8 🚀 Python-3.10.13 torch-1.13.1+cu117 CUDA:0 (Tesla T4, 14928MiB)\n",
      "Fusing layers... \n",
      "YOLOv8m summary: 218 layers, 25886080 parameters, 0 gradients\n",
      "Ultralytics YOLOv8.0.8 🚀 Python-3.10.13 torch-1.13.1+cu117 CUDA:0 (Tesla T4, 14928MiB)\n",
      "Fusing layers... \n",
      "YOLOv8m summary: 218 layers, 25886080 parameters, 0 gradients\n",
      "Ultralytics YOLOv8.0.8 🚀 Python-3.10.13 torch-1.13.1+cu117 CUDA:0 (Tesla T4, 14928MiB)\n",
      "Fusing layers... \n",
      "YOLOv8m summary: 218 layers, 25886080 parameters, 0 gradients\n",
      "Ultralytics YOLOv8.0.8 🚀 Python-3.10.13 torch-1.13.1+cu117 CUDA:0 (Tesla T4, 14928MiB)\n",
      "Fusing layers... \n",
      "YOLOv8m summary: 218 layers, 25886080 parameters, 0 gradients\n",
      "Ultralytics YOLOv8.0.8 🚀 Python-3.10.13 torch-1.13.1+cu117 CUDA:0 (Tesla T4, 14928MiB)\n",
      "Fusing layers... \n",
      "YOLOv8m summary: 218 layers, 25886080 parameters, 0 gradients\n",
      "Ultralytics YOLOv8.0.8 🚀 Python-3.10.13 torch-1.13.1+cu117 CUDA:0 (Tesla T4, 14928MiB)\n",
      "Fusing layers... \n",
      "YOLOv8m summary: 218 layers, 25886080 parameters, 0 gradients\n",
      "Ultralytics YOLOv8.0.8 🚀 Python-3.10.13 torch-1.13.1+cu117 CUDA:0 (Tesla T4, 14928MiB)\n",
      "Fusing layers... \n",
      "YOLOv8m summary: 218 layers, 25886080 parameters, 0 gradients\n",
      "Ultralytics YOLOv8.0.8 🚀 Python-3.10.13 torch-1.13.1+cu117 CUDA:0 (Tesla T4, 14928MiB)\n",
      "Fusing layers... \n",
      "YOLOv8m summary: 218 layers, 25886080 parameters, 0 gradients\n",
      "Ultralytics YOLOv8.0.8 🚀 Python-3.10.13 torch-1.13.1+cu117 CUDA:0 (Tesla T4, 14928MiB)\n",
      "Fusing layers... \n",
      "YOLOv8m summary: 218 layers, 25886080 parameters, 0 gradients\n",
      "Ultralytics YOLOv8.0.8 🚀 Python-3.10.13 torch-1.13.1+cu117 CUDA:0 (Tesla T4, 14928MiB)\n",
      "Fusing layers... \n",
      "YOLOv8m summary: 218 layers, 25886080 parameters, 0 gradients\n",
      "Ultralytics YOLOv8.0.8 🚀 Python-3.10.13 torch-1.13.1+cu117 CUDA:0 (Tesla T4, 14928MiB)\n",
      "Fusing layers... \n",
      "YOLOv8m summary: 218 layers, 25886080 parameters, 0 gradients\n",
      "Ultralytics YOLOv8.0.8 🚀 Python-3.10.13 torch-1.13.1+cu117 CUDA:0 (Tesla T4, 14928MiB)\n",
      "Fusing layers... \n",
      "YOLOv8m summary: 218 layers, 25886080 parameters, 0 gradients\n",
      "Ultralytics YOLOv8.0.8 🚀 Python-3.10.13 torch-1.13.1+cu117 CUDA:0 (Tesla T4, 14928MiB)\n",
      "Fusing layers... \n",
      "YOLOv8m summary: 218 layers, 25886080 parameters, 0 gradients\n",
      "Ultralytics YOLOv8.0.8 🚀 Python-3.10.13 torch-1.13.1+cu117 CUDA:0 (Tesla T4, 14928MiB)\n",
      "Fusing layers... \n",
      "YOLOv8m summary: 218 layers, 25886080 parameters, 0 gradients\n",
      "Ultralytics YOLOv8.0.8 🚀 Python-3.10.13 torch-1.13.1+cu117 CUDA:0 (Tesla T4, 14928MiB)\n",
      "Fusing layers... \n",
      "YOLOv8m summary: 218 layers, 25886080 parameters, 0 gradients\n",
      "Ultralytics YOLOv8.0.8 🚀 Python-3.10.13 torch-1.13.1+cu117 CUDA:0 (Tesla T4, 14928MiB)\n",
      "Fusing layers... \n",
      "YOLOv8m summary: 218 layers, 25886080 parameters, 0 gradients\n",
      "Ultralytics YOLOv8.0.8 🚀 Python-3.10.13 torch-1.13.1+cu117 CUDA:0 (Tesla T4, 14928MiB)\n",
      "Fusing layers... \n",
      "YOLOv8m summary: 218 layers, 25886080 parameters, 0 gradients\n",
      "Ultralytics YOLOv8.0.8 🚀 Python-3.10.13 torch-1.13.1+cu117 CUDA:0 (Tesla T4, 14928MiB)\n",
      "Fusing layers... \n",
      "YOLOv8m summary: 218 layers, 25886080 parameters, 0 gradients\n",
      "Ultralytics YOLOv8.0.8 🚀 Python-3.10.13 torch-1.13.1+cu117 CUDA:0 (Tesla T4, 14928MiB)\n",
      "Fusing layers... \n",
      "YOLOv8m summary: 218 layers, 25886080 parameters, 0 gradients\n",
      "Ultralytics YOLOv8.0.8 🚀 Python-3.10.13 torch-1.13.1+cu117 CUDA:0 (Tesla T4, 14928MiB)\n",
      "Fusing layers... \n",
      "YOLOv8m summary: 218 layers, 25886080 parameters, 0 gradients\n",
      "Ultralytics YOLOv8.0.8 🚀 Python-3.10.13 torch-1.13.1+cu117 CUDA:0 (Tesla T4, 14928MiB)\n",
      "Fusing layers... \n",
      "YOLOv8m summary: 218 layers, 25886080 parameters, 0 gradients\n",
      "Ultralytics YOLOv8.0.8 🚀 Python-3.10.13 torch-1.13.1+cu117 CUDA:0 (Tesla T4, 14928MiB)\n",
      "Fusing layers... \n",
      "YOLOv8m summary: 218 layers, 25886080 parameters, 0 gradients\n",
      "Ultralytics YOLOv8.0.8 🚀 Python-3.10.13 torch-1.13.1+cu117 CUDA:0 (Tesla T4, 14928MiB)\n",
      "Fusing layers... \n",
      "YOLOv8m summary: 218 layers, 25886080 parameters, 0 gradients\n",
      "Ultralytics YOLOv8.0.8 🚀 Python-3.10.13 torch-1.13.1+cu117 CUDA:0 (Tesla T4, 14928MiB)\n",
      "Fusing layers... \n",
      "YOLOv8m summary: 218 layers, 25886080 parameters, 0 gradients\n",
      "Ultralytics YOLOv8.0.8 🚀 Python-3.10.13 torch-1.13.1+cu117 CUDA:0 (Tesla T4, 14928MiB)\n",
      "Fusing layers... \n",
      "YOLOv8m summary: 218 layers, 25886080 parameters, 0 gradients\n",
      "Ultralytics YOLOv8.0.8 🚀 Python-3.10.13 torch-1.13.1+cu117 CUDA:0 (Tesla T4, 14928MiB)\n",
      "Fusing layers... \n",
      "YOLOv8m summary: 218 layers, 25886080 parameters, 0 gradients\n",
      "Ultralytics YOLOv8.0.8 🚀 Python-3.10.13 torch-1.13.1+cu117 CUDA:0 (Tesla T4, 14928MiB)\n",
      "Fusing layers... \n",
      "YOLOv8m summary: 218 layers, 25886080 parameters, 0 gradients\n",
      "Ultralytics YOLOv8.0.8 🚀 Python-3.10.13 torch-1.13.1+cu117 CUDA:0 (Tesla T4, 14928MiB)\n",
      "Fusing layers... \n",
      "YOLOv8m summary: 218 layers, 25886080 parameters, 0 gradients\n",
      "Ultralytics YOLOv8.0.8 🚀 Python-3.10.13 torch-1.13.1+cu117 CUDA:0 (Tesla T4, 14928MiB)\n",
      "Fusing layers... \n",
      "YOLOv8m summary: 218 layers, 25886080 parameters, 0 gradients\n",
      "Ultralytics YOLOv8.0.8 🚀 Python-3.10.13 torch-1.13.1+cu117 CUDA:0 (Tesla T4, 14928MiB)\n",
      "Fusing layers... \n",
      "YOLOv8m summary: 218 layers, 25886080 parameters, 0 gradients\n",
      "Ultralytics YOLOv8.0.8 🚀 Python-3.10.13 torch-1.13.1+cu117 CUDA:0 (Tesla T4, 14928MiB)\n",
      "Fusing layers... \n",
      "YOLOv8m summary: 218 layers, 25886080 parameters, 0 gradients\n",
      "Ultralytics YOLOv8.0.8 🚀 Python-3.10.13 torch-1.13.1+cu117 CUDA:0 (Tesla T4, 14928MiB)\n",
      "Fusing layers... \n",
      "YOLOv8m summary: 218 layers, 25886080 parameters, 0 gradients\n",
      "Ultralytics YOLOv8.0.8 🚀 Python-3.10.13 torch-1.13.1+cu117 CUDA:0 (Tesla T4, 14928MiB)\n",
      "Fusing layers... \n",
      "YOLOv8m summary: 218 layers, 25886080 parameters, 0 gradients\n",
      "Ultralytics YOLOv8.0.8 🚀 Python-3.10.13 torch-1.13.1+cu117 CUDA:0 (Tesla T4, 14928MiB)\n",
      "Fusing layers... \n",
      "YOLOv8m summary: 218 layers, 25886080 parameters, 0 gradients\n",
      "Ultralytics YOLOv8.0.8 🚀 Python-3.10.13 torch-1.13.1+cu117 CUDA:0 (Tesla T4, 14928MiB)\n",
      "Fusing layers... \n",
      "YOLOv8m summary: 218 layers, 25886080 parameters, 0 gradients\n",
      "Ultralytics YOLOv8.0.8 🚀 Python-3.10.13 torch-1.13.1+cu117 CUDA:0 (Tesla T4, 14928MiB)\n",
      "Fusing layers... \n",
      "YOLOv8m summary: 218 layers, 25886080 parameters, 0 gradients\n",
      "Ultralytics YOLOv8.0.8 🚀 Python-3.10.13 torch-1.13.1+cu117 CUDA:0 (Tesla T4, 14928MiB)\n",
      "Fusing layers... \n",
      "YOLOv8m summary: 218 layers, 25886080 parameters, 0 gradients\n",
      "Ultralytics YOLOv8.0.8 🚀 Python-3.10.13 torch-1.13.1+cu117 CUDA:0 (Tesla T4, 14928MiB)\n",
      "Fusing layers... \n",
      "YOLOv8m summary: 218 layers, 25886080 parameters, 0 gradients\n",
      "Ultralytics YOLOv8.0.8 🚀 Python-3.10.13 torch-1.13.1+cu117 CUDA:0 (Tesla T4, 14928MiB)\n",
      "Fusing layers... \n",
      "YOLOv8m summary: 218 layers, 25886080 parameters, 0 gradients\n",
      "Ultralytics YOLOv8.0.8 🚀 Python-3.10.13 torch-1.13.1+cu117 CUDA:0 (Tesla T4, 14928MiB)\n",
      "Fusing layers... \n",
      "YOLOv8m summary: 218 layers, 25886080 parameters, 0 gradients\n",
      "Ultralytics YOLOv8.0.8 🚀 Python-3.10.13 torch-1.13.1+cu117 CUDA:0 (Tesla T4, 14928MiB)\n",
      "Fusing layers... \n",
      "YOLOv8m summary: 218 layers, 25886080 parameters, 0 gradients\n",
      "Ultralytics YOLOv8.0.8 🚀 Python-3.10.13 torch-1.13.1+cu117 CUDA:0 (Tesla T4, 14928MiB)\n",
      "Fusing layers... \n",
      "YOLOv8m summary: 218 layers, 25886080 parameters, 0 gradients\n",
      "Ultralytics YOLOv8.0.8 🚀 Python-3.10.13 torch-1.13.1+cu117 CUDA:0 (Tesla T4, 14928MiB)\n",
      "Fusing layers... \n",
      "YOLOv8m summary: 218 layers, 25886080 parameters, 0 gradients\n",
      "Ultralytics YOLOv8.0.8 🚀 Python-3.10.13 torch-1.13.1+cu117 CUDA:0 (Tesla T4, 14928MiB)\n",
      "Fusing layers... \n",
      "YOLOv8m summary: 218 layers, 25886080 parameters, 0 gradients\n",
      "Ultralytics YOLOv8.0.8 🚀 Python-3.10.13 torch-1.13.1+cu117 CUDA:0 (Tesla T4, 14928MiB)\n",
      "Fusing layers... \n",
      "YOLOv8m summary: 218 layers, 25886080 parameters, 0 gradients\n",
      "Ultralytics YOLOv8.0.8 🚀 Python-3.10.13 torch-1.13.1+cu117 CUDA:0 (Tesla T4, 14928MiB)\n",
      "Fusing layers... \n",
      "YOLOv8m summary: 218 layers, 25886080 parameters, 0 gradients\n",
      "Ultralytics YOLOv8.0.8 🚀 Python-3.10.13 torch-1.13.1+cu117 CUDA:0 (Tesla T4, 14928MiB)\n",
      "Fusing layers... \n",
      "YOLOv8m summary: 218 layers, 25886080 parameters, 0 gradients\n",
      "Ultralytics YOLOv8.0.8 🚀 Python-3.10.13 torch-1.13.1+cu117 CUDA:0 (Tesla T4, 14928MiB)\n",
      "Fusing layers... \n",
      "YOLOv8m summary: 218 layers, 25886080 parameters, 0 gradients\n",
      "Ultralytics YOLOv8.0.8 🚀 Python-3.10.13 torch-1.13.1+cu117 CUDA:0 (Tesla T4, 14928MiB)\n",
      "Fusing layers... \n",
      "YOLOv8m summary: 218 layers, 25886080 parameters, 0 gradients\n",
      "Ultralytics YOLOv8.0.8 🚀 Python-3.10.13 torch-1.13.1+cu117 CUDA:0 (Tesla T4, 14928MiB)\n",
      "Fusing layers... \n",
      "YOLOv8m summary: 218 layers, 25886080 parameters, 0 gradients\n",
      "Ultralytics YOLOv8.0.8 🚀 Python-3.10.13 torch-1.13.1+cu117 CUDA:0 (Tesla T4, 14928MiB)\n",
      "Fusing layers... \n",
      "YOLOv8m summary: 218 layers, 25886080 parameters, 0 gradients\n",
      "Ultralytics YOLOv8.0.8 🚀 Python-3.10.13 torch-1.13.1+cu117 CUDA:0 (Tesla T4, 14928MiB)\n",
      "Fusing layers... \n",
      "YOLOv8m summary: 218 layers, 25886080 parameters, 0 gradients\n",
      "Ultralytics YOLOv8.0.8 🚀 Python-3.10.13 torch-1.13.1+cu117 CUDA:0 (Tesla T4, 14928MiB)\n",
      "Fusing layers... \n",
      "YOLOv8m summary: 218 layers, 25886080 parameters, 0 gradients\n",
      "Ultralytics YOLOv8.0.8 🚀 Python-3.10.13 torch-1.13.1+cu117 CUDA:0 (Tesla T4, 14928MiB)\n",
      "Fusing layers... \n",
      "YOLOv8m summary: 218 layers, 25886080 parameters, 0 gradients\n",
      "Ultralytics YOLOv8.0.8 🚀 Python-3.10.13 torch-1.13.1+cu117 CUDA:0 (Tesla T4, 14928MiB)\n",
      "Fusing layers... \n",
      "YOLOv8m summary: 218 layers, 25886080 parameters, 0 gradients\n",
      "Ultralytics YOLOv8.0.8 🚀 Python-3.10.13 torch-1.13.1+cu117 CUDA:0 (Tesla T4, 14928MiB)\n",
      "Fusing layers... \n",
      "YOLOv8m summary: 218 layers, 25886080 parameters, 0 gradients\n",
      "Ultralytics YOLOv8.0.8 🚀 Python-3.10.13 torch-1.13.1+cu117 CUDA:0 (Tesla T4, 14928MiB)\n",
      "Fusing layers... \n",
      "YOLOv8m summary: 218 layers, 25886080 parameters, 0 gradients\n",
      "Ultralytics YOLOv8.0.8 🚀 Python-3.10.13 torch-1.13.1+cu117 CUDA:0 (Tesla T4, 14928MiB)\n",
      "Fusing layers... \n",
      "YOLOv8m summary: 218 layers, 25886080 parameters, 0 gradients\n",
      "Ultralytics YOLOv8.0.8 🚀 Python-3.10.13 torch-1.13.1+cu117 CUDA:0 (Tesla T4, 14928MiB)\n",
      "Fusing layers... \n",
      "YOLOv8m summary: 218 layers, 25886080 parameters, 0 gradients\n",
      "Ultralytics YOLOv8.0.8 🚀 Python-3.10.13 torch-1.13.1+cu117 CUDA:0 (Tesla T4, 14928MiB)\n",
      "Fusing layers... \n",
      "YOLOv8m summary: 218 layers, 25886080 parameters, 0 gradients\n",
      "Ultralytics YOLOv8.0.8 🚀 Python-3.10.13 torch-1.13.1+cu117 CUDA:0 (Tesla T4, 14928MiB)\n",
      "Fusing layers... \n",
      "YOLOv8m summary: 218 layers, 25886080 parameters, 0 gradients\n",
      "Ultralytics YOLOv8.0.8 🚀 Python-3.10.13 torch-1.13.1+cu117 CUDA:0 (Tesla T4, 14928MiB)\n",
      "Fusing layers... \n",
      "YOLOv8m summary: 218 layers, 25886080 parameters, 0 gradients\n",
      "Ultralytics YOLOv8.0.8 🚀 Python-3.10.13 torch-1.13.1+cu117 CUDA:0 (Tesla T4, 14928MiB)\n",
      "Fusing layers... \n",
      "YOLOv8m summary: 218 layers, 25886080 parameters, 0 gradients\n",
      "Ultralytics YOLOv8.0.8 🚀 Python-3.10.13 torch-1.13.1+cu117 CUDA:0 (Tesla T4, 14928MiB)\n",
      "Fusing layers... \n",
      "YOLOv8m summary: 218 layers, 25886080 parameters, 0 gradients\n",
      "Ultralytics YOLOv8.0.8 🚀 Python-3.10.13 torch-1.13.1+cu117 CUDA:0 (Tesla T4, 14928MiB)\n",
      "Fusing layers... \n",
      "YOLOv8m summary: 218 layers, 25886080 parameters, 0 gradients\n",
      "Ultralytics YOLOv8.0.8 🚀 Python-3.10.13 torch-1.13.1+cu117 CUDA:0 (Tesla T4, 14928MiB)\n",
      "Fusing layers... \n",
      "YOLOv8m summary: 218 layers, 25886080 parameters, 0 gradients\n",
      "Ultralytics YOLOv8.0.8 🚀 Python-3.10.13 torch-1.13.1+cu117 CUDA:0 (Tesla T4, 14928MiB)\n",
      "Fusing layers... \n",
      "YOLOv8m summary: 218 layers, 25886080 parameters, 0 gradients\n",
      "Ultralytics YOLOv8.0.8 🚀 Python-3.10.13 torch-1.13.1+cu117 CUDA:0 (Tesla T4, 14928MiB)\n",
      "Fusing layers... \n",
      "YOLOv8m summary: 218 layers, 25886080 parameters, 0 gradients\n",
      "Ultralytics YOLOv8.0.8 🚀 Python-3.10.13 torch-1.13.1+cu117 CUDA:0 (Tesla T4, 14928MiB)\n",
      "Fusing layers... \n",
      "YOLOv8m summary: 218 layers, 25886080 parameters, 0 gradients\n",
      "Ultralytics YOLOv8.0.8 🚀 Python-3.10.13 torch-1.13.1+cu117 CUDA:0 (Tesla T4, 14928MiB)\n",
      "Fusing layers... \n",
      "YOLOv8m summary: 218 layers, 25886080 parameters, 0 gradients\n",
      "Ultralytics YOLOv8.0.8 🚀 Python-3.10.13 torch-1.13.1+cu117 CUDA:0 (Tesla T4, 14928MiB)\n",
      "Fusing layers... \n",
      "YOLOv8m summary: 218 layers, 25886080 parameters, 0 gradients\n",
      "Ultralytics YOLOv8.0.8 🚀 Python-3.10.13 torch-1.13.1+cu117 CUDA:0 (Tesla T4, 14928MiB)\n",
      "Fusing layers... \n",
      "YOLOv8m summary: 218 layers, 25886080 parameters, 0 gradients\n",
      "Ultralytics YOLOv8.0.8 🚀 Python-3.10.13 torch-1.13.1+cu117 CUDA:0 (Tesla T4, 14928MiB)\n",
      "Fusing layers... \n",
      "YOLOv8m summary: 218 layers, 25886080 parameters, 0 gradients\n",
      "Ultralytics YOLOv8.0.8 🚀 Python-3.10.13 torch-1.13.1+cu117 CUDA:0 (Tesla T4, 14928MiB)\n",
      "Fusing layers... \n",
      "YOLOv8m summary: 218 layers, 25886080 parameters, 0 gradients\n",
      "Ultralytics YOLOv8.0.8 🚀 Python-3.10.13 torch-1.13.1+cu117 CUDA:0 (Tesla T4, 14928MiB)\n",
      "Fusing layers... \n",
      "YOLOv8m summary: 218 layers, 25886080 parameters, 0 gradients\n",
      "Ultralytics YOLOv8.0.8 🚀 Python-3.10.13 torch-1.13.1+cu117 CUDA:0 (Tesla T4, 14928MiB)\n",
      "Fusing layers... \n",
      "YOLOv8m summary: 218 layers, 25886080 parameters, 0 gradients\n",
      "Ultralytics YOLOv8.0.8 🚀 Python-3.10.13 torch-1.13.1+cu117 CUDA:0 (Tesla T4, 14928MiB)\n",
      "Fusing layers... \n",
      "YOLOv8m summary: 218 layers, 25886080 parameters, 0 gradients\n",
      "Ultralytics YOLOv8.0.8 🚀 Python-3.10.13 torch-1.13.1+cu117 CUDA:0 (Tesla T4, 14928MiB)\n",
      "Fusing layers... \n",
      "YOLOv8m summary: 218 layers, 25886080 parameters, 0 gradients\n",
      "Ultralytics YOLOv8.0.8 🚀 Python-3.10.13 torch-1.13.1+cu117 CUDA:0 (Tesla T4, 14928MiB)\n",
      "Fusing layers... \n",
      "YOLOv8m summary: 218 layers, 25886080 parameters, 0 gradients\n",
      "Ultralytics YOLOv8.0.8 🚀 Python-3.10.13 torch-1.13.1+cu117 CUDA:0 (Tesla T4, 14928MiB)\n",
      "Fusing layers... \n",
      "YOLOv8m summary: 218 layers, 25886080 parameters, 0 gradients\n",
      "Ultralytics YOLOv8.0.8 🚀 Python-3.10.13 torch-1.13.1+cu117 CUDA:0 (Tesla T4, 14928MiB)\n",
      "Fusing layers... \n",
      "YOLOv8m summary: 218 layers, 25886080 parameters, 0 gradients\n",
      "Ultralytics YOLOv8.0.8 🚀 Python-3.10.13 torch-1.13.1+cu117 CUDA:0 (Tesla T4, 14928MiB)\n",
      "Fusing layers... \n",
      "YOLOv8m summary: 218 layers, 25886080 parameters, 0 gradients\n",
      "Ultralytics YOLOv8.0.8 🚀 Python-3.10.13 torch-1.13.1+cu117 CUDA:0 (Tesla T4, 14928MiB)\n",
      "Fusing layers... \n",
      "YOLOv8m summary: 218 layers, 25886080 parameters, 0 gradients\n",
      "Ultralytics YOLOv8.0.8 🚀 Python-3.10.13 torch-1.13.1+cu117 CUDA:0 (Tesla T4, 14928MiB)\n",
      "Fusing layers... \n",
      "YOLOv8m summary: 218 layers, 25886080 parameters, 0 gradients\n",
      "Ultralytics YOLOv8.0.8 🚀 Python-3.10.13 torch-1.13.1+cu117 CUDA:0 (Tesla T4, 14928MiB)\n",
      "Fusing layers... \n",
      "YOLOv8m summary: 218 layers, 25886080 parameters, 0 gradients\n",
      "Ultralytics YOLOv8.0.8 🚀 Python-3.10.13 torch-1.13.1+cu117 CUDA:0 (Tesla T4, 14928MiB)\n",
      "Fusing layers... \n",
      "YOLOv8m summary: 218 layers, 25886080 parameters, 0 gradients\n",
      "Ultralytics YOLOv8.0.8 🚀 Python-3.10.13 torch-1.13.1+cu117 CUDA:0 (Tesla T4, 14928MiB)\n",
      "Fusing layers... \n",
      "YOLOv8m summary: 218 layers, 25886080 parameters, 0 gradients\n",
      "Ultralytics YOLOv8.0.8 🚀 Python-3.10.13 torch-1.13.1+cu117 CUDA:0 (Tesla T4, 14928MiB)\n",
      "Fusing layers... \n",
      "YOLOv8m summary: 218 layers, 25886080 parameters, 0 gradients\n",
      "Ultralytics YOLOv8.0.8 🚀 Python-3.10.13 torch-1.13.1+cu117 CUDA:0 (Tesla T4, 14928MiB)\n",
      "Fusing layers... \n",
      "YOLOv8m summary: 218 layers, 25886080 parameters, 0 gradients\n",
      "Ultralytics YOLOv8.0.8 🚀 Python-3.10.13 torch-1.13.1+cu117 CUDA:0 (Tesla T4, 14928MiB)\n",
      "Fusing layers... \n",
      "YOLOv8m summary: 218 layers, 25886080 parameters, 0 gradients\n",
      "Ultralytics YOLOv8.0.8 🚀 Python-3.10.13 torch-1.13.1+cu117 CUDA:0 (Tesla T4, 14928MiB)\n",
      "Fusing layers... \n",
      "YOLOv8m summary: 218 layers, 25886080 parameters, 0 gradients\n"
     ]
    }
   ],
   "source": [
    "import cv2\n",
    "import imagehash\n",
    "from PIL import Image\n",
    "\n",
    "video_info = dict()\n",
    "frame_info = dict()\n",
    "\n",
    "for frame in frame_path:\n",
    "    frame_no = frame.split('/')[-1]\n",
    "    results = model.predict(frame)\n",
    "    \n",
    "    res_dict = dict()\n",
    "    i2 = cv2.imread(frame)\n",
    "    \n",
    "    for result in results:                                          # iterate results\n",
    "        boxes = result.boxes.cpu().numpy()                          # get boxes on cpu in numpy\n",
    "        \n",
    "        for box in boxes:                                           # iterate boxes\n",
    "            r = box.xyxy[0].astype(int)                             # get corner points as int\n",
    "\n",
    "            if model.model.names[int(box.cls.item())] == 'person':\n",
    "                bb_img = i2[r[1]:r[1]+r[3],r[0]:r[0]+r[2]]\n",
    "\n",
    "                phash = str(imagehash.phash(Image.fromarray(bb_img)))\n",
    "\n",
    "                if frame_no not in video_info.keys():\n",
    "                    video_info[frame_no] = {'count': 1, 'co_ord': [r]}\n",
    "                else:\n",
    "                    video_info[frame_no]['count'] += 1\n",
    "                    video_info[frame_no]['co_ord'].append(r)\n",
    "\n",
    "                if phash not in frame_info.keys():\n",
    "                    frame_info[phash] = {'count': 1, 'co_ord': [r], 'frame_no': [frame_no]}#, 'bb_embed': [bb_embed]}\n",
    "                else:\n",
    "                    frame_info[phash]['count'] += 1\n",
    "                    frame_info[phash]['co_ord'].append(r)\n",
    "                    frame_info[phash]['frame_no'].append(frame_no)"
   ]
  },
  {
   "cell_type": "code",
   "execution_count": 20,
   "id": "c18288f6-ee43-425d-b494-4f71689f984c",
   "metadata": {
    "tags": []
   },
   "outputs": [],
   "source": [
    "import pandas as pd\n",
    "\n",
    "ft_df = pd.DataFrame(frame_info)\n",
    "ft_df.transpose().reset_index().to_csv('key_frame_info2.csv')"
   ]
  },
  {
   "cell_type": "code",
   "execution_count": 21,
   "id": "d14468a0-b702-4d4a-afa6-e8790e69486d",
   "metadata": {
    "tags": []
   },
   "outputs": [],
   "source": [
    "vd_df = pd.DataFrame(video_info)\n",
    "vd_df.transpose().reset_index().to_csv('video_info_keyframe.csv')"
   ]
  },
  {
   "cell_type": "code",
   "execution_count": 24,
   "id": "16690e2e-9402-4a2c-96e6-fc21a38881a2",
   "metadata": {
    "tags": []
   },
   "outputs": [],
   "source": [
    "from datasets import Dataset\n",
    "\n",
    "frame_dt = Dataset.from_pandas(ft_df.transpose().reset_index())"
   ]
  },
  {
   "cell_type": "code",
   "execution_count": null,
   "id": "93e0e0fe-6af1-45d5-b565-c8680d03fed4",
   "metadata": {
    "scrolled": true,
    "tags": []
   },
   "outputs": [
    {
     "data": {
      "application/vnd.jupyter.widget-view+json": {
       "model_id": "3753d9d7e5834580b2b8bacf6368e51e",
       "version_major": 2,
       "version_minor": 0
      },
      "text/plain": [
       "Map:   0%|          | 0/407 [00:00<?, ? examples/s]"
      ]
     },
     "metadata": {},
     "output_type": "display_data"
    },
    {
     "data": {
      "application/vnd.jupyter.widget-view+json": {
       "model_id": "00308374888f4121a87394860316b18d",
       "version_major": 2,
       "version_minor": 0
      },
      "text/plain": [
       "Batches:   0%|          | 0/1 [00:00<?, ?it/s]"
      ]
     },
     "metadata": {},
     "output_type": "display_data"
    },
    {
     "data": {
      "application/vnd.jupyter.widget-view+json": {
       "model_id": "17d04af950584aa7811a5f08b467547e",
       "version_major": 2,
       "version_minor": 0
      },
      "text/plain": [
       "Batches:   0%|          | 0/1 [00:00<?, ?it/s]"
      ]
     },
     "metadata": {},
     "output_type": "display_data"
    },
    {
     "data": {
      "application/vnd.jupyter.widget-view+json": {
       "model_id": "9504fab5796944f58dd399aa5c2e451a",
       "version_major": 2,
       "version_minor": 0
      },
      "text/plain": [
       "Batches:   0%|          | 0/1 [00:00<?, ?it/s]"
      ]
     },
     "metadata": {},
     "output_type": "display_data"
    },
    {
     "data": {
      "application/vnd.jupyter.widget-view+json": {
       "model_id": "36ff28080fd248e9b248d4312d9b9e01",
       "version_major": 2,
       "version_minor": 0
      },
      "text/plain": [
       "Batches:   0%|          | 0/1 [00:00<?, ?it/s]"
      ]
     },
     "metadata": {},
     "output_type": "display_data"
    },
    {
     "data": {
      "application/vnd.jupyter.widget-view+json": {
       "model_id": "62b3ee7f716742ec9cdade8ab8c2be99",
       "version_major": 2,
       "version_minor": 0
      },
      "text/plain": [
       "Batches:   0%|          | 0/1 [00:00<?, ?it/s]"
      ]
     },
     "metadata": {},
     "output_type": "display_data"
    },
    {
     "data": {
      "application/vnd.jupyter.widget-view+json": {
       "model_id": "8b6b2ea0368746e69b85f9f6f8442144",
       "version_major": 2,
       "version_minor": 0
      },
      "text/plain": [
       "Batches:   0%|          | 0/1 [00:00<?, ?it/s]"
      ]
     },
     "metadata": {},
     "output_type": "display_data"
    },
    {
     "data": {
      "application/vnd.jupyter.widget-view+json": {
       "model_id": "069c70ad2d6f49d18e2faf87cdd69257",
       "version_major": 2,
       "version_minor": 0
      },
      "text/plain": [
       "Batches:   0%|          | 0/1 [00:00<?, ?it/s]"
      ]
     },
     "metadata": {},
     "output_type": "display_data"
    },
    {
     "data": {
      "application/vnd.jupyter.widget-view+json": {
       "model_id": "b53f0c01060e43aba32f1bbac50959e8",
       "version_major": 2,
       "version_minor": 0
      },
      "text/plain": [
       "Batches:   0%|          | 0/1 [00:00<?, ?it/s]"
      ]
     },
     "metadata": {},
     "output_type": "display_data"
    },
    {
     "data": {
      "application/vnd.jupyter.widget-view+json": {
       "model_id": "e02524f59c274e15a294cde87600e544",
       "version_major": 2,
       "version_minor": 0
      },
      "text/plain": [
       "Batches:   0%|          | 0/1 [00:00<?, ?it/s]"
      ]
     },
     "metadata": {},
     "output_type": "display_data"
    },
    {
     "data": {
      "application/vnd.jupyter.widget-view+json": {
       "model_id": "986f850f35b9452a89d513d4473a278d",
       "version_major": 2,
       "version_minor": 0
      },
      "text/plain": [
       "Batches:   0%|          | 0/1 [00:00<?, ?it/s]"
      ]
     },
     "metadata": {},
     "output_type": "display_data"
    },
    {
     "data": {
      "application/vnd.jupyter.widget-view+json": {
       "model_id": "ac0fada104584448af72b434188bb518",
       "version_major": 2,
       "version_minor": 0
      },
      "text/plain": [
       "Batches:   0%|          | 0/1 [00:00<?, ?it/s]"
      ]
     },
     "metadata": {},
     "output_type": "display_data"
    },
    {
     "data": {
      "application/vnd.jupyter.widget-view+json": {
       "model_id": "aae6d897295b476cbe082a59188b13c6",
       "version_major": 2,
       "version_minor": 0
      },
      "text/plain": [
       "Batches:   0%|          | 0/1 [00:00<?, ?it/s]"
      ]
     },
     "metadata": {},
     "output_type": "display_data"
    },
    {
     "data": {
      "application/vnd.jupyter.widget-view+json": {
       "model_id": "c4081ab011fd4cd380855bcd0d9fa289",
       "version_major": 2,
       "version_minor": 0
      },
      "text/plain": [
       "Batches:   0%|          | 0/1 [00:00<?, ?it/s]"
      ]
     },
     "metadata": {},
     "output_type": "display_data"
    },
    {
     "data": {
      "application/vnd.jupyter.widget-view+json": {
       "model_id": "b78055f6d7bb4dffb18cf7f921283627",
       "version_major": 2,
       "version_minor": 0
      },
      "text/plain": [
       "Batches:   0%|          | 0/1 [00:00<?, ?it/s]"
      ]
     },
     "metadata": {},
     "output_type": "display_data"
    },
    {
     "data": {
      "application/vnd.jupyter.widget-view+json": {
       "model_id": "611c6a9ade694ff6bfe2a82d05390af5",
       "version_major": 2,
       "version_minor": 0
      },
      "text/plain": [
       "Batches:   0%|          | 0/1 [00:00<?, ?it/s]"
      ]
     },
     "metadata": {},
     "output_type": "display_data"
    },
    {
     "data": {
      "application/vnd.jupyter.widget-view+json": {
       "model_id": "8e384745d48a4824b2b400950d10596f",
       "version_major": 2,
       "version_minor": 0
      },
      "text/plain": [
       "Batches:   0%|          | 0/1 [00:00<?, ?it/s]"
      ]
     },
     "metadata": {},
     "output_type": "display_data"
    },
    {
     "data": {
      "application/vnd.jupyter.widget-view+json": {
       "model_id": "b6b82d65da864e13b49ceb977d6e051a",
       "version_major": 2,
       "version_minor": 0
      },
      "text/plain": [
       "Batches:   0%|          | 0/1 [00:00<?, ?it/s]"
      ]
     },
     "metadata": {},
     "output_type": "display_data"
    },
    {
     "data": {
      "application/vnd.jupyter.widget-view+json": {
       "model_id": "98344b4777a140a59de54bee7285efd7",
       "version_major": 2,
       "version_minor": 0
      },
      "text/plain": [
       "Batches:   0%|          | 0/1 [00:00<?, ?it/s]"
      ]
     },
     "metadata": {},
     "output_type": "display_data"
    },
    {
     "data": {
      "application/vnd.jupyter.widget-view+json": {
       "model_id": "a460e8dcf766402f986a7997b7cd346a",
       "version_major": 2,
       "version_minor": 0
      },
      "text/plain": [
       "Batches:   0%|          | 0/1 [00:00<?, ?it/s]"
      ]
     },
     "metadata": {},
     "output_type": "display_data"
    },
    {
     "data": {
      "application/vnd.jupyter.widget-view+json": {
       "model_id": "eae91cf653c84d55beef8b642fd49ab9",
       "version_major": 2,
       "version_minor": 0
      },
      "text/plain": [
       "Batches:   0%|          | 0/1 [00:00<?, ?it/s]"
      ]
     },
     "metadata": {},
     "output_type": "display_data"
    },
    {
     "data": {
      "application/vnd.jupyter.widget-view+json": {
       "model_id": "e1dd4593f29b44a58bfba7d37267c420",
       "version_major": 2,
       "version_minor": 0
      },
      "text/plain": [
       "Batches:   0%|          | 0/1 [00:00<?, ?it/s]"
      ]
     },
     "metadata": {},
     "output_type": "display_data"
    },
    {
     "data": {
      "application/vnd.jupyter.widget-view+json": {
       "model_id": "7c43773677a04e7d8700d6596fbffe48",
       "version_major": 2,
       "version_minor": 0
      },
      "text/plain": [
       "Batches:   0%|          | 0/1 [00:00<?, ?it/s]"
      ]
     },
     "metadata": {},
     "output_type": "display_data"
    },
    {
     "data": {
      "application/vnd.jupyter.widget-view+json": {
       "model_id": "5c226c0395bd40bc8f0254e85eab97be",
       "version_major": 2,
       "version_minor": 0
      },
      "text/plain": [
       "Batches:   0%|          | 0/1 [00:00<?, ?it/s]"
      ]
     },
     "metadata": {},
     "output_type": "display_data"
    },
    {
     "data": {
      "application/vnd.jupyter.widget-view+json": {
       "model_id": "c1f87eef71c94038a4ac3ed3ede1597f",
       "version_major": 2,
       "version_minor": 0
      },
      "text/plain": [
       "Batches:   0%|          | 0/1 [00:00<?, ?it/s]"
      ]
     },
     "metadata": {},
     "output_type": "display_data"
    },
    {
     "data": {
      "application/vnd.jupyter.widget-view+json": {
       "model_id": "44323e9546204f77b7216e4ea6ace701",
       "version_major": 2,
       "version_minor": 0
      },
      "text/plain": [
       "Batches:   0%|          | 0/1 [00:00<?, ?it/s]"
      ]
     },
     "metadata": {},
     "output_type": "display_data"
    },
    {
     "data": {
      "application/vnd.jupyter.widget-view+json": {
       "model_id": "865b4f133c6140959dd8ffe77c087ad3",
       "version_major": 2,
       "version_minor": 0
      },
      "text/plain": [
       "Batches:   0%|          | 0/1 [00:00<?, ?it/s]"
      ]
     },
     "metadata": {},
     "output_type": "display_data"
    },
    {
     "data": {
      "application/vnd.jupyter.widget-view+json": {
       "model_id": "695301f01058488b85767cde9c5f084b",
       "version_major": 2,
       "version_minor": 0
      },
      "text/plain": [
       "Batches:   0%|          | 0/1 [00:00<?, ?it/s]"
      ]
     },
     "metadata": {},
     "output_type": "display_data"
    },
    {
     "data": {
      "application/vnd.jupyter.widget-view+json": {
       "model_id": "b4a7ebf693d94bf5a428606652843a84",
       "version_major": 2,
       "version_minor": 0
      },
      "text/plain": [
       "Batches:   0%|          | 0/1 [00:00<?, ?it/s]"
      ]
     },
     "metadata": {},
     "output_type": "display_data"
    },
    {
     "data": {
      "application/vnd.jupyter.widget-view+json": {
       "model_id": "586f52f8ec864392b8208edc1c2b6c68",
       "version_major": 2,
       "version_minor": 0
      },
      "text/plain": [
       "Batches:   0%|          | 0/1 [00:00<?, ?it/s]"
      ]
     },
     "metadata": {},
     "output_type": "display_data"
    },
    {
     "data": {
      "application/vnd.jupyter.widget-view+json": {
       "model_id": "a2c1568946194a3db3b26a97765f0749",
       "version_major": 2,
       "version_minor": 0
      },
      "text/plain": [
       "Batches:   0%|          | 0/1 [00:00<?, ?it/s]"
      ]
     },
     "metadata": {},
     "output_type": "display_data"
    },
    {
     "data": {
      "application/vnd.jupyter.widget-view+json": {
       "model_id": "ae3da2117966470999a4aa0903918e91",
       "version_major": 2,
       "version_minor": 0
      },
      "text/plain": [
       "Batches:   0%|          | 0/1 [00:00<?, ?it/s]"
      ]
     },
     "metadata": {},
     "output_type": "display_data"
    },
    {
     "data": {
      "application/vnd.jupyter.widget-view+json": {
       "model_id": "eec03d80fbf741418bf588f5e88d1390",
       "version_major": 2,
       "version_minor": 0
      },
      "text/plain": [
       "Batches:   0%|          | 0/1 [00:00<?, ?it/s]"
      ]
     },
     "metadata": {},
     "output_type": "display_data"
    },
    {
     "data": {
      "application/vnd.jupyter.widget-view+json": {
       "model_id": "3cd7b23972314a7a91e8e540eff3de0e",
       "version_major": 2,
       "version_minor": 0
      },
      "text/plain": [
       "Batches:   0%|          | 0/1 [00:00<?, ?it/s]"
      ]
     },
     "metadata": {},
     "output_type": "display_data"
    },
    {
     "data": {
      "application/vnd.jupyter.widget-view+json": {
       "model_id": "8171ab46d24b47f0a4d9cd86dcec4e0f",
       "version_major": 2,
       "version_minor": 0
      },
      "text/plain": [
       "Batches:   0%|          | 0/1 [00:00<?, ?it/s]"
      ]
     },
     "metadata": {},
     "output_type": "display_data"
    },
    {
     "data": {
      "application/vnd.jupyter.widget-view+json": {
       "model_id": "1177faf5702542c592fda981dcf1cd56",
       "version_major": 2,
       "version_minor": 0
      },
      "text/plain": [
       "Batches:   0%|          | 0/1 [00:00<?, ?it/s]"
      ]
     },
     "metadata": {},
     "output_type": "display_data"
    },
    {
     "data": {
      "application/vnd.jupyter.widget-view+json": {
       "model_id": "37143da3c3a543368f339826d636e4d4",
       "version_major": 2,
       "version_minor": 0
      },
      "text/plain": [
       "Batches:   0%|          | 0/1 [00:00<?, ?it/s]"
      ]
     },
     "metadata": {},
     "output_type": "display_data"
    },
    {
     "data": {
      "application/vnd.jupyter.widget-view+json": {
       "model_id": "f6ca0ff375c64442b1a600af31af82a7",
       "version_major": 2,
       "version_minor": 0
      },
      "text/plain": [
       "Batches:   0%|          | 0/1 [00:00<?, ?it/s]"
      ]
     },
     "metadata": {},
     "output_type": "display_data"
    },
    {
     "data": {
      "application/vnd.jupyter.widget-view+json": {
       "model_id": "b85063657108438e978591136fc3c579",
       "version_major": 2,
       "version_minor": 0
      },
      "text/plain": [
       "Batches:   0%|          | 0/1 [00:00<?, ?it/s]"
      ]
     },
     "metadata": {},
     "output_type": "display_data"
    },
    {
     "data": {
      "application/vnd.jupyter.widget-view+json": {
       "model_id": "3050009060ff476ca088d154400279a4",
       "version_major": 2,
       "version_minor": 0
      },
      "text/plain": [
       "Batches:   0%|          | 0/1 [00:00<?, ?it/s]"
      ]
     },
     "metadata": {},
     "output_type": "display_data"
    },
    {
     "data": {
      "application/vnd.jupyter.widget-view+json": {
       "model_id": "46bb45acd99b4b59ac56ec1cfc546948",
       "version_major": 2,
       "version_minor": 0
      },
      "text/plain": [
       "Batches:   0%|          | 0/1 [00:00<?, ?it/s]"
      ]
     },
     "metadata": {},
     "output_type": "display_data"
    },
    {
     "data": {
      "application/vnd.jupyter.widget-view+json": {
       "model_id": "f0126284a28f4e3895dd75c6c31e9e8b",
       "version_major": 2,
       "version_minor": 0
      },
      "text/plain": [
       "Batches:   0%|          | 0/1 [00:00<?, ?it/s]"
      ]
     },
     "metadata": {},
     "output_type": "display_data"
    },
    {
     "data": {
      "application/vnd.jupyter.widget-view+json": {
       "model_id": "7f789a2d841645cab2921f6ee6a94cfe",
       "version_major": 2,
       "version_minor": 0
      },
      "text/plain": [
       "Batches:   0%|          | 0/1 [00:00<?, ?it/s]"
      ]
     },
     "metadata": {},
     "output_type": "display_data"
    },
    {
     "data": {
      "application/vnd.jupyter.widget-view+json": {
       "model_id": "4133bbabf0ba4e0197e5f1e4b7a0d59d",
       "version_major": 2,
       "version_minor": 0
      },
      "text/plain": [
       "Batches:   0%|          | 0/1 [00:00<?, ?it/s]"
      ]
     },
     "metadata": {},
     "output_type": "display_data"
    },
    {
     "data": {
      "application/vnd.jupyter.widget-view+json": {
       "model_id": "af0c1603d5a84aaf89a559c9688b8fb2",
       "version_major": 2,
       "version_minor": 0
      },
      "text/plain": [
       "Batches:   0%|          | 0/1 [00:00<?, ?it/s]"
      ]
     },
     "metadata": {},
     "output_type": "display_data"
    },
    {
     "data": {
      "application/vnd.jupyter.widget-view+json": {
       "model_id": "cea653f509374b16a1adaef32f4f7348",
       "version_major": 2,
       "version_minor": 0
      },
      "text/plain": [
       "Batches:   0%|          | 0/1 [00:00<?, ?it/s]"
      ]
     },
     "metadata": {},
     "output_type": "display_data"
    },
    {
     "data": {
      "application/vnd.jupyter.widget-view+json": {
       "model_id": "d8bf1549d0994ac8991d478e7085305a",
       "version_major": 2,
       "version_minor": 0
      },
      "text/plain": [
       "Batches:   0%|          | 0/1 [00:00<?, ?it/s]"
      ]
     },
     "metadata": {},
     "output_type": "display_data"
    },
    {
     "data": {
      "application/vnd.jupyter.widget-view+json": {
       "model_id": "94cce0c21c9342bca07d62e83b71aeff",
       "version_major": 2,
       "version_minor": 0
      },
      "text/plain": [
       "Batches:   0%|          | 0/1 [00:00<?, ?it/s]"
      ]
     },
     "metadata": {},
     "output_type": "display_data"
    },
    {
     "data": {
      "application/vnd.jupyter.widget-view+json": {
       "model_id": "ff967f2370cb41e58e5d63e79b21fc81",
       "version_major": 2,
       "version_minor": 0
      },
      "text/plain": [
       "Batches:   0%|          | 0/1 [00:00<?, ?it/s]"
      ]
     },
     "metadata": {},
     "output_type": "display_data"
    },
    {
     "data": {
      "application/vnd.jupyter.widget-view+json": {
       "model_id": "6a11e1062b1c420387163ac1497c53eb",
       "version_major": 2,
       "version_minor": 0
      },
      "text/plain": [
       "Batches:   0%|          | 0/1 [00:00<?, ?it/s]"
      ]
     },
     "metadata": {},
     "output_type": "display_data"
    },
    {
     "data": {
      "application/vnd.jupyter.widget-view+json": {
       "model_id": "968d932b609a4ce8911c0f151cb510ef",
       "version_major": 2,
       "version_minor": 0
      },
      "text/plain": [
       "Batches:   0%|          | 0/1 [00:00<?, ?it/s]"
      ]
     },
     "metadata": {},
     "output_type": "display_data"
    },
    {
     "data": {
      "application/vnd.jupyter.widget-view+json": {
       "model_id": "6a40b471131d49d3b39ccf8ddbd05ad5",
       "version_major": 2,
       "version_minor": 0
      },
      "text/plain": [
       "Batches:   0%|          | 0/1 [00:00<?, ?it/s]"
      ]
     },
     "metadata": {},
     "output_type": "display_data"
    },
    {
     "data": {
      "application/vnd.jupyter.widget-view+json": {
       "model_id": "ecfe4abcfac941d894b41237802073c7",
       "version_major": 2,
       "version_minor": 0
      },
      "text/plain": [
       "Batches:   0%|          | 0/1 [00:00<?, ?it/s]"
      ]
     },
     "metadata": {},
     "output_type": "display_data"
    },
    {
     "data": {
      "application/vnd.jupyter.widget-view+json": {
       "model_id": "88669aab840a42d597c96895310da5a8",
       "version_major": 2,
       "version_minor": 0
      },
      "text/plain": [
       "Batches:   0%|          | 0/1 [00:00<?, ?it/s]"
      ]
     },
     "metadata": {},
     "output_type": "display_data"
    },
    {
     "data": {
      "application/vnd.jupyter.widget-view+json": {
       "model_id": "d2fe46d907f9437ba1b1743e8d616f67",
       "version_major": 2,
       "version_minor": 0
      },
      "text/plain": [
       "Batches:   0%|          | 0/1 [00:00<?, ?it/s]"
      ]
     },
     "metadata": {},
     "output_type": "display_data"
    },
    {
     "data": {
      "application/vnd.jupyter.widget-view+json": {
       "model_id": "e8b453b087414b6b84eadcd827a10fd2",
       "version_major": 2,
       "version_minor": 0
      },
      "text/plain": [
       "Batches:   0%|          | 0/1 [00:00<?, ?it/s]"
      ]
     },
     "metadata": {},
     "output_type": "display_data"
    },
    {
     "data": {
      "application/vnd.jupyter.widget-view+json": {
       "model_id": "ac94ce5efe154c188a4c8d3200ea1021",
       "version_major": 2,
       "version_minor": 0
      },
      "text/plain": [
       "Batches:   0%|          | 0/1 [00:00<?, ?it/s]"
      ]
     },
     "metadata": {},
     "output_type": "display_data"
    },
    {
     "data": {
      "application/vnd.jupyter.widget-view+json": {
       "model_id": "df87fa5292f04a2b9edc419a941dd48a",
       "version_major": 2,
       "version_minor": 0
      },
      "text/plain": [
       "Batches:   0%|          | 0/1 [00:00<?, ?it/s]"
      ]
     },
     "metadata": {},
     "output_type": "display_data"
    },
    {
     "data": {
      "application/vnd.jupyter.widget-view+json": {
       "model_id": "afc829482c4442fa9a8347fdcc857236",
       "version_major": 2,
       "version_minor": 0
      },
      "text/plain": [
       "Batches:   0%|          | 0/1 [00:00<?, ?it/s]"
      ]
     },
     "metadata": {},
     "output_type": "display_data"
    },
    {
     "data": {
      "application/vnd.jupyter.widget-view+json": {
       "model_id": "ecb4250fc354454994f1d4aa3e64c4fa",
       "version_major": 2,
       "version_minor": 0
      },
      "text/plain": [
       "Batches:   0%|          | 0/1 [00:00<?, ?it/s]"
      ]
     },
     "metadata": {},
     "output_type": "display_data"
    },
    {
     "data": {
      "application/vnd.jupyter.widget-view+json": {
       "model_id": "3ebe3b905d164c119e980a4c86519fa8",
       "version_major": 2,
       "version_minor": 0
      },
      "text/plain": [
       "Batches:   0%|          | 0/1 [00:00<?, ?it/s]"
      ]
     },
     "metadata": {},
     "output_type": "display_data"
    },
    {
     "data": {
      "application/vnd.jupyter.widget-view+json": {
       "model_id": "610e7f29d6bb42098f51298c5928bf88",
       "version_major": 2,
       "version_minor": 0
      },
      "text/plain": [
       "Batches:   0%|          | 0/1 [00:00<?, ?it/s]"
      ]
     },
     "metadata": {},
     "output_type": "display_data"
    },
    {
     "data": {
      "application/vnd.jupyter.widget-view+json": {
       "model_id": "8c79193a74814f8e9159c495314349ae",
       "version_major": 2,
       "version_minor": 0
      },
      "text/plain": [
       "Batches:   0%|          | 0/1 [00:00<?, ?it/s]"
      ]
     },
     "metadata": {},
     "output_type": "display_data"
    },
    {
     "data": {
      "application/vnd.jupyter.widget-view+json": {
       "model_id": "604bec1fb7ac40ff8689f265b55aaa92",
       "version_major": 2,
       "version_minor": 0
      },
      "text/plain": [
       "Batches:   0%|          | 0/1 [00:00<?, ?it/s]"
      ]
     },
     "metadata": {},
     "output_type": "display_data"
    },
    {
     "data": {
      "application/vnd.jupyter.widget-view+json": {
       "model_id": "42c78397fcf2453eb34873f61bb5de9e",
       "version_major": 2,
       "version_minor": 0
      },
      "text/plain": [
       "Batches:   0%|          | 0/1 [00:00<?, ?it/s]"
      ]
     },
     "metadata": {},
     "output_type": "display_data"
    },
    {
     "data": {
      "application/vnd.jupyter.widget-view+json": {
       "model_id": "d0349a2190fa496796adf611236a2a80",
       "version_major": 2,
       "version_minor": 0
      },
      "text/plain": [
       "Batches:   0%|          | 0/1 [00:00<?, ?it/s]"
      ]
     },
     "metadata": {},
     "output_type": "display_data"
    },
    {
     "data": {
      "application/vnd.jupyter.widget-view+json": {
       "model_id": "3a2f6a002152468eb1471bb52a29605b",
       "version_major": 2,
       "version_minor": 0
      },
      "text/plain": [
       "Batches:   0%|          | 0/1 [00:00<?, ?it/s]"
      ]
     },
     "metadata": {},
     "output_type": "display_data"
    },
    {
     "data": {
      "application/vnd.jupyter.widget-view+json": {
       "model_id": "a0a37b7ee3b545b1a35effcc6a266903",
       "version_major": 2,
       "version_minor": 0
      },
      "text/plain": [
       "Batches:   0%|          | 0/1 [00:00<?, ?it/s]"
      ]
     },
     "metadata": {},
     "output_type": "display_data"
    },
    {
     "data": {
      "application/vnd.jupyter.widget-view+json": {
       "model_id": "f44b9373eb04424ea47c6c70838e0f46",
       "version_major": 2,
       "version_minor": 0
      },
      "text/plain": [
       "Batches:   0%|          | 0/1 [00:00<?, ?it/s]"
      ]
     },
     "metadata": {},
     "output_type": "display_data"
    },
    {
     "data": {
      "application/vnd.jupyter.widget-view+json": {
       "model_id": "03e87b23d7f64e7691226614713b3f99",
       "version_major": 2,
       "version_minor": 0
      },
      "text/plain": [
       "Batches:   0%|          | 0/1 [00:00<?, ?it/s]"
      ]
     },
     "metadata": {},
     "output_type": "display_data"
    },
    {
     "data": {
      "application/vnd.jupyter.widget-view+json": {
       "model_id": "1c4c8b0e15d9438cbee5cbf75f8c59b7",
       "version_major": 2,
       "version_minor": 0
      },
      "text/plain": [
       "Batches:   0%|          | 0/1 [00:00<?, ?it/s]"
      ]
     },
     "metadata": {},
     "output_type": "display_data"
    },
    {
     "data": {
      "application/vnd.jupyter.widget-view+json": {
       "model_id": "25f43fad1bf4415cb88c71a80d633ef2",
       "version_major": 2,
       "version_minor": 0
      },
      "text/plain": [
       "Batches:   0%|          | 0/1 [00:00<?, ?it/s]"
      ]
     },
     "metadata": {},
     "output_type": "display_data"
    },
    {
     "data": {
      "application/vnd.jupyter.widget-view+json": {
       "model_id": "d61e3017d44b48b88e45027483093ce2",
       "version_major": 2,
       "version_minor": 0
      },
      "text/plain": [
       "Batches:   0%|          | 0/1 [00:00<?, ?it/s]"
      ]
     },
     "metadata": {},
     "output_type": "display_data"
    },
    {
     "data": {
      "application/vnd.jupyter.widget-view+json": {
       "model_id": "d9852b10b71c4b8b8eefaba6b620da08",
       "version_major": 2,
       "version_minor": 0
      },
      "text/plain": [
       "Batches:   0%|          | 0/1 [00:00<?, ?it/s]"
      ]
     },
     "metadata": {},
     "output_type": "display_data"
    },
    {
     "data": {
      "application/vnd.jupyter.widget-view+json": {
       "model_id": "d4e87f68c4754a928ed092bcff7559cb",
       "version_major": 2,
       "version_minor": 0
      },
      "text/plain": [
       "Batches:   0%|          | 0/1 [00:00<?, ?it/s]"
      ]
     },
     "metadata": {},
     "output_type": "display_data"
    },
    {
     "data": {
      "application/vnd.jupyter.widget-view+json": {
       "model_id": "ff26524b9259466e969df60724446957",
       "version_major": 2,
       "version_minor": 0
      },
      "text/plain": [
       "Batches:   0%|          | 0/1 [00:00<?, ?it/s]"
      ]
     },
     "metadata": {},
     "output_type": "display_data"
    },
    {
     "data": {
      "application/vnd.jupyter.widget-view+json": {
       "model_id": "6435f04aef4640a0b6ca89728230137a",
       "version_major": 2,
       "version_minor": 0
      },
      "text/plain": [
       "Batches:   0%|          | 0/1 [00:00<?, ?it/s]"
      ]
     },
     "metadata": {},
     "output_type": "display_data"
    },
    {
     "data": {
      "application/vnd.jupyter.widget-view+json": {
       "model_id": "17ea87b95d6543dabef12283197bc0af",
       "version_major": 2,
       "version_minor": 0
      },
      "text/plain": [
       "Batches:   0%|          | 0/1 [00:00<?, ?it/s]"
      ]
     },
     "metadata": {},
     "output_type": "display_data"
    },
    {
     "data": {
      "application/vnd.jupyter.widget-view+json": {
       "model_id": "de584cfd480a4fd599fdb03579540bf6",
       "version_major": 2,
       "version_minor": 0
      },
      "text/plain": [
       "Batches:   0%|          | 0/1 [00:00<?, ?it/s]"
      ]
     },
     "metadata": {},
     "output_type": "display_data"
    },
    {
     "data": {
      "application/vnd.jupyter.widget-view+json": {
       "model_id": "db36acb215e6475a94bc75458ea800f9",
       "version_major": 2,
       "version_minor": 0
      },
      "text/plain": [
       "Batches:   0%|          | 0/1 [00:00<?, ?it/s]"
      ]
     },
     "metadata": {},
     "output_type": "display_data"
    },
    {
     "data": {
      "application/vnd.jupyter.widget-view+json": {
       "model_id": "dcb9757e75294955856ce64ceb2d0076",
       "version_major": 2,
       "version_minor": 0
      },
      "text/plain": [
       "Batches:   0%|          | 0/1 [00:00<?, ?it/s]"
      ]
     },
     "metadata": {},
     "output_type": "display_data"
    },
    {
     "data": {
      "application/vnd.jupyter.widget-view+json": {
       "model_id": "e6d21b1072e94c30ac09df9f13d33044",
       "version_major": 2,
       "version_minor": 0
      },
      "text/plain": [
       "Batches:   0%|          | 0/1 [00:00<?, ?it/s]"
      ]
     },
     "metadata": {},
     "output_type": "display_data"
    },
    {
     "data": {
      "application/vnd.jupyter.widget-view+json": {
       "model_id": "efad90dd8b4a4f24b158f2ff6ee6b991",
       "version_major": 2,
       "version_minor": 0
      },
      "text/plain": [
       "Batches:   0%|          | 0/1 [00:00<?, ?it/s]"
      ]
     },
     "metadata": {},
     "output_type": "display_data"
    },
    {
     "data": {
      "application/vnd.jupyter.widget-view+json": {
       "model_id": "899bca67766246b791ccf058e891a95b",
       "version_major": 2,
       "version_minor": 0
      },
      "text/plain": [
       "Batches:   0%|          | 0/1 [00:00<?, ?it/s]"
      ]
     },
     "metadata": {},
     "output_type": "display_data"
    },
    {
     "data": {
      "application/vnd.jupyter.widget-view+json": {
       "model_id": "567bb9ff2ffe45d19e083aa4430e9488",
       "version_major": 2,
       "version_minor": 0
      },
      "text/plain": [
       "Batches:   0%|          | 0/1 [00:00<?, ?it/s]"
      ]
     },
     "metadata": {},
     "output_type": "display_data"
    },
    {
     "data": {
      "application/vnd.jupyter.widget-view+json": {
       "model_id": "018aadea40f64617b27cbbcd4a289efd",
       "version_major": 2,
       "version_minor": 0
      },
      "text/plain": [
       "Batches:   0%|          | 0/1 [00:00<?, ?it/s]"
      ]
     },
     "metadata": {},
     "output_type": "display_data"
    },
    {
     "data": {
      "application/vnd.jupyter.widget-view+json": {
       "model_id": "3f169c91122e4133a34616d3bd8f00a2",
       "version_major": 2,
       "version_minor": 0
      },
      "text/plain": [
       "Batches:   0%|          | 0/1 [00:00<?, ?it/s]"
      ]
     },
     "metadata": {},
     "output_type": "display_data"
    },
    {
     "data": {
      "application/vnd.jupyter.widget-view+json": {
       "model_id": "dbd272384d0b4ab4b0b1aef0aec56b8a",
       "version_major": 2,
       "version_minor": 0
      },
      "text/plain": [
       "Batches:   0%|          | 0/1 [00:00<?, ?it/s]"
      ]
     },
     "metadata": {},
     "output_type": "display_data"
    },
    {
     "data": {
      "application/vnd.jupyter.widget-view+json": {
       "model_id": "40748430b69e4e4db9af05a603240ed7",
       "version_major": 2,
       "version_minor": 0
      },
      "text/plain": [
       "Batches:   0%|          | 0/1 [00:00<?, ?it/s]"
      ]
     },
     "metadata": {},
     "output_type": "display_data"
    },
    {
     "data": {
      "application/vnd.jupyter.widget-view+json": {
       "model_id": "e6efa2bf6afd4543a1d83a6c17b5eb41",
       "version_major": 2,
       "version_minor": 0
      },
      "text/plain": [
       "Batches:   0%|          | 0/1 [00:00<?, ?it/s]"
      ]
     },
     "metadata": {},
     "output_type": "display_data"
    },
    {
     "data": {
      "application/vnd.jupyter.widget-view+json": {
       "model_id": "e239a8a670794bd29a648ce56e911608",
       "version_major": 2,
       "version_minor": 0
      },
      "text/plain": [
       "Batches:   0%|          | 0/1 [00:00<?, ?it/s]"
      ]
     },
     "metadata": {},
     "output_type": "display_data"
    },
    {
     "data": {
      "application/vnd.jupyter.widget-view+json": {
       "model_id": "3e911b45da134169be44642bea6a9855",
       "version_major": 2,
       "version_minor": 0
      },
      "text/plain": [
       "Batches:   0%|          | 0/1 [00:00<?, ?it/s]"
      ]
     },
     "metadata": {},
     "output_type": "display_data"
    },
    {
     "data": {
      "application/vnd.jupyter.widget-view+json": {
       "model_id": "e53534ed06f84cc9a819ff5b3f7745f1",
       "version_major": 2,
       "version_minor": 0
      },
      "text/plain": [
       "Batches:   0%|          | 0/1 [00:00<?, ?it/s]"
      ]
     },
     "metadata": {},
     "output_type": "display_data"
    },
    {
     "data": {
      "application/vnd.jupyter.widget-view+json": {
       "model_id": "cc46a37d033040bd86cb04de8874935f",
       "version_major": 2,
       "version_minor": 0
      },
      "text/plain": [
       "Batches:   0%|          | 0/1 [00:00<?, ?it/s]"
      ]
     },
     "metadata": {},
     "output_type": "display_data"
    },
    {
     "data": {
      "application/vnd.jupyter.widget-view+json": {
       "model_id": "37159de65c854a899e8100d83830c1e5",
       "version_major": 2,
       "version_minor": 0
      },
      "text/plain": [
       "Batches:   0%|          | 0/1 [00:00<?, ?it/s]"
      ]
     },
     "metadata": {},
     "output_type": "display_data"
    },
    {
     "data": {
      "application/vnd.jupyter.widget-view+json": {
       "model_id": "5f5f8ed23d03414581a7c66e74533453",
       "version_major": 2,
       "version_minor": 0
      },
      "text/plain": [
       "Batches:   0%|          | 0/1 [00:00<?, ?it/s]"
      ]
     },
     "metadata": {},
     "output_type": "display_data"
    },
    {
     "data": {
      "application/vnd.jupyter.widget-view+json": {
       "model_id": "74dafd531c6c42cc83689a340c4f6b27",
       "version_major": 2,
       "version_minor": 0
      },
      "text/plain": [
       "Batches:   0%|          | 0/1 [00:00<?, ?it/s]"
      ]
     },
     "metadata": {},
     "output_type": "display_data"
    },
    {
     "data": {
      "application/vnd.jupyter.widget-view+json": {
       "model_id": "8d5735a6c1104dfcb1e8007aefd2a521",
       "version_major": 2,
       "version_minor": 0
      },
      "text/plain": [
       "Batches:   0%|          | 0/1 [00:00<?, ?it/s]"
      ]
     },
     "metadata": {},
     "output_type": "display_data"
    },
    {
     "data": {
      "application/vnd.jupyter.widget-view+json": {
       "model_id": "d6b24bbc28dd419995c4aa32cb48456c",
       "version_major": 2,
       "version_minor": 0
      },
      "text/plain": [
       "Batches:   0%|          | 0/1 [00:00<?, ?it/s]"
      ]
     },
     "metadata": {},
     "output_type": "display_data"
    },
    {
     "data": {
      "application/vnd.jupyter.widget-view+json": {
       "model_id": "8d7cb9e6c3334ed2a5d646cef951615f",
       "version_major": 2,
       "version_minor": 0
      },
      "text/plain": [
       "Batches:   0%|          | 0/1 [00:00<?, ?it/s]"
      ]
     },
     "metadata": {},
     "output_type": "display_data"
    },
    {
     "data": {
      "application/vnd.jupyter.widget-view+json": {
       "model_id": "e30b13ab92d643b79e48f719063952fb",
       "version_major": 2,
       "version_minor": 0
      },
      "text/plain": [
       "Batches:   0%|          | 0/1 [00:00<?, ?it/s]"
      ]
     },
     "metadata": {},
     "output_type": "display_data"
    },
    {
     "data": {
      "application/vnd.jupyter.widget-view+json": {
       "model_id": "282089ac781d466b9ebd5757dbbda9aa",
       "version_major": 2,
       "version_minor": 0
      },
      "text/plain": [
       "Batches:   0%|          | 0/1 [00:00<?, ?it/s]"
      ]
     },
     "metadata": {},
     "output_type": "display_data"
    },
    {
     "data": {
      "application/vnd.jupyter.widget-view+json": {
       "model_id": "ebb678f183aa43ef90f29292fc3f24bb",
       "version_major": 2,
       "version_minor": 0
      },
      "text/plain": [
       "Batches:   0%|          | 0/1 [00:00<?, ?it/s]"
      ]
     },
     "metadata": {},
     "output_type": "display_data"
    },
    {
     "data": {
      "application/vnd.jupyter.widget-view+json": {
       "model_id": "71d0060e27eb451b9d5d7cffd55080c4",
       "version_major": 2,
       "version_minor": 0
      },
      "text/plain": [
       "Batches:   0%|          | 0/1 [00:00<?, ?it/s]"
      ]
     },
     "metadata": {},
     "output_type": "display_data"
    },
    {
     "data": {
      "application/vnd.jupyter.widget-view+json": {
       "model_id": "b1829f560b854690bde1f4e347c90f34",
       "version_major": 2,
       "version_minor": 0
      },
      "text/plain": [
       "Batches:   0%|          | 0/1 [00:00<?, ?it/s]"
      ]
     },
     "metadata": {},
     "output_type": "display_data"
    },
    {
     "data": {
      "application/vnd.jupyter.widget-view+json": {
       "model_id": "5e07bf9b32624ff4b6e0eb3a3f4df831",
       "version_major": 2,
       "version_minor": 0
      },
      "text/plain": [
       "Batches:   0%|          | 0/1 [00:00<?, ?it/s]"
      ]
     },
     "metadata": {},
     "output_type": "display_data"
    },
    {
     "data": {
      "application/vnd.jupyter.widget-view+json": {
       "model_id": "b501996d3a094efe9df5bfb51422bc66",
       "version_major": 2,
       "version_minor": 0
      },
      "text/plain": [
       "Batches:   0%|          | 0/1 [00:00<?, ?it/s]"
      ]
     },
     "metadata": {},
     "output_type": "display_data"
    },
    {
     "data": {
      "application/vnd.jupyter.widget-view+json": {
       "model_id": "ad86c47ca8254c75958623be0acffd6d",
       "version_major": 2,
       "version_minor": 0
      },
      "text/plain": [
       "Batches:   0%|          | 0/1 [00:00<?, ?it/s]"
      ]
     },
     "metadata": {},
     "output_type": "display_data"
    },
    {
     "data": {
      "application/vnd.jupyter.widget-view+json": {
       "model_id": "f32f584be3924aa28b04309982e74717",
       "version_major": 2,
       "version_minor": 0
      },
      "text/plain": [
       "Batches:   0%|          | 0/1 [00:00<?, ?it/s]"
      ]
     },
     "metadata": {},
     "output_type": "display_data"
    },
    {
     "data": {
      "application/vnd.jupyter.widget-view+json": {
       "model_id": "80f0449e442348e18f4aa748c6e2a446",
       "version_major": 2,
       "version_minor": 0
      },
      "text/plain": [
       "Batches:   0%|          | 0/1 [00:00<?, ?it/s]"
      ]
     },
     "metadata": {},
     "output_type": "display_data"
    },
    {
     "data": {
      "application/vnd.jupyter.widget-view+json": {
       "model_id": "20fe4a11ce544f3483ad0c63d9f8dd32",
       "version_major": 2,
       "version_minor": 0
      },
      "text/plain": [
       "Batches:   0%|          | 0/1 [00:00<?, ?it/s]"
      ]
     },
     "metadata": {},
     "output_type": "display_data"
    },
    {
     "data": {
      "application/vnd.jupyter.widget-view+json": {
       "model_id": "09aaa1da26014cd58e1825db155f19a4",
       "version_major": 2,
       "version_minor": 0
      },
      "text/plain": [
       "Batches:   0%|          | 0/1 [00:00<?, ?it/s]"
      ]
     },
     "metadata": {},
     "output_type": "display_data"
    },
    {
     "data": {
      "application/vnd.jupyter.widget-view+json": {
       "model_id": "989a8639398f41ff9f3dd6233428a729",
       "version_major": 2,
       "version_minor": 0
      },
      "text/plain": [
       "Batches:   0%|          | 0/1 [00:00<?, ?it/s]"
      ]
     },
     "metadata": {},
     "output_type": "display_data"
    },
    {
     "data": {
      "application/vnd.jupyter.widget-view+json": {
       "model_id": "c607d8732eac433f9684e5f4d26512a6",
       "version_major": 2,
       "version_minor": 0
      },
      "text/plain": [
       "Batches:   0%|          | 0/1 [00:00<?, ?it/s]"
      ]
     },
     "metadata": {},
     "output_type": "display_data"
    },
    {
     "data": {
      "application/vnd.jupyter.widget-view+json": {
       "model_id": "6c23c5431edb4e3093901bc6b2b205eb",
       "version_major": 2,
       "version_minor": 0
      },
      "text/plain": [
       "Batches:   0%|          | 0/1 [00:00<?, ?it/s]"
      ]
     },
     "metadata": {},
     "output_type": "display_data"
    },
    {
     "data": {
      "application/vnd.jupyter.widget-view+json": {
       "model_id": "79c1ff70b5014740b3217d240ed2c28c",
       "version_major": 2,
       "version_minor": 0
      },
      "text/plain": [
       "Batches:   0%|          | 0/1 [00:00<?, ?it/s]"
      ]
     },
     "metadata": {},
     "output_type": "display_data"
    },
    {
     "data": {
      "application/vnd.jupyter.widget-view+json": {
       "model_id": "0ec6b294a548421eb70b99728adf69bc",
       "version_major": 2,
       "version_minor": 0
      },
      "text/plain": [
       "Batches:   0%|          | 0/1 [00:00<?, ?it/s]"
      ]
     },
     "metadata": {},
     "output_type": "display_data"
    },
    {
     "data": {
      "application/vnd.jupyter.widget-view+json": {
       "model_id": "9746a8fb4f2843c2a76ee754560ce47f",
       "version_major": 2,
       "version_minor": 0
      },
      "text/plain": [
       "Batches:   0%|          | 0/1 [00:00<?, ?it/s]"
      ]
     },
     "metadata": {},
     "output_type": "display_data"
    },
    {
     "data": {
      "application/vnd.jupyter.widget-view+json": {
       "model_id": "ced2eba7434849b9be3d33cac377edea",
       "version_major": 2,
       "version_minor": 0
      },
      "text/plain": [
       "Batches:   0%|          | 0/1 [00:00<?, ?it/s]"
      ]
     },
     "metadata": {},
     "output_type": "display_data"
    },
    {
     "data": {
      "application/vnd.jupyter.widget-view+json": {
       "model_id": "dcdbbc2660804981a3888caac79095d2",
       "version_major": 2,
       "version_minor": 0
      },
      "text/plain": [
       "Batches:   0%|          | 0/1 [00:00<?, ?it/s]"
      ]
     },
     "metadata": {},
     "output_type": "display_data"
    },
    {
     "data": {
      "application/vnd.jupyter.widget-view+json": {
       "model_id": "ac5897a7d7fb4df2b2958d795b08b99d",
       "version_major": 2,
       "version_minor": 0
      },
      "text/plain": [
       "Batches:   0%|          | 0/1 [00:00<?, ?it/s]"
      ]
     },
     "metadata": {},
     "output_type": "display_data"
    },
    {
     "data": {
      "application/vnd.jupyter.widget-view+json": {
       "model_id": "1e7b71d8f3184157a7105c3d56178433",
       "version_major": 2,
       "version_minor": 0
      },
      "text/plain": [
       "Batches:   0%|          | 0/1 [00:00<?, ?it/s]"
      ]
     },
     "metadata": {},
     "output_type": "display_data"
    },
    {
     "data": {
      "application/vnd.jupyter.widget-view+json": {
       "model_id": "b380b6c6ace3463b9965e48d9a77344f",
       "version_major": 2,
       "version_minor": 0
      },
      "text/plain": [
       "Batches:   0%|          | 0/1 [00:00<?, ?it/s]"
      ]
     },
     "metadata": {},
     "output_type": "display_data"
    },
    {
     "data": {
      "application/vnd.jupyter.widget-view+json": {
       "model_id": "33fb456aa858454c917af33303c082af",
       "version_major": 2,
       "version_minor": 0
      },
      "text/plain": [
       "Batches:   0%|          | 0/1 [00:00<?, ?it/s]"
      ]
     },
     "metadata": {},
     "output_type": "display_data"
    },
    {
     "data": {
      "application/vnd.jupyter.widget-view+json": {
       "model_id": "8202be4428f24dbcb2b6ecf64261d628",
       "version_major": 2,
       "version_minor": 0
      },
      "text/plain": [
       "Batches:   0%|          | 0/1 [00:00<?, ?it/s]"
      ]
     },
     "metadata": {},
     "output_type": "display_data"
    },
    {
     "data": {
      "application/vnd.jupyter.widget-view+json": {
       "model_id": "b7978a1f7ea94f0d9580e971f38ddd75",
       "version_major": 2,
       "version_minor": 0
      },
      "text/plain": [
       "Batches:   0%|          | 0/1 [00:00<?, ?it/s]"
      ]
     },
     "metadata": {},
     "output_type": "display_data"
    },
    {
     "data": {
      "application/vnd.jupyter.widget-view+json": {
       "model_id": "dec489503877421bbd7d9e8ca54ff6b9",
       "version_major": 2,
       "version_minor": 0
      },
      "text/plain": [
       "Batches:   0%|          | 0/1 [00:00<?, ?it/s]"
      ]
     },
     "metadata": {},
     "output_type": "display_data"
    },
    {
     "data": {
      "application/vnd.jupyter.widget-view+json": {
       "model_id": "63d2e42cd37340a1aab4625791a09c9d",
       "version_major": 2,
       "version_minor": 0
      },
      "text/plain": [
       "Batches:   0%|          | 0/1 [00:00<?, ?it/s]"
      ]
     },
     "metadata": {},
     "output_type": "display_data"
    },
    {
     "data": {
      "application/vnd.jupyter.widget-view+json": {
       "model_id": "0557da9acf664a2cb60be26c6025bc24",
       "version_major": 2,
       "version_minor": 0
      },
      "text/plain": [
       "Batches:   0%|          | 0/1 [00:00<?, ?it/s]"
      ]
     },
     "metadata": {},
     "output_type": "display_data"
    },
    {
     "data": {
      "application/vnd.jupyter.widget-view+json": {
       "model_id": "4df32add755841699784c69e5917e683",
       "version_major": 2,
       "version_minor": 0
      },
      "text/plain": [
       "Batches:   0%|          | 0/1 [00:00<?, ?it/s]"
      ]
     },
     "metadata": {},
     "output_type": "display_data"
    },
    {
     "data": {
      "application/vnd.jupyter.widget-view+json": {
       "model_id": "7508bb9cb8f74280b75b84751e2566b4",
       "version_major": 2,
       "version_minor": 0
      },
      "text/plain": [
       "Batches:   0%|          | 0/1 [00:00<?, ?it/s]"
      ]
     },
     "metadata": {},
     "output_type": "display_data"
    },
    {
     "data": {
      "application/vnd.jupyter.widget-view+json": {
       "model_id": "bb4cf62808594a509b4d8a28f8eb292c",
       "version_major": 2,
       "version_minor": 0
      },
      "text/plain": [
       "Batches:   0%|          | 0/1 [00:00<?, ?it/s]"
      ]
     },
     "metadata": {},
     "output_type": "display_data"
    },
    {
     "data": {
      "application/vnd.jupyter.widget-view+json": {
       "model_id": "186835c0b9d74e72b8246b9f7ba135ba",
       "version_major": 2,
       "version_minor": 0
      },
      "text/plain": [
       "Batches:   0%|          | 0/1 [00:00<?, ?it/s]"
      ]
     },
     "metadata": {},
     "output_type": "display_data"
    },
    {
     "data": {
      "application/vnd.jupyter.widget-view+json": {
       "model_id": "da51ff5cce3144bfab388b0da0fb55fc",
       "version_major": 2,
       "version_minor": 0
      },
      "text/plain": [
       "Batches:   0%|          | 0/1 [00:00<?, ?it/s]"
      ]
     },
     "metadata": {},
     "output_type": "display_data"
    },
    {
     "data": {
      "application/vnd.jupyter.widget-view+json": {
       "model_id": "3444b00f1d19404d8fe7b469d3a1ace4",
       "version_major": 2,
       "version_minor": 0
      },
      "text/plain": [
       "Batches:   0%|          | 0/1 [00:00<?, ?it/s]"
      ]
     },
     "metadata": {},
     "output_type": "display_data"
    },
    {
     "data": {
      "application/vnd.jupyter.widget-view+json": {
       "model_id": "2b9eef3b070349ff912c03d213ca9d8d",
       "version_major": 2,
       "version_minor": 0
      },
      "text/plain": [
       "Batches:   0%|          | 0/1 [00:00<?, ?it/s]"
      ]
     },
     "metadata": {},
     "output_type": "display_data"
    },
    {
     "data": {
      "application/vnd.jupyter.widget-view+json": {
       "model_id": "ba65752b1aa546b3b66242e89a086fdc",
       "version_major": 2,
       "version_minor": 0
      },
      "text/plain": [
       "Batches:   0%|          | 0/1 [00:00<?, ?it/s]"
      ]
     },
     "metadata": {},
     "output_type": "display_data"
    },
    {
     "data": {
      "application/vnd.jupyter.widget-view+json": {
       "model_id": "9d21c0478ad548fabe3c64d08a11805e",
       "version_major": 2,
       "version_minor": 0
      },
      "text/plain": [
       "Batches:   0%|          | 0/1 [00:00<?, ?it/s]"
      ]
     },
     "metadata": {},
     "output_type": "display_data"
    },
    {
     "data": {
      "application/vnd.jupyter.widget-view+json": {
       "model_id": "789e0d37d08c4578a1ccbe9d58f503f3",
       "version_major": 2,
       "version_minor": 0
      },
      "text/plain": [
       "Batches:   0%|          | 0/1 [00:00<?, ?it/s]"
      ]
     },
     "metadata": {},
     "output_type": "display_data"
    },
    {
     "data": {
      "application/vnd.jupyter.widget-view+json": {
       "model_id": "1a3f49c6697a463a989a8a366a863303",
       "version_major": 2,
       "version_minor": 0
      },
      "text/plain": [
       "Batches:   0%|          | 0/1 [00:00<?, ?it/s]"
      ]
     },
     "metadata": {},
     "output_type": "display_data"
    },
    {
     "data": {
      "application/vnd.jupyter.widget-view+json": {
       "model_id": "58b5dee8b7c94d04be66277e55c12b0d",
       "version_major": 2,
       "version_minor": 0
      },
      "text/plain": [
       "Batches:   0%|          | 0/1 [00:00<?, ?it/s]"
      ]
     },
     "metadata": {},
     "output_type": "display_data"
    },
    {
     "data": {
      "application/vnd.jupyter.widget-view+json": {
       "model_id": "9a1a232a53f14ea981adcf7016bacd6e",
       "version_major": 2,
       "version_minor": 0
      },
      "text/plain": [
       "Batches:   0%|          | 0/1 [00:00<?, ?it/s]"
      ]
     },
     "metadata": {},
     "output_type": "display_data"
    },
    {
     "data": {
      "application/vnd.jupyter.widget-view+json": {
       "model_id": "b238695b696245dbbb3f23118f0bd251",
       "version_major": 2,
       "version_minor": 0
      },
      "text/plain": [
       "Batches:   0%|          | 0/1 [00:00<?, ?it/s]"
      ]
     },
     "metadata": {},
     "output_type": "display_data"
    },
    {
     "data": {
      "application/vnd.jupyter.widget-view+json": {
       "model_id": "cb7ff7b6149546409a8b938b34a74f64",
       "version_major": 2,
       "version_minor": 0
      },
      "text/plain": [
       "Batches:   0%|          | 0/1 [00:00<?, ?it/s]"
      ]
     },
     "metadata": {},
     "output_type": "display_data"
    },
    {
     "data": {
      "application/vnd.jupyter.widget-view+json": {
       "model_id": "72e6ebebf38e40b68d43c4fd34355845",
       "version_major": 2,
       "version_minor": 0
      },
      "text/plain": [
       "Batches:   0%|          | 0/1 [00:00<?, ?it/s]"
      ]
     },
     "metadata": {},
     "output_type": "display_data"
    },
    {
     "data": {
      "application/vnd.jupyter.widget-view+json": {
       "model_id": "223fd1c6e3df420ebe8a1c782b275cfc",
       "version_major": 2,
       "version_minor": 0
      },
      "text/plain": [
       "Batches:   0%|          | 0/1 [00:00<?, ?it/s]"
      ]
     },
     "metadata": {},
     "output_type": "display_data"
    },
    {
     "data": {
      "application/vnd.jupyter.widget-view+json": {
       "model_id": "fb0059140cdb4216afcddc9d797f5d85",
       "version_major": 2,
       "version_minor": 0
      },
      "text/plain": [
       "Batches:   0%|          | 0/1 [00:00<?, ?it/s]"
      ]
     },
     "metadata": {},
     "output_type": "display_data"
    },
    {
     "data": {
      "application/vnd.jupyter.widget-view+json": {
       "model_id": "7d88949dfe8b4ff7932d121e19aab5a4",
       "version_major": 2,
       "version_minor": 0
      },
      "text/plain": [
       "Batches:   0%|          | 0/1 [00:00<?, ?it/s]"
      ]
     },
     "metadata": {},
     "output_type": "display_data"
    },
    {
     "data": {
      "application/vnd.jupyter.widget-view+json": {
       "model_id": "032b1e5852d046859f7af60f62dd1ffc",
       "version_major": 2,
       "version_minor": 0
      },
      "text/plain": [
       "Batches:   0%|          | 0/1 [00:00<?, ?it/s]"
      ]
     },
     "metadata": {},
     "output_type": "display_data"
    },
    {
     "data": {
      "application/vnd.jupyter.widget-view+json": {
       "model_id": "8ce1a5e7dbb74d9387b45464f5de5dd1",
       "version_major": 2,
       "version_minor": 0
      },
      "text/plain": [
       "Batches:   0%|          | 0/1 [00:00<?, ?it/s]"
      ]
     },
     "metadata": {},
     "output_type": "display_data"
    },
    {
     "data": {
      "application/vnd.jupyter.widget-view+json": {
       "model_id": "66105613fb7d41cfad86b95cc1d629b1",
       "version_major": 2,
       "version_minor": 0
      },
      "text/plain": [
       "Batches:   0%|          | 0/1 [00:00<?, ?it/s]"
      ]
     },
     "metadata": {},
     "output_type": "display_data"
    },
    {
     "data": {
      "application/vnd.jupyter.widget-view+json": {
       "model_id": "3ded6703a353402abd2955a0e4b516d7",
       "version_major": 2,
       "version_minor": 0
      },
      "text/plain": [
       "Batches:   0%|          | 0/1 [00:00<?, ?it/s]"
      ]
     },
     "metadata": {},
     "output_type": "display_data"
    },
    {
     "data": {
      "application/vnd.jupyter.widget-view+json": {
       "model_id": "cc7f742caf02448588b9c43d07b9915e",
       "version_major": 2,
       "version_minor": 0
      },
      "text/plain": [
       "Batches:   0%|          | 0/1 [00:00<?, ?it/s]"
      ]
     },
     "metadata": {},
     "output_type": "display_data"
    },
    {
     "data": {
      "application/vnd.jupyter.widget-view+json": {
       "model_id": "e4013365e43748b78b2dd26ac7a48211",
       "version_major": 2,
       "version_minor": 0
      },
      "text/plain": [
       "Batches:   0%|          | 0/1 [00:00<?, ?it/s]"
      ]
     },
     "metadata": {},
     "output_type": "display_data"
    },
    {
     "data": {
      "application/vnd.jupyter.widget-view+json": {
       "model_id": "ceae3d31548b4c7d88da009b0db9c5e4",
       "version_major": 2,
       "version_minor": 0
      },
      "text/plain": [
       "Batches:   0%|          | 0/1 [00:00<?, ?it/s]"
      ]
     },
     "metadata": {},
     "output_type": "display_data"
    },
    {
     "data": {
      "application/vnd.jupyter.widget-view+json": {
       "model_id": "cd3a9e7f98a343d5bf0788ca615bbad1",
       "version_major": 2,
       "version_minor": 0
      },
      "text/plain": [
       "Batches:   0%|          | 0/1 [00:00<?, ?it/s]"
      ]
     },
     "metadata": {},
     "output_type": "display_data"
    },
    {
     "data": {
      "application/vnd.jupyter.widget-view+json": {
       "model_id": "fad5e4e7c3ae47c49e810d611664022e",
       "version_major": 2,
       "version_minor": 0
      },
      "text/plain": [
       "Batches:   0%|          | 0/1 [00:00<?, ?it/s]"
      ]
     },
     "metadata": {},
     "output_type": "display_data"
    },
    {
     "data": {
      "application/vnd.jupyter.widget-view+json": {
       "model_id": "594bdfa5eb7e4b4696b0f45b490a7fb0",
       "version_major": 2,
       "version_minor": 0
      },
      "text/plain": [
       "Batches:   0%|          | 0/1 [00:00<?, ?it/s]"
      ]
     },
     "metadata": {},
     "output_type": "display_data"
    },
    {
     "data": {
      "application/vnd.jupyter.widget-view+json": {
       "model_id": "db665709e0a24e35be72c78d97a5c7e4",
       "version_major": 2,
       "version_minor": 0
      },
      "text/plain": [
       "Batches:   0%|          | 0/1 [00:00<?, ?it/s]"
      ]
     },
     "metadata": {},
     "output_type": "display_data"
    },
    {
     "data": {
      "application/vnd.jupyter.widget-view+json": {
       "model_id": "d85e5416c9104a83ba9f739ed55f5fc3",
       "version_major": 2,
       "version_minor": 0
      },
      "text/plain": [
       "Batches:   0%|          | 0/1 [00:00<?, ?it/s]"
      ]
     },
     "metadata": {},
     "output_type": "display_data"
    },
    {
     "data": {
      "application/vnd.jupyter.widget-view+json": {
       "model_id": "6ff27668d1e242d4998ae592dabacfac",
       "version_major": 2,
       "version_minor": 0
      },
      "text/plain": [
       "Batches:   0%|          | 0/1 [00:00<?, ?it/s]"
      ]
     },
     "metadata": {},
     "output_type": "display_data"
    },
    {
     "data": {
      "application/vnd.jupyter.widget-view+json": {
       "model_id": "2febb8387dff413097cfcc15cb2ea791",
       "version_major": 2,
       "version_minor": 0
      },
      "text/plain": [
       "Batches:   0%|          | 0/1 [00:00<?, ?it/s]"
      ]
     },
     "metadata": {},
     "output_type": "display_data"
    },
    {
     "data": {
      "application/vnd.jupyter.widget-view+json": {
       "model_id": "9cdce4df7c60494b980edcfae55d7747",
       "version_major": 2,
       "version_minor": 0
      },
      "text/plain": [
       "Batches:   0%|          | 0/1 [00:00<?, ?it/s]"
      ]
     },
     "metadata": {},
     "output_type": "display_data"
    },
    {
     "data": {
      "application/vnd.jupyter.widget-view+json": {
       "model_id": "592050067b494bd6b05c3db85a7cff34",
       "version_major": 2,
       "version_minor": 0
      },
      "text/plain": [
       "Batches:   0%|          | 0/1 [00:00<?, ?it/s]"
      ]
     },
     "metadata": {},
     "output_type": "display_data"
    },
    {
     "data": {
      "application/vnd.jupyter.widget-view+json": {
       "model_id": "7699835cfcee46b9b29e307e3670f0b6",
       "version_major": 2,
       "version_minor": 0
      },
      "text/plain": [
       "Batches:   0%|          | 0/1 [00:00<?, ?it/s]"
      ]
     },
     "metadata": {},
     "output_type": "display_data"
    },
    {
     "data": {
      "application/vnd.jupyter.widget-view+json": {
       "model_id": "e0ed02c3aac249e09308e728785d475e",
       "version_major": 2,
       "version_minor": 0
      },
      "text/plain": [
       "Batches:   0%|          | 0/1 [00:00<?, ?it/s]"
      ]
     },
     "metadata": {},
     "output_type": "display_data"
    },
    {
     "data": {
      "application/vnd.jupyter.widget-view+json": {
       "model_id": "0347dce81e0449119cabe93258121788",
       "version_major": 2,
       "version_minor": 0
      },
      "text/plain": [
       "Batches:   0%|          | 0/1 [00:00<?, ?it/s]"
      ]
     },
     "metadata": {},
     "output_type": "display_data"
    },
    {
     "data": {
      "application/vnd.jupyter.widget-view+json": {
       "model_id": "fd9130e9752e4731a70d2653e769f127",
       "version_major": 2,
       "version_minor": 0
      },
      "text/plain": [
       "Batches:   0%|          | 0/1 [00:00<?, ?it/s]"
      ]
     },
     "metadata": {},
     "output_type": "display_data"
    },
    {
     "data": {
      "application/vnd.jupyter.widget-view+json": {
       "model_id": "70e8437213a849fcb4d9a1cc6052cf0c",
       "version_major": 2,
       "version_minor": 0
      },
      "text/plain": [
       "Batches:   0%|          | 0/1 [00:00<?, ?it/s]"
      ]
     },
     "metadata": {},
     "output_type": "display_data"
    },
    {
     "data": {
      "application/vnd.jupyter.widget-view+json": {
       "model_id": "e9a9d4123b5d4dcf99abeaf57d021314",
       "version_major": 2,
       "version_minor": 0
      },
      "text/plain": [
       "Batches:   0%|          | 0/1 [00:00<?, ?it/s]"
      ]
     },
     "metadata": {},
     "output_type": "display_data"
    },
    {
     "data": {
      "application/vnd.jupyter.widget-view+json": {
       "model_id": "658293668334490f8443adf27e76b923",
       "version_major": 2,
       "version_minor": 0
      },
      "text/plain": [
       "Batches:   0%|          | 0/1 [00:00<?, ?it/s]"
      ]
     },
     "metadata": {},
     "output_type": "display_data"
    },
    {
     "data": {
      "application/vnd.jupyter.widget-view+json": {
       "model_id": "a79981cc01b64c3eb35f4f8a24d60596",
       "version_major": 2,
       "version_minor": 0
      },
      "text/plain": [
       "Batches:   0%|          | 0/1 [00:00<?, ?it/s]"
      ]
     },
     "metadata": {},
     "output_type": "display_data"
    },
    {
     "data": {
      "application/vnd.jupyter.widget-view+json": {
       "model_id": "932d94462e274d82a93bac2a989697fa",
       "version_major": 2,
       "version_minor": 0
      },
      "text/plain": [
       "Batches:   0%|          | 0/1 [00:00<?, ?it/s]"
      ]
     },
     "metadata": {},
     "output_type": "display_data"
    },
    {
     "data": {
      "application/vnd.jupyter.widget-view+json": {
       "model_id": "1cd618639e034c57b2cacb46d88f93c7",
       "version_major": 2,
       "version_minor": 0
      },
      "text/plain": [
       "Batches:   0%|          | 0/1 [00:00<?, ?it/s]"
      ]
     },
     "metadata": {},
     "output_type": "display_data"
    },
    {
     "data": {
      "application/vnd.jupyter.widget-view+json": {
       "model_id": "eefd5825238340bdb59c777b1241478c",
       "version_major": 2,
       "version_minor": 0
      },
      "text/plain": [
       "Batches:   0%|          | 0/1 [00:00<?, ?it/s]"
      ]
     },
     "metadata": {},
     "output_type": "display_data"
    },
    {
     "data": {
      "application/vnd.jupyter.widget-view+json": {
       "model_id": "92bf63cc4ead4223921a19ca3388f392",
       "version_major": 2,
       "version_minor": 0
      },
      "text/plain": [
       "Batches:   0%|          | 0/1 [00:00<?, ?it/s]"
      ]
     },
     "metadata": {},
     "output_type": "display_data"
    },
    {
     "data": {
      "application/vnd.jupyter.widget-view+json": {
       "model_id": "0b33b5c7cbec4bc9aac409827f33b744",
       "version_major": 2,
       "version_minor": 0
      },
      "text/plain": [
       "Batches:   0%|          | 0/1 [00:00<?, ?it/s]"
      ]
     },
     "metadata": {},
     "output_type": "display_data"
    },
    {
     "data": {
      "application/vnd.jupyter.widget-view+json": {
       "model_id": "c6d610c445054f89962bd84e3783d451",
       "version_major": 2,
       "version_minor": 0
      },
      "text/plain": [
       "Batches:   0%|          | 0/1 [00:00<?, ?it/s]"
      ]
     },
     "metadata": {},
     "output_type": "display_data"
    },
    {
     "data": {
      "application/vnd.jupyter.widget-view+json": {
       "model_id": "aa686ebd132047ddb4907460fafc4892",
       "version_major": 2,
       "version_minor": 0
      },
      "text/plain": [
       "Batches:   0%|          | 0/1 [00:00<?, ?it/s]"
      ]
     },
     "metadata": {},
     "output_type": "display_data"
    },
    {
     "data": {
      "application/vnd.jupyter.widget-view+json": {
       "model_id": "7f63e0fd41e64a6e99aa632161ffcf3d",
       "version_major": 2,
       "version_minor": 0
      },
      "text/plain": [
       "Batches:   0%|          | 0/1 [00:00<?, ?it/s]"
      ]
     },
     "metadata": {},
     "output_type": "display_data"
    },
    {
     "data": {
      "application/vnd.jupyter.widget-view+json": {
       "model_id": "18fc07a55663437782493b782fc97302",
       "version_major": 2,
       "version_minor": 0
      },
      "text/plain": [
       "Batches:   0%|          | 0/1 [00:00<?, ?it/s]"
      ]
     },
     "metadata": {},
     "output_type": "display_data"
    },
    {
     "data": {
      "application/vnd.jupyter.widget-view+json": {
       "model_id": "14a87be79eca48388e1bf8e95a98a9c5",
       "version_major": 2,
       "version_minor": 0
      },
      "text/plain": [
       "Batches:   0%|          | 0/1 [00:00<?, ?it/s]"
      ]
     },
     "metadata": {},
     "output_type": "display_data"
    },
    {
     "data": {
      "application/vnd.jupyter.widget-view+json": {
       "model_id": "a61858aeeded46b0b3c7d9327a25ff95",
       "version_major": 2,
       "version_minor": 0
      },
      "text/plain": [
       "Batches:   0%|          | 0/1 [00:00<?, ?it/s]"
      ]
     },
     "metadata": {},
     "output_type": "display_data"
    },
    {
     "data": {
      "application/vnd.jupyter.widget-view+json": {
       "model_id": "ff4fbd3e4b934ec29283693da454bfc1",
       "version_major": 2,
       "version_minor": 0
      },
      "text/plain": [
       "Batches:   0%|          | 0/1 [00:00<?, ?it/s]"
      ]
     },
     "metadata": {},
     "output_type": "display_data"
    },
    {
     "data": {
      "application/vnd.jupyter.widget-view+json": {
       "model_id": "2326aff954b545cdaa8dcc2e92d19c9a",
       "version_major": 2,
       "version_minor": 0
      },
      "text/plain": [
       "Batches:   0%|          | 0/1 [00:00<?, ?it/s]"
      ]
     },
     "metadata": {},
     "output_type": "display_data"
    },
    {
     "data": {
      "application/vnd.jupyter.widget-view+json": {
       "model_id": "4b9e652f1e4e48bb933d0a1d009b0d07",
       "version_major": 2,
       "version_minor": 0
      },
      "text/plain": [
       "Batches:   0%|          | 0/1 [00:00<?, ?it/s]"
      ]
     },
     "metadata": {},
     "output_type": "display_data"
    },
    {
     "data": {
      "application/vnd.jupyter.widget-view+json": {
       "model_id": "a02c321ed0404c95a0f7f06715514283",
       "version_major": 2,
       "version_minor": 0
      },
      "text/plain": [
       "Batches:   0%|          | 0/1 [00:00<?, ?it/s]"
      ]
     },
     "metadata": {},
     "output_type": "display_data"
    },
    {
     "data": {
      "application/vnd.jupyter.widget-view+json": {
       "model_id": "2c2c3ccefc14459081205e76db5e290e",
       "version_major": 2,
       "version_minor": 0
      },
      "text/plain": [
       "Batches:   0%|          | 0/1 [00:00<?, ?it/s]"
      ]
     },
     "metadata": {},
     "output_type": "display_data"
    },
    {
     "data": {
      "application/vnd.jupyter.widget-view+json": {
       "model_id": "a13d355903da49e6b6b6f73288a276e8",
       "version_major": 2,
       "version_minor": 0
      },
      "text/plain": [
       "Batches:   0%|          | 0/1 [00:00<?, ?it/s]"
      ]
     },
     "metadata": {},
     "output_type": "display_data"
    },
    {
     "data": {
      "application/vnd.jupyter.widget-view+json": {
       "model_id": "bc1ce0973f684140a71b6b8ff82e7ff7",
       "version_major": 2,
       "version_minor": 0
      },
      "text/plain": [
       "Batches:   0%|          | 0/1 [00:00<?, ?it/s]"
      ]
     },
     "metadata": {},
     "output_type": "display_data"
    },
    {
     "data": {
      "application/vnd.jupyter.widget-view+json": {
       "model_id": "b72e25be94ce41cc804c59e9afec6cd9",
       "version_major": 2,
       "version_minor": 0
      },
      "text/plain": [
       "Batches:   0%|          | 0/1 [00:00<?, ?it/s]"
      ]
     },
     "metadata": {},
     "output_type": "display_data"
    },
    {
     "data": {
      "application/vnd.jupyter.widget-view+json": {
       "model_id": "6cc108100dc84aabaeebd6165e3e21d6",
       "version_major": 2,
       "version_minor": 0
      },
      "text/plain": [
       "Batches:   0%|          | 0/1 [00:00<?, ?it/s]"
      ]
     },
     "metadata": {},
     "output_type": "display_data"
    },
    {
     "data": {
      "application/vnd.jupyter.widget-view+json": {
       "model_id": "299ee50fcc304000a64d6ed0ce33def1",
       "version_major": 2,
       "version_minor": 0
      },
      "text/plain": [
       "Batches:   0%|          | 0/1 [00:00<?, ?it/s]"
      ]
     },
     "metadata": {},
     "output_type": "display_data"
    },
    {
     "data": {
      "application/vnd.jupyter.widget-view+json": {
       "model_id": "77ec022bfaa3415f8791736225e5a4d8",
       "version_major": 2,
       "version_minor": 0
      },
      "text/plain": [
       "Batches:   0%|          | 0/1 [00:00<?, ?it/s]"
      ]
     },
     "metadata": {},
     "output_type": "display_data"
    },
    {
     "data": {
      "application/vnd.jupyter.widget-view+json": {
       "model_id": "b2e4b7d7fc4b4aea99538a92e132d220",
       "version_major": 2,
       "version_minor": 0
      },
      "text/plain": [
       "Batches:   0%|          | 0/1 [00:00<?, ?it/s]"
      ]
     },
     "metadata": {},
     "output_type": "display_data"
    },
    {
     "data": {
      "application/vnd.jupyter.widget-view+json": {
       "model_id": "139c6de022cf4f0683d7cdc672b8f4bd",
       "version_major": 2,
       "version_minor": 0
      },
      "text/plain": [
       "Batches:   0%|          | 0/1 [00:00<?, ?it/s]"
      ]
     },
     "metadata": {},
     "output_type": "display_data"
    },
    {
     "data": {
      "application/vnd.jupyter.widget-view+json": {
       "model_id": "6e647a53ba6b4c688d3029243634b61c",
       "version_major": 2,
       "version_minor": 0
      },
      "text/plain": [
       "Batches:   0%|          | 0/1 [00:00<?, ?it/s]"
      ]
     },
     "metadata": {},
     "output_type": "display_data"
    },
    {
     "data": {
      "application/vnd.jupyter.widget-view+json": {
       "model_id": "2e15c3b0a53d4384988925561b8d686b",
       "version_major": 2,
       "version_minor": 0
      },
      "text/plain": [
       "Batches:   0%|          | 0/1 [00:00<?, ?it/s]"
      ]
     },
     "metadata": {},
     "output_type": "display_data"
    },
    {
     "data": {
      "application/vnd.jupyter.widget-view+json": {
       "model_id": "64cafd69927745f6826398416ccc4024",
       "version_major": 2,
       "version_minor": 0
      },
      "text/plain": [
       "Batches:   0%|          | 0/1 [00:00<?, ?it/s]"
      ]
     },
     "metadata": {},
     "output_type": "display_data"
    },
    {
     "data": {
      "application/vnd.jupyter.widget-view+json": {
       "model_id": "548a8809749f4a7390e6106d8112cc5b",
       "version_major": 2,
       "version_minor": 0
      },
      "text/plain": [
       "Batches:   0%|          | 0/1 [00:00<?, ?it/s]"
      ]
     },
     "metadata": {},
     "output_type": "display_data"
    },
    {
     "data": {
      "application/vnd.jupyter.widget-view+json": {
       "model_id": "3ea2147d5c6a43e584558c41dfadcf20",
       "version_major": 2,
       "version_minor": 0
      },
      "text/plain": [
       "Batches:   0%|          | 0/1 [00:00<?, ?it/s]"
      ]
     },
     "metadata": {},
     "output_type": "display_data"
    },
    {
     "data": {
      "application/vnd.jupyter.widget-view+json": {
       "model_id": "17f518f8bb894e3d9490f40a440a32be",
       "version_major": 2,
       "version_minor": 0
      },
      "text/plain": [
       "Batches:   0%|          | 0/1 [00:00<?, ?it/s]"
      ]
     },
     "metadata": {},
     "output_type": "display_data"
    },
    {
     "data": {
      "application/vnd.jupyter.widget-view+json": {
       "model_id": "431dd446ddd64ed0a495f91f31dccfa7",
       "version_major": 2,
       "version_minor": 0
      },
      "text/plain": [
       "Batches:   0%|          | 0/1 [00:00<?, ?it/s]"
      ]
     },
     "metadata": {},
     "output_type": "display_data"
    },
    {
     "data": {
      "application/vnd.jupyter.widget-view+json": {
       "model_id": "829bef6228974afe945456c3de841282",
       "version_major": 2,
       "version_minor": 0
      },
      "text/plain": [
       "Batches:   0%|          | 0/1 [00:00<?, ?it/s]"
      ]
     },
     "metadata": {},
     "output_type": "display_data"
    },
    {
     "data": {
      "application/vnd.jupyter.widget-view+json": {
       "model_id": "57712827280646a1bd2c1095862df5b0",
       "version_major": 2,
       "version_minor": 0
      },
      "text/plain": [
       "Batches:   0%|          | 0/1 [00:00<?, ?it/s]"
      ]
     },
     "metadata": {},
     "output_type": "display_data"
    },
    {
     "data": {
      "application/vnd.jupyter.widget-view+json": {
       "model_id": "43ef72bc9ad346ecb9f257415a9ef3c0",
       "version_major": 2,
       "version_minor": 0
      },
      "text/plain": [
       "Batches:   0%|          | 0/1 [00:00<?, ?it/s]"
      ]
     },
     "metadata": {},
     "output_type": "display_data"
    },
    {
     "data": {
      "application/vnd.jupyter.widget-view+json": {
       "model_id": "62cc51d6c951444fb276a0c2b6877fee",
       "version_major": 2,
       "version_minor": 0
      },
      "text/plain": [
       "Batches:   0%|          | 0/1 [00:00<?, ?it/s]"
      ]
     },
     "metadata": {},
     "output_type": "display_data"
    },
    {
     "data": {
      "application/vnd.jupyter.widget-view+json": {
       "model_id": "3fdc5fb58aa74d408086080d688766f7",
       "version_major": 2,
       "version_minor": 0
      },
      "text/plain": [
       "Batches:   0%|          | 0/1 [00:00<?, ?it/s]"
      ]
     },
     "metadata": {},
     "output_type": "display_data"
    },
    {
     "data": {
      "application/vnd.jupyter.widget-view+json": {
       "model_id": "16e8a2baecdb40f4908e953779ab2e1b",
       "version_major": 2,
       "version_minor": 0
      },
      "text/plain": [
       "Batches:   0%|          | 0/1 [00:00<?, ?it/s]"
      ]
     },
     "metadata": {},
     "output_type": "display_data"
    },
    {
     "data": {
      "application/vnd.jupyter.widget-view+json": {
       "model_id": "9da0d86f15994e42846caccf1c9d3bf6",
       "version_major": 2,
       "version_minor": 0
      },
      "text/plain": [
       "Batches:   0%|          | 0/1 [00:00<?, ?it/s]"
      ]
     },
     "metadata": {},
     "output_type": "display_data"
    },
    {
     "data": {
      "application/vnd.jupyter.widget-view+json": {
       "model_id": "279a1a6f203c4a4f8bed075c77306561",
       "version_major": 2,
       "version_minor": 0
      },
      "text/plain": [
       "Batches:   0%|          | 0/1 [00:00<?, ?it/s]"
      ]
     },
     "metadata": {},
     "output_type": "display_data"
    },
    {
     "data": {
      "application/vnd.jupyter.widget-view+json": {
       "model_id": "44cececb0a1a49d3a79548c945025d08",
       "version_major": 2,
       "version_minor": 0
      },
      "text/plain": [
       "Batches:   0%|          | 0/1 [00:00<?, ?it/s]"
      ]
     },
     "metadata": {},
     "output_type": "display_data"
    },
    {
     "data": {
      "application/vnd.jupyter.widget-view+json": {
       "model_id": "e45627a5a3aa42e0a4ed005c79f00eb1",
       "version_major": 2,
       "version_minor": 0
      },
      "text/plain": [
       "Batches:   0%|          | 0/1 [00:00<?, ?it/s]"
      ]
     },
     "metadata": {},
     "output_type": "display_data"
    },
    {
     "data": {
      "application/vnd.jupyter.widget-view+json": {
       "model_id": "de2be93609984fa089a2487798f38168",
       "version_major": 2,
       "version_minor": 0
      },
      "text/plain": [
       "Batches:   0%|          | 0/1 [00:00<?, ?it/s]"
      ]
     },
     "metadata": {},
     "output_type": "display_data"
    }
   ],
   "source": [
    "import cv2\n",
    "from PIL import Image\n",
    "\n",
    "def clip_embed(example):\n",
    "    i2 = cv2.imread(f'{path}/'+example['frame_no'][0])\n",
    "    r = example['co_ord'][0]\n",
    "    \n",
    "    bb_img = i2[r[1]:r[1]+r[3],r[0]:r[0]+r[2]]\n",
    "    \n",
    "    example['embed'] = clip_model.encode(Image.fromarray(bb_img))\n",
    "    return example\n",
    "    \n",
    "frame_dt = frame_dt.map(clip_embed)"
   ]
  },
  {
   "cell_type": "code",
   "execution_count": 42,
   "id": "b983b568-7b68-457f-acd7-2cca169d5983",
   "metadata": {
    "tags": []
   },
   "outputs": [],
   "source": [
    "from umap import UMAP\n",
    "\n",
    "umap_model = UMAP(n_neighbors=28, n_components=128, min_dist=0.28, metric='cosine')\n",
    "umap_model.fit(frame_dt['embed'])\n",
    "\n",
    "umap_embeddings = umap_model.transform(frame_dt['embed'])"
   ]
  },
  {
   "cell_type": "code",
   "execution_count": 43,
   "id": "740eaa99-4f79-4c2e-b19f-be0f6dbf2cba",
   "metadata": {
    "tags": []
   },
   "outputs": [],
   "source": [
    "import hdbscan\n",
    "\n",
    "clusterer = hdbscan.HDBSCAN(min_cluster_size = 30, metric='euclidean',\n",
    "                            cluster_selection_method='eom', prediction_data=True)"
   ]
  },
  {
   "cell_type": "code",
   "execution_count": 44,
   "id": "acd9a21c-0c6e-47fc-8346-60a02b02365a",
   "metadata": {
    "tags": []
   },
   "outputs": [
    {
     "data": {
      "text/html": [
       "<style>#sk-container-id-1 {color: black;}#sk-container-id-1 pre{padding: 0;}#sk-container-id-1 div.sk-toggleable {background-color: white;}#sk-container-id-1 label.sk-toggleable__label {cursor: pointer;display: block;width: 100%;margin-bottom: 0;padding: 0.3em;box-sizing: border-box;text-align: center;}#sk-container-id-1 label.sk-toggleable__label-arrow:before {content: \"▸\";float: left;margin-right: 0.25em;color: #696969;}#sk-container-id-1 label.sk-toggleable__label-arrow:hover:before {color: black;}#sk-container-id-1 div.sk-estimator:hover label.sk-toggleable__label-arrow:before {color: black;}#sk-container-id-1 div.sk-toggleable__content {max-height: 0;max-width: 0;overflow: hidden;text-align: left;background-color: #f0f8ff;}#sk-container-id-1 div.sk-toggleable__content pre {margin: 0.2em;color: black;border-radius: 0.25em;background-color: #f0f8ff;}#sk-container-id-1 input.sk-toggleable__control:checked~div.sk-toggleable__content {max-height: 200px;max-width: 100%;overflow: auto;}#sk-container-id-1 input.sk-toggleable__control:checked~label.sk-toggleable__label-arrow:before {content: \"▾\";}#sk-container-id-1 div.sk-estimator input.sk-toggleable__control:checked~label.sk-toggleable__label {background-color: #d4ebff;}#sk-container-id-1 div.sk-label input.sk-toggleable__control:checked~label.sk-toggleable__label {background-color: #d4ebff;}#sk-container-id-1 input.sk-hidden--visually {border: 0;clip: rect(1px 1px 1px 1px);clip: rect(1px, 1px, 1px, 1px);height: 1px;margin: -1px;overflow: hidden;padding: 0;position: absolute;width: 1px;}#sk-container-id-1 div.sk-estimator {font-family: monospace;background-color: #f0f8ff;border: 1px dotted black;border-radius: 0.25em;box-sizing: border-box;margin-bottom: 0.5em;}#sk-container-id-1 div.sk-estimator:hover {background-color: #d4ebff;}#sk-container-id-1 div.sk-parallel-item::after {content: \"\";width: 100%;border-bottom: 1px solid gray;flex-grow: 1;}#sk-container-id-1 div.sk-label:hover label.sk-toggleable__label {background-color: #d4ebff;}#sk-container-id-1 div.sk-serial::before {content: \"\";position: absolute;border-left: 1px solid gray;box-sizing: border-box;top: 0;bottom: 0;left: 50%;z-index: 0;}#sk-container-id-1 div.sk-serial {display: flex;flex-direction: column;align-items: center;background-color: white;padding-right: 0.2em;padding-left: 0.2em;position: relative;}#sk-container-id-1 div.sk-item {position: relative;z-index: 1;}#sk-container-id-1 div.sk-parallel {display: flex;align-items: stretch;justify-content: center;background-color: white;position: relative;}#sk-container-id-1 div.sk-item::before, #sk-container-id-1 div.sk-parallel-item::before {content: \"\";position: absolute;border-left: 1px solid gray;box-sizing: border-box;top: 0;bottom: 0;left: 50%;z-index: -1;}#sk-container-id-1 div.sk-parallel-item {display: flex;flex-direction: column;z-index: 1;position: relative;background-color: white;}#sk-container-id-1 div.sk-parallel-item:first-child::after {align-self: flex-end;width: 50%;}#sk-container-id-1 div.sk-parallel-item:last-child::after {align-self: flex-start;width: 50%;}#sk-container-id-1 div.sk-parallel-item:only-child::after {width: 0;}#sk-container-id-1 div.sk-dashed-wrapped {border: 1px dashed gray;margin: 0 0.4em 0.5em 0.4em;box-sizing: border-box;padding-bottom: 0.4em;background-color: white;}#sk-container-id-1 div.sk-label label {font-family: monospace;font-weight: bold;display: inline-block;line-height: 1.2em;}#sk-container-id-1 div.sk-label-container {text-align: center;}#sk-container-id-1 div.sk-container {/* jupyter's `normalize.less` sets `[hidden] { display: none; }` but bootstrap.min.css set `[hidden] { display: none !important; }` so we also need the `!important` here to be able to override the default hidden behavior on the sphinx rendered scikit-learn.org. See: https://github.com/scikit-learn/scikit-learn/issues/21755 */display: inline-block !important;position: relative;}#sk-container-id-1 div.sk-text-repr-fallback {display: none;}</style><div id=\"sk-container-id-1\" class=\"sk-top-container\"><div class=\"sk-text-repr-fallback\"><pre>HDBSCAN(min_cluster_size=10, prediction_data=True)</pre><b>In a Jupyter environment, please rerun this cell to show the HTML representation or trust the notebook. <br />On GitHub, the HTML representation is unable to render, please try loading this page with nbviewer.org.</b></div><div class=\"sk-container\" hidden><div class=\"sk-item\"><div class=\"sk-estimator sk-toggleable\"><input class=\"sk-toggleable__control sk-hidden--visually\" id=\"sk-estimator-id-1\" type=\"checkbox\" checked><label for=\"sk-estimator-id-1\" class=\"sk-toggleable__label sk-toggleable__label-arrow\">HDBSCAN</label><div class=\"sk-toggleable__content\"><pre>HDBSCAN(min_cluster_size=10, prediction_data=True)</pre></div></div></div></div></div>"
      ],
      "text/plain": [
       "HDBSCAN(min_cluster_size=10, prediction_data=True)"
      ]
     },
     "execution_count": 44,
     "metadata": {},
     "output_type": "execute_result"
    }
   ],
   "source": [
    "clusterer = hdbscan.HDBSCAN(min_cluster_size = 10, metric='euclidean', prediction_data=True)\n",
    "clusterer.fit(umap_embeddings)"
   ]
  },
  {
   "cell_type": "code",
   "execution_count": 45,
   "id": "90c6ac38-7088-4afc-9a9c-4584c67161cb",
   "metadata": {
    "tags": []
   },
   "outputs": [
    {
     "data": {
      "text/plain": [
       "407"
      ]
     },
     "execution_count": 45,
     "metadata": {},
     "output_type": "execute_result"
    }
   ],
   "source": [
    "cluster_labels = sorted(list(set(clusterer.labels_)))\n",
    "predicted_clusters = list(clusterer.labels_)\n",
    "len(predicted_clusters)"
   ]
  },
  {
   "cell_type": "code",
   "execution_count": 46,
   "id": "e40435c3-27df-4402-ae76-31893f5728e2",
   "metadata": {
    "tags": []
   },
   "outputs": [],
   "source": [
    "import joblib\n",
    "\n",
    "with open('/home/jupyter/object_detection/apporach2/key_frame_bbox_cluster_100.pkl', 'wb') as file:\n",
    "    joblib.dump(clusterer, file)"
   ]
  },
  {
   "cell_type": "code",
   "execution_count": 47,
   "id": "a140bef6-4b54-4d3e-bcf7-6a406f577e1b",
   "metadata": {
    "tags": []
   },
   "outputs": [],
   "source": [
    "frame_dt2 = frame_dt.remove_columns(['embed'])\n",
    "frame_df = frame_dt2.to_pandas()"
   ]
  },
  {
   "cell_type": "code",
   "execution_count": 48,
   "id": "12e43bfc-953a-4283-85d6-b9e64753f5ae",
   "metadata": {
    "tags": []
   },
   "outputs": [],
   "source": [
    "frame_df['pred_clusters'] = predicted_clusters"
   ]
  },
  {
   "cell_type": "code",
   "execution_count": 49,
   "id": "bf215671-fb16-4c0a-886c-178918526e4a",
   "metadata": {
    "tags": []
   },
   "outputs": [
    {
     "data": {
      "text/plain": [
       "pred_clusters\n",
       " 0    224\n",
       " 1    128\n",
       "-1     55\n",
       "Name: count, dtype: int64"
      ]
     },
     "execution_count": 49,
     "metadata": {},
     "output_type": "execute_result"
    }
   ],
   "source": [
    "frame_df.pred_clusters.value_counts()"
   ]
  },
  {
   "cell_type": "code",
   "execution_count": 50,
   "id": "3001b3a7-75e6-4747-80d5-7d57f358b6d3",
   "metadata": {
    "tags": []
   },
   "outputs": [],
   "source": [
    "import pandas as pd\n",
    "\n",
    "frequency = (\n",
    "            pd.DataFrame({\"Cluster\": predicted_clusters, \"Count\": predicted_clusters})\n",
    "              .groupby(\"Cluster\")\n",
    "              .count()\n",
    "              .drop(-1, errors=\"ignore\")\n",
    "              .sort_values(\"Count\", ascending=False)\n",
    "        )"
   ]
  },
  {
   "cell_type": "code",
   "execution_count": 51,
   "id": "0d941682-c78e-40a3-87c1-ad0e9e7d87cc",
   "metadata": {
    "tags": []
   },
   "outputs": [
    {
     "data": {
      "text/html": [
       "<div>\n",
       "<style scoped>\n",
       "    .dataframe tbody tr th:only-of-type {\n",
       "        vertical-align: middle;\n",
       "    }\n",
       "\n",
       "    .dataframe tbody tr th {\n",
       "        vertical-align: top;\n",
       "    }\n",
       "\n",
       "    .dataframe thead th {\n",
       "        text-align: right;\n",
       "    }\n",
       "</style>\n",
       "<table border=\"1\" class=\"dataframe\">\n",
       "  <thead>\n",
       "    <tr style=\"text-align: right;\">\n",
       "      <th></th>\n",
       "      <th>Count</th>\n",
       "    </tr>\n",
       "    <tr>\n",
       "      <th>Cluster</th>\n",
       "      <th></th>\n",
       "    </tr>\n",
       "  </thead>\n",
       "  <tbody>\n",
       "    <tr>\n",
       "      <th>0</th>\n",
       "      <td>224</td>\n",
       "    </tr>\n",
       "    <tr>\n",
       "      <th>1</th>\n",
       "      <td>128</td>\n",
       "    </tr>\n",
       "  </tbody>\n",
       "</table>\n",
       "</div>"
      ],
      "text/plain": [
       "         Count\n",
       "Cluster       \n",
       "0          224\n",
       "1          128"
      ]
     },
     "execution_count": 51,
     "metadata": {},
     "output_type": "execute_result"
    }
   ],
   "source": [
    "frequency"
   ]
  },
  {
   "cell_type": "markdown",
   "id": "2be61238-7274-467a-abf8-caf7281acb21",
   "metadata": {},
   "source": [
    "## Visualization\n",
    "\n",
    "From the above pipeline, above we want to learn more about the video and people included in them, like, how many frames have multiple people, in how many frames does person X appear, who has the most screen time, the least screen time.\n",
    "\n",
    "Use above pipeline results to create visualizations that explore the contents of the video."
   ]
  },
  {
   "cell_type": "code",
   "execution_count": 149,
   "id": "bd963a0c-0cbd-4a5c-9fd5-27c44f6920de",
   "metadata": {
    "tags": []
   },
   "outputs": [
    {
     "data": {
      "text/plain": [
       "<Axes: ylabel='$\\\\lambda$ value'>"
      ]
     },
     "execution_count": 149,
     "metadata": {},
     "output_type": "execute_result"
    },
    {
     "data": {
      "image/png": "[encoded data removed]",
      "text/plain": [
       "<Figure size 640x480 with 2 Axes>"
      ]
     },
     "metadata": {},
     "output_type": "display_data"
    }
   ],
   "source": [
    "clusterer.condensed_tree_.plot()"
   ]
  },
  {
   "cell_type": "markdown",
   "id": "0d0cdb5b-4d46-474c-a78f-61ceddae9741",
   "metadata": {},
   "source": [
    "### Frames with maximum count"
   ]
  },
  {
   "cell_type": "code",
   "execution_count": 156,
   "id": "72d88082-b76d-40cb-a88c-9ddb74a49a11",
   "metadata": {
    "scrolled": true,
    "tags": []
   },
   "outputs": [],
   "source": [
    "vd_df2 = vd_df.transpose().reset_index()\n",
    "vd_df2 = vd_df2.sort_values(by=['count'], ascending=False)"
   ]
  },
  {
   "cell_type": "code",
   "execution_count": 174,
   "id": "fe9cc947-0ae7-4e69-97a1-e40a43623255",
   "metadata": {
    "tags": []
   },
   "outputs": [
    {
     "data": {
      "text/html": [
       "<div>\n",
       "<style scoped>\n",
       "    .dataframe tbody tr th:only-of-type {\n",
       "        vertical-align: middle;\n",
       "    }\n",
       "\n",
       "    .dataframe tbody tr th {\n",
       "        vertical-align: top;\n",
       "    }\n",
       "\n",
       "    .dataframe thead th {\n",
       "        text-align: right;\n",
       "    }\n",
       "</style>\n",
       "<table border=\"1\" class=\"dataframe\">\n",
       "  <thead>\n",
       "    <tr style=\"text-align: right;\">\n",
       "      <th></th>\n",
       "      <th>index</th>\n",
       "      <th>count</th>\n",
       "      <th>co_ord</th>\n",
       "    </tr>\n",
       "  </thead>\n",
       "  <tbody>\n",
       "    <tr>\n",
       "      <th>38</th>\n",
       "      <td>frame-51.jpg</td>\n",
       "      <td>12</td>\n",
       "      <td>[[1469, 290, 1794, 1072], [2, 4, 568, 1062], [...</td>\n",
       "    </tr>\n",
       "    <tr>\n",
       "      <th>25</th>\n",
       "      <td>frame-83.jpg</td>\n",
       "      <td>10</td>\n",
       "      <td>[[891, 105, 1509, 1072], [399, 202, 988, 1074]...</td>\n",
       "    </tr>\n",
       "    <tr>\n",
       "      <th>15</th>\n",
       "      <td>frame-50.jpg</td>\n",
       "      <td>9</td>\n",
       "      <td>[[182, 94, 934, 1065], [864, 289, 1086, 894], ...</td>\n",
       "    </tr>\n",
       "    <tr>\n",
       "      <th>14</th>\n",
       "      <td>frame-136.jpg</td>\n",
       "      <td>8</td>\n",
       "      <td>[[1310, 134, 1917, 1064], [659, 128, 1006, 477...</td>\n",
       "    </tr>\n",
       "    <tr>\n",
       "      <th>106</th>\n",
       "      <td>frame-97.jpg</td>\n",
       "      <td>8</td>\n",
       "      <td>[[2, 64, 942, 1072], [730, 128, 1398, 1062], [...</td>\n",
       "    </tr>\n",
       "  </tbody>\n",
       "</table>\n",
       "</div>"
      ],
      "text/plain": [
       "             index count                                             co_ord\n",
       "38    frame-51.jpg    12  [[1469, 290, 1794, 1072], [2, 4, 568, 1062], [...\n",
       "25    frame-83.jpg    10  [[891, 105, 1509, 1072], [399, 202, 988, 1074]...\n",
       "15    frame-50.jpg     9  [[182, 94, 934, 1065], [864, 289, 1086, 894], ...\n",
       "14   frame-136.jpg     8  [[1310, 134, 1917, 1064], [659, 128, 1006, 477...\n",
       "106   frame-97.jpg     8  [[2, 64, 942, 1072], [730, 128, 1398, 1062], [..."
      ]
     },
     "execution_count": 174,
     "metadata": {},
     "output_type": "execute_result"
    }
   ],
   "source": [
    "vd_df2.head()"
   ]
  },
  {
   "cell_type": "code",
   "execution_count": 171,
   "id": "709d8823-bf2e-4ead-9b12-3375e3eed819",
   "metadata": {
    "tags": []
   },
   "outputs": [],
   "source": [
    "import cv2\n",
    "import matplotlib.pyplot as plt\n",
    "\n",
    "def display_picture(co_ord, frame_no):\n",
    "\n",
    "    image = cv2.imread(f'{path}/' + frame_no)\n",
    "    r = co_ord[0].tolist()\n",
    "    \n",
    "    bb_img = image[r[1]:r[1]+r[3],r[0]:r[0]+r[2]]\n",
    "    plt.imshow(bb_img)"
   ]
  },
  {
   "cell_type": "code",
   "execution_count": 173,
   "id": "6de73549-af40-4348-b8d4-2f4190e01cab",
   "metadata": {
    "tags": []
   },
   "outputs": [
    {
     "data": {
      "image/png": "[encoded data removed]",
      "text/plain": [
       "<Figure size 640x480 with 1 Axes>"
      ]
     },
     "metadata": {},
     "output_type": "display_data"
    }
   ],
   "source": [
    "## Printing Frames with Highest Count\n",
    "display_picture(vd_df2['co_ord'].iloc[0], vd_df2['index'].iloc[0])"
   ]
  },
  {
   "cell_type": "code",
   "execution_count": 175,
   "id": "87d0f4fd-0362-464b-8503-de2d0c65ebc3",
   "metadata": {
    "tags": []
   },
   "outputs": [
    {
     "data": {
      "image/png": "[encoded data removed]",
      "text/plain": [
       "<Figure size 640x480 with 1 Axes>"
      ]
     },
     "metadata": {},
     "output_type": "display_data"
    }
   ],
   "source": [
    "## Printing Frames with Highest Count\n",
    "display_picture(vd_df2['co_ord'].iloc[1], vd_df2['index'].iloc[1])"
   ]
  },
  {
   "cell_type": "code",
   "execution_count": 176,
   "id": "684b3acf-345e-4484-b624-fcf13eb85618",
   "metadata": {
    "tags": []
   },
   "outputs": [
    {
     "data": {
      "image/png": "[encoded data removed]",
      "text/plain": [
       "<Figure size 640x480 with 1 Axes>"
      ]
     },
     "metadata": {},
     "output_type": "display_data"
    }
   ],
   "source": [
    "## Printing Frames with Highest Count\n",
    "display_picture(vd_df2['co_ord'].iloc[2], vd_df2['index'].iloc[2])"
   ]
  },
  {
   "cell_type": "code",
   "execution_count": 145,
   "id": "7ed59e06-a660-4c9c-a9e4-0fa24c4f875c",
   "metadata": {},
   "outputs": [],
   "source": [
    "# Top 10 Images from Clusters.\n",
    "import PIL\n",
    "import numpy as np\n",
    "from PIL import Image\n",
    "\n",
    "path2 = f\"/home/jupyter/object_detection/apporach2/top_10_per_cluster/\"\n",
    "    \n",
    "cluster_labels2, strengths = hdbscan.approximate_predict(clusterer, umap_embeddings)\n",
    "\n",
    "def storing_10_image(df, cluster_num):\n",
    "    \n",
    "    path_clus = f\"{path2}/cluster_no_{cluster_num}\"\n",
    "\n",
    "    if os.path.exists(path_clus):\n",
    "        shutil.rmtree(path_clus)\n",
    "        os.makedirs(path_clus)\n",
    "    else:\n",
    "        os.makedirs(path_clus)\n",
    "    \n",
    "    img_path = list()\n",
    "    for i in range(df.shape[0]):\n",
    "        frame = df['frame_no'].iloc[i]\n",
    "        image = cv2.imread(f'{path}/' + frame[0])\n",
    "        \n",
    "        r = df['co_ord'].iloc[i][0].tolist()\n",
    "\n",
    "        bb_img = image[r[1]:r[1]+r[3],r[0]:r[0]+r[2]]\n",
    "        \n",
    "        im = Image.fromarray(bb_img)\n",
    "        im.save(f\"{path_clus}/image_{i}.jpg\")\n",
    "        img_path.append(f\"{path_clus}/image_{i}.jpg\")\n",
    "        \n",
    "    return img_path\n",
    "        \n",
    "\n",
    "def top_10_element(cluster_num, frame_df):\n",
    "    \n",
    "    cluster_indices = np.where(cluster_labels2 == cluster_num)[0]\n",
    "    sorted_indices = sorted(cluster_indices, key=lambda x: clusterer.probabilities_[x], reverse=True)\n",
    "    top_10_elements = frame_df.iloc[sorted_indices[:10]]\n",
    "    \n",
    "    img_path = storing_10_image(top_10_elements, cluster_num)\n",
    "    \n",
    "    imgs = [Image.open(i) for i in img_path]\n",
    "    min_shape = sorted([(np.sum(i.size), i.size ) for i in imgs])[0][1]\n",
    "    imgs_comb = np.hstack([i.resize(min_shape) for i in imgs])\n",
    "\n",
    "    imgs_comb = Image.fromarray(imgs_comb)\n",
    "    plt.imshow(imgs_comb)"
   ]
  },
  {
   "cell_type": "code",
   "execution_count": 146,
   "id": "beccc4dd-e127-4540-8cec-cee6917e5d75",
   "metadata": {
    "tags": []
   },
   "outputs": [
    {
     "data": {
      "image/png": "[encoded data removed]",
      "text/plain": [
       "<Figure size 640x480 with 1 Axes>"
      ]
     },
     "metadata": {},
     "output_type": "display_data"
    }
   ],
   "source": [
    "top_10_element(0, frame_df)"
   ]
  },
  {
   "cell_type": "code",
   "execution_count": 147,
   "id": "8cf323ba-d1d3-4016-8ff7-253d47bd7bc9",
   "metadata": {
    "tags": []
   },
   "outputs": [
    {
     "data": {
      "image/png": "[encoded data removed]",
      "text/plain": [
       "<Figure size 640x480 with 1 Axes>"
      ]
     },
     "metadata": {},
     "output_type": "display_data"
    }
   ],
   "source": [
    "top_10_element(1, frame_df)"
   ]
  },
  {
   "cell_type": "markdown",
   "id": "18b9a091-164e-4685-b80b-c79606742e50",
   "metadata": {},
   "source": [
    "## Deployment"
   ]
  },
  {
   "cell_type": "code",
   "execution_count": 1,
   "id": "2ff2e333-6fa6-49b9-a6be-b78eefde3999",
   "metadata": {},
   "outputs": [],
   "source": [
    "# feel free to write code here or create extra .py scripts and Dockerfile for deployment.\n",
    "# include instructions on how to setup the dockerfile, create a docker image and run it\n",
    "# include instructions on how to send a Request to this dockerize solution."
   ]
  },
  {
   "cell_type": "raw",
   "id": "0a7c906d-d5fd-4cae-95c4-ca502a86d748",
   "metadata": {},
   "source": [
    "FROM python:3.10\n",
    "\n",
    "WORKDIR /app\n",
    "\n",
    "RUN apt-get update\n",
    "RUN apt-get install ffmpeg libsm6 libxext6  -y\n",
    "\n",
    "COPY requirements.txt .\n",
    "\n",
    "RUN pip install --no-cache-dir -r requirements.txt\n",
    "RUN pip install --force-reinstall https://github.com/yt-dlp/yt-dlp/archive/master.tar.gz\n",
    "\n",
    "COPY . .\n",
    "\n",
    "CMD [\"python\", \"object_detection2.py\"]"
   ]
  },
  {
   "cell_type": "raw",
   "id": "cec3993f-8b99-4ef1-ae72-c0b10dddca16",
   "metadata": {},
   "source": [
    "# take all the code from this notebook into a python script named object_detection1\n",
    "\n",
    "DOCKER_BUILDKIT=1 docker build -t obt_detc2 .\n",
    "\n",
    "1 - Once the docker build is done, we can schedule this docker via cron-job or Kubernetes Pod.\n",
    "Cron Job Commands - \n",
    "\n",
    "crontab -e\n",
    "0 1 * * * docker run -p 5000:5000 obt_detc2"
   ]
  },
  {
   "cell_type": "markdown",
   "id": "84556b8f-56b3-401f-99f5-f82cc0735811",
   "metadata": {},
   "source": [
    "## Deliverables\n",
    "\n",
    "Webserver Code"
   ]
  },
  {
   "cell_type": "code",
   "execution_count": null,
   "id": "16c2f221-8dd8-4aa7-aa35-604706304fdd",
   "metadata": {},
   "outputs": [],
   "source": [
    "## API Request\n",
    "\n",
    "import requests\n",
    "import json\n",
    "\n",
    "BASE_URL = \"http://localhost:5000\"\n",
    "\n",
    "def get_people_from_image(image_filepath):\n",
    "    url = f\"{BASE_URL}/get_people_from_image\"\n",
    "    headers = {\"Content-Type\": \"application/json\"}\n",
    "    data = {\"image_filepath\": image_filepath}\n",
    "\n",
    "    response = requests.post(url, headers=headers, data=json.dumps(data))\n",
    "\n",
    "    if response.status_code == 200:\n",
    "        result = response.json()\n",
    "        print(\"Bounding Boxes:\")\n",
    "        print(result[\"bounding_boxes\"])\n",
    "        print(\"Cluster Labels:\")\n",
    "        print(result[\"cluster_labels\"])\n",
    "    else:\n",
    "        print(f\"Error: {response.status_code}, {response.text}\")\n",
    "\n",
    "# Example usage\n",
    "image_path = \"/path/to/your/image.jpg\"\n",
    "get_people_from_image(image_path)"
   ]
  }
 ],
 "metadata": {
  "environment": {
   "kernel": "conda-env-pytorch-pytorch",
   "name": "workbench-notebooks.m113",
   "type": "gcloud",
   "uri": "gcr.io/deeplearning-platform-release/workbench-notebooks:m113"
  },
  "kernelspec": {
   "display_name": "Python 3 (ipykernel)",
   "language": "python",
   "name": "python3"
  },
  "language_info": {
   "codemirror_mode": {
    "name": "ipython",
    "version": 3
   },
   "file_extension": ".py",
   "mimetype": "text/x-python",
   "name": "python",
   "nbconvert_exporter": "python",
   "pygments_lexer": "ipython3",
   "version": "3.11.5"
  }
 },
 "nbformat": 4,
 "nbformat_minor": 5
}
